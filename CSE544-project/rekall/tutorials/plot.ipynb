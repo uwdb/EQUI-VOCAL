{
 "cells": [
  {
   "cell_type": "code",
   "execution_count": null,
   "metadata": {},
   "outputs": [],
   "source": [
    "import pandas as pd\n",
    "import numpy as np\n",
    "import matplotlib.pyplot as plt\n",
    "import seaborn as sns\n",
    "\n",
    "\n",
    "# Apply the default theme\n",
    "# sns.set_theme()\n",
    "sns.set(style=\"whitegrid\", font_scale=1)\n",
    "# Load a dataset\n",
    "df = pd.read_csv(\"query3_frame_rate.csv\")\n",
    "\n",
    "# sns.relplot(\n",
    "#     data=tips,\n",
    "#     x=\"total_bill\", y=\"tip\", col=\"time\",\n",
    "#     hue=\"smoker\", style=\"smoker\", size=\"size\",\n",
    "# )\n",
    "\n",
    "# plt.figure(figsize=(14,16))\n",
    "\n",
    "ax = sns.catplot(kind='bar', col=\"operation\", x=\"system\", y=\"Time (seconds)\", data=df, ci=None, aspect=.5).set(\n",
    "    xlabel=''\n",
    ")\n",
    "ticks = [0.1, 0.3, 1, 3, 10, 30, 100]\n",
    "# ticks = [0.1, 1, 10, 100]\n",
    "labels = [i for i in ticks]\n",
    "ax.set_titles(\"{col_name}\").despine(left=True).set(yscale=\"log\").set(ylim=(1, 100)).set(yticks = ticks, yticklabels = labels)\n",
    "# plt.xticks(rotation=45)\n",
    "plt.tight_layout()\n",
    " \n",
    "plt.savefig('other-plot.eps', format='eps')\n",
    "\n",
    "# for item in ax.get_xticklabels():\n",
    "#     item.set_rotation(45)\n",
    "    \n",
    "# ax.set_xticklabels(rotation=30)\n",
    "\n",
    "# boxplot = df.boxplot(by='threshold', column=['image_count'], grid=False, rot=45)"
   ]
  }
 ],
 "metadata": {
  "kernelspec": {
   "display_name": "Environment (conda_anaconda3)",
   "language": "python",
   "name": "conda_anaconda3"
  },
  "language_info": {
   "codemirror_mode": {
    "name": "ipython",
    "version": 3
   },
   "file_extension": ".py",
   "mimetype": "text/x-python",
   "name": "python",
   "nbconvert_exporter": "python",
   "pygments_lexer": "ipython3",
   "version": "3.7.6"
  }
 },
 "nbformat": 4,
 "nbformat_minor": 4
}
