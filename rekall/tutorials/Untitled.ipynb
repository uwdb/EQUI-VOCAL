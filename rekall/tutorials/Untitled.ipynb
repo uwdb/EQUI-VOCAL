{
 "cells": [
  {
   "cell_type": "code",
   "execution_count": 1,
   "metadata": {},
   "outputs": [
    {
     "name": "stdout",
     "output_type": "stream",
     "text": [
      "[{'num_frames': '1203', 'height': 720, 'width': 1280, 'fps': 29.982553792473208, 'filename': 'cabc30fc-e7726578.mov', 'id': 0}, {'num_frames': '1204', 'height': 720, 'width': 1280, 'fps': 29.99875420455961, 'filename': 'cabc30fc-eb673c5a.mov', 'id': 1}, {'num_frames': '1203', 'height': 720, 'width': 1280, 'fps': 30.006235709831635, 'filename': 'cabc30fc-fd79926f.mov', 'id': 2}, {'num_frames': '1207', 'height': 720, 'width': 1280, 'fps': 30.153641170837325, 'filename': 'cabc9045-1b8282ba.mov', 'id': 3}, {'num_frames': '1210', 'height': 720, 'width': 1280, 'fps': 30.077056922694506, 'filename': 'cabc9045-5a50690f.mov', 'id': 4}]\n"
     ]
    }
   ],
   "source": [
    "%load_ext autoreload\n",
    "%autoreload 2\n",
    "from rekall import Interval, IntervalSet, IntervalSetMapping, Bounds3D\n",
    "from rekall.predicates import *\n",
    "from helpers import *\n",
    "import time "
   ]
  },
  {
   "cell_type": "markdown",
   "metadata": {},
   "source": [
    "model loading time:  4 seconds\\\n",
    "model execution time:  1090 seconds = 18 minutes 10 seconds \\\n",
    "bbox file construct time:  5 seconds\\\n",
    "total time:  1140 seconds = 19 minutes"
   ]
  },
  {
   "cell_type": "markdown",
   "metadata": {},
   "source": [
    "BDD dataset\n",
    "model loading time:  3.995898962020874\n",
    "model execution time:  21036.874676465988\n",
    "video loading time:  2.407963275909424\n",
    "bbox file construct time:  187.2285144329071\n",
    "total time:  21806.02480006218"
   ]
  },
  {
   "cell_type": "code",
   "execution_count": 2,
   "metadata": {},
   "outputs": [
    {
     "data": {
      "application/vnd.jupyter.widget-view+json": {
       "model_id": "d41cb8baa372425b846a8dd2d9692a4b",
       "version_major": 2,
       "version_minor": 0
      },
      "text/plain": [
       "VGridWidget(vgrid_spec={'interval_blocks': [{'interval_sets': [{'name': '0', 'interval_set': [{'bounds': {'t1'…"
      ]
     },
     "metadata": {},
     "output_type": "display_data"
    }
   ],
   "source": [
    "bboxes = get_maskrcnn_bboxes()\n",
    "visualize_helper([bboxes])"
   ]
  },
  {
   "cell_type": "code",
   "execution_count": 3,
   "metadata": {},
   "outputs": [
    {
     "name": "stdout",
     "output_type": "stream",
     "text": [
      "{'traffic light': 11456, 'car': 44945, 'bicycle': 598, 'baseball bat': 1, 'book': 1, 'person': 3083, 'umbrella': 30, 'bus': 805, 'train': 11, 'truck': 2063, 'stop sign': 37, 'bench': 331, 'motorbike': 635, 'handbag': 32, 'chair': 76, 'parking meter': 2, 'elephant': 1, 'backpack': 8, 'cup': 1, 'pottedplant': 14, 'vase': 2, 'fire hydrant': 14, 'skateboard': 3, 'tvmonitor': 24, 'mouse': 16, 'clock': 1, 'sheep': 12, 'aeroplane': 5, 'suitcase': 20, 'bottle': 1, 'boat': 8, 'surfboard': 6, 'skis': 2, 'kite': 12, 'horse': 1, 'microwave': 3, 'toilet': 1}\n"
     ]
    }
   ],
   "source": [
    "object_classes = {}\n",
    "for k in bboxes:\n",
    "    for interval in bboxes[k].get_intervals():\n",
    "        if interval['payload']['class'] not in object_classes:\n",
    "            object_classes[interval['payload']['class']] = 1\n",
    "        else:\n",
    "            object_classes[interval['payload']['class']] += 1\n",
    "print(object_classes)"
   ]
  },
  {
   "cell_type": "code",
   "execution_count": 4,
   "metadata": {},
   "outputs": [],
   "source": [
    "bikes = bboxes.filter(lambda interval: interval['payload']['class'] == 'bicycle')\n",
    "person = bboxes.filter(lambda interval: interval['payload']['class'] == 'person')\n",
    "car = bboxes.filter(lambda interval: interval['payload']['class'] == 'car')\n",
    "truck = bboxes.filter(lambda interval: interval['payload']['class'] == 'truck')\n",
    "stop_sign = bboxes.filter(lambda interval: interval['payload']['class'] == 'stop sign')\n",
    "traffic_light = bboxes.filter(lambda interval: interval['payload']['class'] == 'traffic light')"
   ]
  },
  {
   "cell_type": "code",
   "execution_count": 5,
   "metadata": {},
   "outputs": [
    {
     "data": {
      "application/vnd.jupyter.widget-view+json": {
       "model_id": "7dbab4cb361e4a0eba4890bfe4f3b360",
       "version_major": 2,
       "version_minor": 0
      },
      "text/plain": [
       "VGridWidget(vgrid_spec={'interval_blocks': [{'interval_sets': [{'name': '0', 'interval_set': [{'bounds': {'t1'…"
      ]
     },
     "metadata": {},
     "output_type": "display_data"
    }
   ],
   "source": [
    "visualize_helper([car])"
   ]
  },
  {
   "cell_type": "code",
   "execution_count": 6,
   "metadata": {},
   "outputs": [],
   "source": [
    "bike_trackings = bikes.coalesce(\n",
    "    ('t1', 't2'),\n",
    "    bounds_merge_op = Bounds3D.span,\n",
    "    predicate = iou_at_least(0.1),\n",
    "    epsilon = 5\n",
    ")\n",
    "\n",
    "bike_trackings_filtered = bike_trackings.filter_size(\n",
    "    min_size = 1\n",
    ")"
   ]
  },
  {
   "cell_type": "code",
   "execution_count": 7,
   "metadata": {},
   "outputs": [],
   "source": [
    "# car_trackings = car.coalesce(\n",
    "#     ('t1', 't2'),\n",
    "#     bounds_merge_op = Bounds3D.span,\n",
    "#     predicate = iou_at_least(0.5)\n",
    "# )\n",
    "\n",
    "# car_trackings_filtered = car_trackings.filter_size(\n",
    "#     min_size = 5\n",
    "# )"
   ]
  },
  {
   "cell_type": "code",
   "execution_count": 8,
   "metadata": {},
   "outputs": [],
   "source": [
    "truck_trackings = truck.coalesce(\n",
    "    ('t1', 't2'),\n",
    "    bounds_merge_op = Bounds3D.span,\n",
    "    predicate = iou_at_least(0.5),\n",
    "    epsilon=3\n",
    ")\n",
    "\n",
    "truck_trackings_filtered = truck_trackings.filter_size(\n",
    "    min_size = 2\n",
    ")"
   ]
  },
  {
   "cell_type": "code",
   "execution_count": 9,
   "metadata": {},
   "outputs": [
    {
     "name": "stderr",
     "output_type": "stream",
     "text": [
      "100%|██████████| 4/4 [00:00<00:00, 10324.44it/s]\n"
     ]
    }
   ],
   "source": [
    "truck_before_bike = truck_trackings_filtered.join(\n",
    "    bike_trackings_filtered,\n",
    "    predicate = Bounds3D.T(before(min_dist=0, max_dist=20)),\n",
    "    merge_op = lambda interval1, interval2: Interval(\n",
    "        interval1['bounds'].span(interval2['bounds'])\n",
    "    ),\n",
    "    window = 20.0,\n",
    "    progress_bar = True\n",
    ")"
   ]
  },
  {
   "cell_type": "markdown",
   "metadata": {},
   "source": [
    "# Truck, followed by bike, with time window = 20.0 s"
   ]
  },
  {
   "cell_type": "code",
   "execution_count": 10,
   "metadata": {},
   "outputs": [
    {
     "name": "stderr",
     "output_type": "stream",
     "text": [
      "100%|██████████| 5/5 [00:00<00:00, 1017.15it/s]"
     ]
    },
    {
     "name": "stdout",
     "output_type": "stream",
     "text": [
      "query time:  12.639005422592163\n"
     ]
    },
    {
     "name": "stderr",
     "output_type": "stream",
     "text": [
      "\n"
     ]
    },
    {
     "data": {
      "application/vnd.jupyter.widget-view+json": {
       "model_id": "bb516ced8eb042ee8aaabc399ccdc39e",
       "version_major": 2,
       "version_minor": 0
      },
      "text/plain": [
       "VGridWidget(vgrid_spec={'interval_blocks': [{'interval_sets': [{'name': '0', 'interval_set': [{'bounds': {'t1'…"
      ]
     },
     "metadata": {},
     "output_type": "display_data"
    }
   ],
   "source": [
    "tik = time.time()\n",
    "bboxes = get_maskrcnn_bboxes()\n",
    "\n",
    "car = bboxes.filter(lambda interval: interval['payload']['class'] == 'car')\n",
    "truck = bboxes.filter(lambda interval: interval['payload']['class'] == 'truck')\n",
    "\n",
    "car_trackings = car.coalesce(\n",
    "    ('t1', 't2'),\n",
    "    bounds_merge_op = Bounds3D.span,\n",
    "    predicate = iou_at_least(0.5),\n",
    "    epsilon = 0\n",
    ")\n",
    "\n",
    "car_trackings_filtered = car_trackings.filter_size(\n",
    "    min_size = 1\n",
    ")\n",
    "\n",
    "truck_trackings = truck.coalesce(\n",
    "    ('t1', 't2'),\n",
    "    bounds_merge_op = Bounds3D.span,\n",
    "    predicate = iou_at_least(0.5),\n",
    "    epsilon = 0\n",
    ")\n",
    "\n",
    "truck_trackings_filtered = truck_trackings.filter_size(\n",
    "    min_size = 1\n",
    ")\n",
    "\n",
    "truck_before_car = truck_trackings_filtered.join(\n",
    "    car_trackings_filtered,\n",
    "    predicate = Bounds3D.T(before(min_dist=0, max_dist=10)),\n",
    "    merge_op = lambda interval1, interval2: Interval(\n",
    "        interval1['bounds'].span(interval2['bounds'])\n",
    "    ),\n",
    "    window = 10.0,\n",
    "    progress_bar = True\n",
    ")\n",
    "tok = time.time()\n",
    "\n",
    "print(\"query time: \", tok - tik)\n",
    "\n",
    "visualize_helper([truck_before_car, truck_trackings_filtered, car_trackings_filtered])"
   ]
  },
  {
   "cell_type": "markdown",
   "metadata": {},
   "source": [
    "# Count Number of Cars\n",
    "\n",
    "count(cars + trucks) < 5; count(cars + trucks) > 20; count(cars + trucks) < 5.\n",
    "\n",
    "Q4: Traffic is light, then heavy, then light again; scenario: bridge is open/close, which affects the traffic condition. \n",
    "\n",
    "\\begin{equation}\n",
    "\\begin{split}\n",
    "     &\\text{PATTERN } group\\_of\\_cars\\ a; group\\_of\\_cars\\ b; group\\_of\\_cars\\ c \\\\\n",
    "    &\\text{WHERE } a.count < 5 \\text{ AND } b.count > 20 \\text{ AND } c.count < 5\\\\\n",
    "    & \\text{WITHIN } 2 \\text{ hours}\n",
    "\\end{split}\n",
    "\\end{equation}\n",
    "\n",
    "**Note:**\n",
    "- Doesn't seem to support specifying a time window for a sequence of more than 2 events.\n",
    "- Operations are either unary of binary."
   ]
  },
  {
   "cell_type": "code",
   "execution_count": 11,
   "metadata": {
    "scrolled": false
   },
   "outputs": [
    {
     "name": "stderr",
     "output_type": "stream",
     "text": [
      "100%|██████████| 5/5 [00:00<00:00, 136.22it/s]\n",
      "100%|██████████| 5/5 [00:00<00:00, 10.24it/s]"
     ]
    },
    {
     "name": "stdout",
     "output_type": "stream",
     "text": [
      "query time:  3.7051639556884766\n"
     ]
    },
    {
     "name": "stderr",
     "output_type": "stream",
     "text": [
      "\n"
     ]
    },
    {
     "data": {
      "application/vnd.jupyter.widget-view+json": {
       "model_id": "311da3777a2d43ccaf93af74fd778eeb",
       "version_major": 2,
       "version_minor": 0
      },
      "text/plain": [
       "VGridWidget(vgrid_spec={'interval_blocks': [], 'settings': {'spinner_dev_mode': False, 'key_mode': 'Jupyter', …"
      ]
     },
     "metadata": {},
     "output_type": "display_data"
    }
   ],
   "source": [
    "\n",
    "    \n",
    "tik = time.time()\n",
    "bboxes = get_maskrcnn_bboxes()\n",
    "\n",
    "car = bboxes.filter(lambda interval: interval['payload']['class'] == 'car')\n",
    "truck = bboxes.filter(lambda interval: interval['payload']['class'] == 'truck')\n",
    "car_and_truck = car.union(truck)\n",
    "\n",
    "counts_per_frame = car_and_truck.group_by(\n",
    "    key=lambda obj: (obj[\"t1\"], obj[\"t2\"]), \n",
    "    merge=lambda key, intervalset: Interval(\n",
    "        Bounds3D(key[0], key[1], 0.3, 0.7, 0.3, 0.7), \n",
    "        payload={ 'count': intervalset.size() }\n",
    "    ) \n",
    ")\n",
    "\n",
    "count_gt_20 = counts_per_frame.filter(lambda intrvl: intrvl['payload']['count'] > 20)\n",
    "count_lt_5 = counts_per_frame.filter(lambda intrvl: intrvl['payload']['count'] < 5)\n",
    "\n",
    "ls5_gt20 = count_lt_5.join(\n",
    "    count_gt_20,\n",
    "    predicate = Bounds3D.T(before(min_dist=0, max_dist=20)),\n",
    "    merge_op = lambda interval1, interval2: Interval(\n",
    "        interval1['bounds'].span(interval2['bounds'])\n",
    "    ),\n",
    "    window = 20.0,\n",
    "    progress_bar = True\n",
    ")\n",
    "\n",
    "ls5_gt20_ls5 = ls5_gt20.join(\n",
    "    count_lt_5,\n",
    "    predicate = Bounds3D.T(before(min_dist=0, max_dist=20)),\n",
    "    merge_op = lambda interval1, interval2: Interval(\n",
    "        interval1['bounds'].span(interval2['bounds'])\n",
    "    ),\n",
    "    window = 20.0,\n",
    "    progress_bar = True\n",
    ")\n",
    "\n",
    "tok = time.time()\n",
    "\n",
    "print(\"query time: \", tok - tik)\n",
    "\n",
    "visualize_helper([ls5_gt20_ls5, count_lt_5, count_gt_20, car, truck])"
   ]
  },
  {
   "cell_type": "code",
   "execution_count": 12,
   "metadata": {},
   "outputs": [
    {
     "name": "stdout",
     "output_type": "stream",
     "text": [
      "{}\n"
     ]
    }
   ],
   "source": [
    "print(ls5_gt20_ls5)"
   ]
  }
 ],
 "metadata": {
  "kernelspec": {
   "display_name": "Python 3",
   "language": "python",
   "name": "python3"
  },
  "language_info": {
   "codemirror_mode": {
    "name": "ipython",
    "version": 3
   },
   "file_extension": ".py",
   "mimetype": "text/x-python",
   "name": "python",
   "nbconvert_exporter": "python",
   "pygments_lexer": "ipython3",
   "version": "3.7.6"
  }
 },
 "nbformat": 4,
 "nbformat_minor": 4
}
