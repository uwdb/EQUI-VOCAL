{
 "cells": [
  {
   "cell_type": "markdown",
   "metadata": {},
   "source": [
    "# Rekall Tutorial: Empty Parking Space Detection\n",
    "\n",
    "In this tutorial, you'll learn how to use Rekall's programming model to detect empty parking spaces in a fixed-angle camera feed of a parking lot -- using nothing more than the outputs of an off-the-shelf object detector!\n",
    "\n",
    "You should complete this tutorial after the Cyclist Detection tutorial.\n",
    "\n",
    "Again, let's start by importing Rekall and a few important classes:"
   ]
  },
  {
   "cell_type": "code",
   "execution_count": 1,
   "metadata": {},
   "outputs": [],
   "source": [
    "%load_ext autoreload\n",
    "%autoreload 2\n",
    "from rekall import Interval, IntervalSet, IntervalSetMapping, Bounds3D\n",
    "from rekall.predicates import *"
   ]
  },
  {
   "cell_type": "markdown",
   "metadata": {},
   "source": [
    "We'll again provide some helpers to handle data loading and visualization. For more details about what's going on with these helpers, check out the data loading and visualization tutorial."
   ]
  },
  {
   "cell_type": "code",
   "execution_count": 2,
   "metadata": {},
   "outputs": [],
   "source": [
    "from empty_parking_space_tutorial_helpers import *"
   ]
  },
  {
   "cell_type": "markdown",
   "metadata": {},
   "source": [
    "And now let's load up the pre-computed bounding box detections:"
   ]
  },
  {
   "cell_type": "code",
   "execution_count": 3,
   "metadata": {},
   "outputs": [
    {
     "name": "stderr",
     "output_type": "stream",
     "text": [
      "100%|██████████| 2/2 [00:00<00:00, 66.11it/s]\n"
     ]
    }
   ],
   "source": [
    "bboxes = get_maskrcnn_bboxes()"
   ]
  },
  {
   "cell_type": "markdown",
   "metadata": {},
   "source": [
    "And visualize them:"
   ]
  },
  {
   "cell_type": "code",
   "execution_count": 4,
   "metadata": {},
   "outputs": [
    {
     "data": {
      "application/vnd.jupyter.widget-view+json": {
       "model_id": "aa6a94785c3c4d6fbcd8147cb0ffb3b7",
       "version_major": 2,
       "version_minor": 0
      },
      "text/plain": [
       "VGridWidget(vgrid_spec={'compressed': True, 'data': b'x\\x9c\\xcc\\xbd\\xdb\\x8em\\xc9qd\\xfb+\\r>7\\x0e\\xe2~\\xe9\\xc7\\x…"
      ]
     },
     "metadata": {},
     "output_type": "display_data"
    }
   ],
   "source": [
    "visualize_helper([bboxes])"
   ]
  },
  {
   "cell_type": "markdown",
   "metadata": {},
   "source": [
    "If you click on the second video, you can see that there are sometimes empty parking spaces in this parking lot. Our goal is to detect these by creating an `IntervalSetMapping` object that contains all the empty parking spaces in these videos."
   ]
  },
  {
   "cell_type": "markdown",
   "metadata": {},
   "source": [
    "# Task: detect all empty parking spaces\n",
    "\n",
    "Your goal is to write a Rekall program to detect all empty parking spaces (visualized in the second timeline above).\n",
    "\n",
    "We're starting with a `IntervalSetMapping` object, `bounding_boxes`, that contains detections from Mask R-CNN. The Intervals contain 3D bounds, and the payloads contain the class and the class score:"
   ]
  },
  {
   "cell_type": "code",
   "execution_count": 5,
   "metadata": {},
   "outputs": [
    {
     "data": {
      "text/plain": [
       "<Interval t1:0.0 t2:30.0 x1:0.0 x2:0.08424050211906434 y1:0.5207680172390408 y2:0.6528446621365017 payload:{'class': 'car', 'score': 0.9638893008232117, 'spatial_type': <vgrid.spatial_type.SpatialType_Bbox object at 0x7fcef51997d0>}>"
      ]
     },
     "execution_count": 5,
     "metadata": {},
     "output_type": "execute_result"
    }
   ],
   "source": [
    "bboxes[0].get_intervals()[0]"
   ]
  },
  {
   "cell_type": "markdown",
   "metadata": {},
   "source": [
    "The bounding boxes are sampled every thirty seconds (hence why the Interval above has time bounds of 0 to 30), and so are the ground truth annotations.\n",
    "\n",
    "The goal is to write a query that detects all the **empty parking spaces** in our videos.\n",
    "\n",
    "This task is inspired by [this Medium blog post](https://medium.com/@ageitgey/snagging-parking-spaces-with-mask-r-cnn-and-python-955f2231c400):\n",
    "* They use an off-the-shelf object detector to detect cars (like what we have in `bboxes`)\n",
    "* They take a timestamp where all the parking spots are full, and use car detections to get parking spots\n",
    "* Then empty parking spots are just parking spots where there are no cars\n",
    "\n",
    "We'll be following these steps in this tutorial!"
   ]
  },
  {
   "cell_type": "markdown",
   "metadata": {},
   "source": [
    "# Step 1: Detect Parking Spaces\n",
    "\n",
    "Before we detect empty parking spaces, we first need to detect parking spaces! Luckily, every parking space is filled at the beginning of the first video. We can use the **car detections** at the beginning of this video to construct an `IntervalSetMapping` object corresponding to parking spaces in both videos.\n",
    "\n",
    "Let's begin by looking at the video ID's of our videos:"
   ]
  },
  {
   "cell_type": "code",
   "execution_count": 7,
   "metadata": {},
   "outputs": [
    {
     "data": {
      "text/plain": [
       "dict_keys([2, 0])"
      ]
     },
     "execution_count": 7,
     "metadata": {},
     "output_type": "execute_result"
    }
   ],
   "source": [
    "bboxes.keys()"
   ]
  },
  {
   "cell_type": "markdown",
   "metadata": {},
   "source": [
    "Videos are sorted by ID, so we know that the video on the left is video 0.\n",
    "\n",
    "Let's start by getting all the car detections at the beginning of the video. We can reference the `IntervalSet` corresponding to video `0` as follows:\n",
    "\n",
    "```Python\n",
    "bboxes[0]\n",
    "```\n",
    "\n",
    "And filter down to the car detections at the beginning of video `0` like this:\n",
    "\n",
    "```Python\n",
    "parking_spot_candidates = bboxes[0].filter(\n",
    "    lambda intrvl: intrvl['t1'] == 0.0 and intrvl['payload']['class'] == 'car'\n",
    ")\n",
    "```\n",
    "\n",
    "Try it yourself below!"
   ]
  },
  {
   "cell_type": "code",
   "execution_count": 8,
   "metadata": {},
   "outputs": [],
   "source": [
    "# Construct parking spot candidates!\n",
    "parking_spot_candidates = bboxes[0].filter(\n",
    "    lambda intrvl: intrvl['t1'] == 0.0 and intrvl['payload']['class'] == 'car'\n",
    ")"
   ]
  },
  {
   "cell_type": "markdown",
   "metadata": {},
   "source": [
    "`parking_spot_candidates` contains all the car detections at time `0` of video `0`. Next, we want to create `parking_spots`, an `IntervalSetMapping` object that represents all the parking spots (empty or not) in both of our videos.\n",
    "\n",
    "We'll need to create a new `IntervalSetMapping` object called `parking_spots` that contains:\n",
    "* Two keys (`0` and `2`), each of which points to an `IntervalSet` that contains parking spots\n",
    "* Each `IntervalSet` should have `Intervals` for each parking spot in the parking lot\n",
    "* Since our object detections are sampled once every 30 seconds, we can sample the parking spot objects once every thirty seconds as well\n",
    "\n",
    "Go ahead and give this a try now! This is very similar to the checkpoint exercise in the cyclist detection tutorial. Solution is below."
   ]
  },
  {
   "cell_type": "code",
   "execution_count": 9,
   "metadata": {},
   "outputs": [],
   "source": [
    "# Construct parking spots!\n",
    "video_lengths = {\n",
    "    key: bboxes[key].get_intervals()[-1]['t2']\n",
    "    for key in bboxes.keys()\n",
    "}\n",
    "\n",
    "parking_spots = IntervalSetMapping({\n",
    "    key: IntervalSet([\n",
    "        Interval(Bounds3D(\n",
    "            t1 = t,\n",
    "            t2 = t + 30, # Make the interval last 30 seconds\n",
    "            x1 = parking_spot['x1'],\n",
    "            x2 = parking_spot['x2'],\n",
    "            y1 = parking_spot['y1'],\n",
    "            y2 = parking_spot['y2']\n",
    "        ))\n",
    "        for parking_spot in parking_spot_candidates.get_intervals() # For each parking spot\n",
    "        for t in range(0, int(video_lengths[key]), 30)\n",
    "    ])\n",
    "    for key in bboxes.keys()\n",
    "})"
   ]
  },
  {
   "cell_type": "markdown",
   "metadata": {},
   "source": [
    "Exercise solution:\n",
    "\n",
    "```Python\n",
    "video_lengths = {\n",
    "    key: bboxes[key].get_intervals()[-1]['t2']\n",
    "    for key in bboxes.keys()\n",
    "}\n",
    "\n",
    "parking_spots = IntervalSetMapping({\n",
    "    key: IntervalSet([\n",
    "        Interval(Bounds3D(\n",
    "            t1 = t,\n",
    "            t2 = t + 30, # Make the interval last 30 seconds\n",
    "            x1 = parking_spot['x1'],\n",
    "            x2 = parking_spot['x2'],\n",
    "            y1 = parking_spot['y1'],\n",
    "            y2 = parking_spot['y2']\n",
    "        ))\n",
    "        for parking_spot in parking_spot_candidates.get_intervals() # For each parking spot\n",
    "        for t in range(0, int(video_lengths[key]), 30)\n",
    "    ])\n",
    "    for key in bboxes.keys()\n",
    "})\n",
    "```\n",
    "\n",
    "Let's take a moment to visualize `parking_spots` and make sure it looks right -- you should have bounding boxes over each parking spot for the duration of the video."
   ]
  },
  {
   "cell_type": "code",
   "execution_count": 10,
   "metadata": {},
   "outputs": [
    {
     "data": {
      "application/vnd.jupyter.widget-view+json": {
       "model_id": "bc6582b5b46e4587856d7ce504b3583c",
       "version_major": 2,
       "version_minor": 0
      },
      "text/plain": [
       "VGridWidget(vgrid_spec={'compressed': True, 'data': b'x\\x9c\\xdd\\xddOo\\x1b\\x07b\\x87\\xe1\\xaf\\xb2p\\xafE\\xc2?C\\x0e…"
      ]
     },
     "metadata": {},
     "output_type": "display_data"
    }
   ],
   "source": [
    "visualize_helper([parking_spots])"
   ]
  },
  {
   "cell_type": "markdown",
   "metadata": {},
   "source": [
    "# Step 2: Detect Empty Parking Spaces using `minus`\n",
    "\n",
    "Now we have `parking_spots`, which represents all the parking spots in our video feeds, and we want to detect the empty parking spots.\n",
    "\n",
    "This is a great use of Rekall's [`minus`](https://rekallpy.readthedocs.io/en/latest/index.html#rekall.IntervalSet.minus) function:\n",
    "![simple_minus.png](https://storage.googleapis.com/esper/dan_olimar/rekall_tutorials/simple_minus.png)\n",
    "\n",
    "We can use the `minus` function to find all the instances where a parking spot does not have sufficient overlap with a car:\n",
    "\n",
    "```Python\n",
    "cars = bboxes.filter(\n",
    "    lambda intrvl: intrvl['payload']['class'] == 'car'\n",
    ")\n",
    "\n",
    "empty_parking_spots = parking_spots.minus(\n",
    "    cars,\n",
    "    predicate = and_pred(\n",
    "        Bounds3D.T(overlaps()),\n",
    "        Bounds3D.X(overlaps()),\n",
    "        Bounds3D.Y(overlaps()),\n",
    "        iou_at_least(0.25)\n",
    "    ),\n",
    "    window=0.0,\n",
    "    progress_bar=True\n",
    ")\n",
    "```\n",
    "\n",
    "This code takes any parking spot detection that overlaps with a detected car Interval with [IOU](https://www.pyimagesearch.com/2016/11/07/intersection-over-union-iou-for-object-detection/) at least 0.25, and removes it from the set. The remaining Intervals are empty parking spots.\n",
    "\n",
    "Try it yourself below (it'll take about ten seconds)!"
   ]
  },
  {
   "cell_type": "code",
   "execution_count": 11,
   "metadata": {},
   "outputs": [
    {
     "name": "stderr",
     "output_type": "stream",
     "text": [
      "100%|██████████| 2/2 [00:15<00:00,  7.63s/it]\n"
     ]
    }
   ],
   "source": [
    "# Detect empty parking spots\n",
    "cars = bboxes.filter(\n",
    "    lambda intrvl: intrvl['payload']['class'] == 'car'\n",
    ")\n",
    "\n",
    "empty_parking_spots = parking_spots.minus(\n",
    "    cars,\n",
    "    predicate = and_pred(\n",
    "        Bounds3D.T(overlaps()),\n",
    "        Bounds3D.X(overlaps()),\n",
    "        Bounds3D.Y(overlaps()),\n",
    "        iou_at_least(0.25)\n",
    "    ),\n",
    "    window=0.0,\n",
    "    progress_bar=True\n",
    ")"
   ]
  },
  {
   "cell_type": "markdown",
   "metadata": {},
   "source": [
    "And let's visualize the results:"
   ]
  },
  {
   "cell_type": "code",
   "execution_count": 12,
   "metadata": {},
   "outputs": [
    {
     "data": {
      "application/vnd.jupyter.widget-view+json": {
       "model_id": "635ec4e2007d4116918f3f74bc02b624",
       "version_major": 2,
       "version_minor": 0
      },
      "text/plain": [
       "VGridWidget(vgrid_spec={'compressed': True, 'data': b'x\\x9c\\xed\\x9dKo\\xe3\\xd8\\x11\\x85\\xffJC\\xd9\\x06\\xf6}?z1\\x8…"
      ]
     },
     "metadata": {},
     "output_type": "display_data"
    }
   ],
   "source": [
    "visualize_helper([empty_parking_spots])"
   ]
  },
  {
   "cell_type": "markdown",
   "metadata": {},
   "source": [
    "# Step 3: Remove False Positives with `coalesce` and `filter_size`\n",
    "\n",
    "So this is pretty good! But we have some false positives due to errors in the object detector; sometimes the cars are not detected. This results in parking spots that appear for 30 seconds at a time before disappearing. Let's remove some of these false positives by removing any parking spots that appear for less than a few minutes!\n",
    "\n",
    "This is a great chance to use Rekall's [`coalesce`](https://rekallpy.readthedocs.io/en/latest/index.html#rekall.IntervalSet.coalesce) function:\n",
    "![simple_coalesce.png](https://storage.googleapis.com/esper/dan_olimar/rekall_tutorials/simple_coalesce.png)\n",
    "\n",
    "We'll use the `coalesce` function to merge all parking spots that are adjacent in time and overlapping in space:\n",
    "\n",
    "```Python\n",
    "empty_parking_spots_merged = empty_parking_spots.coalesce(\n",
    "    ('t1', 't2'),\n",
    "    bounds_merge_op = Bounds3D.span,\n",
    "    predicate = iou_at_least(0.5)\n",
    ")\n",
    "```\n",
    "\n",
    "Let's break down what's happening here:\n",
    "* `coalesce` recursively merges all overlapping or touching Intervals along some axis (in this case, time).\n",
    "* We merge the bounds by taking the span of the existing Intervals and the new Interval.\n",
    "* We add in a predicate that we should only merge in new intervals if the IOU is at least 0.5.\n",
    "* At the end, we have a Interval that covers the entire contiguous spacetime volume of an empty parking spot.\n",
    "\n",
    "Then we can filter the resulting set by length to remove any parking spots that appear for less than four minutes:\n",
    "```Python\n",
    "empty_parking_spots_filtered = empty_parking_spots_merged.filter_size(\n",
    "    min_size = 60 * 4\n",
    ")\n",
    "```\n",
    "\n",
    "Try it yourself below!"
   ]
  },
  {
   "cell_type": "code",
   "execution_count": 14,
   "metadata": {},
   "outputs": [
    {
     "data": {
      "application/vnd.jupyter.widget-view+json": {
       "model_id": "e648925c22c44f98bf3a8c21a8384291",
       "version_major": 2,
       "version_minor": 0
      },
      "text/plain": [
       "VGridWidget(vgrid_spec={'compressed': True, 'data': b'x\\x9c\\xbdU\\xc9n\\xdb0\\x10\\xfd\\x95@\\xbd\\x16\\x16\\xf7%\\x87\\x…"
      ]
     },
     "metadata": {},
     "output_type": "display_data"
    }
   ],
   "source": [
    "empty_parking_spots_merged = empty_parking_spots.coalesce(\n",
    "    ('t1', 't2'),\n",
    "    bounds_merge_op = Bounds3D.span,\n",
    "    predicate = iou_at_least(0.5)\n",
    ")\n",
    "\n",
    "empty_parking_spots_filtered = empty_parking_spots_merged.filter_size(\n",
    "    min_size = 60 * 4\n",
    ")\n",
    "\n",
    "visualize_helper([empty_parking_spots_filtered])"
   ]
  },
  {
   "cell_type": "markdown",
   "metadata": {},
   "source": [
    "This turns out to do pretty well! We have completely removed all the false detections from the first video (hence why it doesn't appear anymore), and we've removed many of the false detections from the second video."
   ]
  },
  {
   "cell_type": "markdown",
   "metadata": {},
   "source": [
    "# Step 4: Continue Debugging On Your Own\n",
    "\n",
    "Now it's your turn! Can you modify the above code to get rid of even more false positives? Here's a few hints:\n",
    "* We've fixed some issues with objects not being detected using the `coalesce` and `filter_size` functions, but what other issues might the object detector have?\n",
    "* In particular, are there cases where a car could be mis-classified as something else?\n",
    "* Try visualizing object classes like people, cars, and trucks to see what could be going on...\n",
    "* This task was discussed in the [Rekall tech report](http://www.danfu.org/projects/rekall-tech-report/) (with pseudocode), so take a look at that for our solution!"
   ]
  },
  {
   "cell_type": "code",
   "execution_count": null,
   "metadata": {},
   "outputs": [],
   "source": [
    "# Play around on your own!\n"
   ]
  },
  {
   "cell_type": "markdown",
   "metadata": {},
   "source": [
    "# Congratulations!\n",
    "\n",
    "You've now written a pretty complex Rekall query to detect empty parking spots. If you haven't already, check out the [Rekall tech report](http://www.danfu.org/projects/rekall-tech-report/) to read about some of the other cool things we've been able to do with Rekall.\n",
    "\n",
    "Next, check out the data loading and visualization tutorial to get more familiar with the nitty-gritty of how to visualize data with Rekall and Vgrid."
   ]
  }
 ],
 "metadata": {
  "kernelspec": {
   "display_name": "Python 3",
   "language": "python",
   "name": "python3"
  },
  "language_info": {
   "codemirror_mode": {
    "name": "ipython",
    "version": 3
   },
   "file_extension": ".py",
   "mimetype": "text/x-python",
   "name": "python",
   "nbconvert_exporter": "python",
   "pygments_lexer": "ipython3",
   "version": "3.7.6"
  }
 },
 "nbformat": 4,
 "nbformat_minor": 2
}
