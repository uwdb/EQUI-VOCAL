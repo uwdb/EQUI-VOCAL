{
 "cells": [
  {
   "cell_type": "markdown",
   "metadata": {},
   "source": [
    "# Single trajectory query\n"
   ]
  },
  {
   "cell_type": "markdown",
   "metadata": {},
   "source": [
    "* old metric: $score=sum(D*Q) *(sum(D) +sum(Q))/0.5$\n",
    "* new metric (IOU): $score=sum(D*Q)/sum(D | Q)$"
   ]
  },
  {
   "cell_type": "code",
   "execution_count": 1,
   "metadata": {},
   "outputs": [],
   "source": [
    "from IPython.core.display import HTML\n",
    "from IPython.display import display\n",
    "import os "
   ]
  },
  {
   "cell_type": "code",
   "execution_count": 39,
   "metadata": {},
   "outputs": [
    {
     "data": {
      "text/html": [
       "<h1>query_track_id = 360</h1><h2>query track:</h2><img src=\"/mmfs1/gscratch/balazinska/enhaoz/complex_event_video/tmp/track_mot_new_metric/360/pos_samples/000360.jpg\" style=\"height: 150px;\"/><h2>top10 tracks:</h2>"
      ],
      "text/plain": [
       "<IPython.core.display.HTML object>"
      ]
     },
     "metadata": {},
     "output_type": "display_data"
    },
    {
     "data": {
      "text/html": [
       "<div style=\"white-space: nowrap; overflow: scroll; position: relative;\"><div style=\"display: inline\"><div style=\"display: inline; position:absolute; bottom:10px; font-size:medium;\">Rank: 1, score: 0.566</div><img src=\"/mmfs1/gscratch/balazinska/enhaoz/complex_event_video/tmp/track_mot_new_metric/360/topk_preds/1_000353_0.5656363636363636.jpg\" style=\"height: 150px; margin: 0px 20px 40px 0px;\"/></div><div style=\"display: inline\"><div style=\"display: inline; position:absolute; bottom:10px; font-size:medium;\">Rank: 2, score: 0.498</div><img src=\"/mmfs1/gscratch/balazinska/enhaoz/complex_event_video/tmp/track_mot_new_metric/360/topk_preds/2_000364_0.49846733507886837.jpg\" style=\"height: 150px; margin: 0px 20px 40px 0px;\"/></div><div style=\"display: inline\"><div style=\"display: inline; position:absolute; bottom:10px; font-size:medium;\">Rank: 3, score: 0.435</div><img src=\"/mmfs1/gscratch/balazinska/enhaoz/complex_event_video/tmp/track_mot_new_metric/360/topk_preds/3_000352_0.4353503113630784.jpg\" style=\"height: 150px; margin: 0px 20px 40px 0px;\"/></div><div style=\"display: inline\"><div style=\"display: inline; position:absolute; bottom:10px; font-size:medium;\">Rank: 4, score: 0.388</div><img src=\"/mmfs1/gscratch/balazinska/enhaoz/complex_event_video/tmp/track_mot_new_metric/360/topk_preds/4_000303_0.38786939523088304.jpg\" style=\"height: 150px; margin: 0px 20px 40px 0px;\"/></div><div style=\"display: inline\"><div style=\"display: inline; position:absolute; bottom:10px; font-size:medium;\">Rank: 5, score: 0.364</div><img src=\"/mmfs1/gscratch/balazinska/enhaoz/complex_event_video/tmp/track_mot_new_metric/360/topk_preds/5_000370_0.3639520432780174.jpg\" style=\"height: 150px; margin: 0px 20px 40px 0px;\"/></div><div style=\"display: inline\"><div style=\"display: inline; position:absolute; bottom:10px; font-size:medium;\">Rank: 6, score: 0.283</div><img src=\"/mmfs1/gscratch/balazinska/enhaoz/complex_event_video/tmp/track_mot_new_metric/360/topk_preds/6_000374_0.28298904257230106.jpg\" style=\"height: 150px; margin: 0px 20px 40px 0px;\"/></div><div style=\"display: inline\"><div style=\"display: inline; position:absolute; bottom:10px; font-size:medium;\">Rank: 7, score: 0.260</div><img src=\"/mmfs1/gscratch/balazinska/enhaoz/complex_event_video/tmp/track_mot_new_metric/360/topk_preds/7_000135_0.25976335604159195.jpg\" style=\"height: 150px; margin: 0px 20px 40px 0px;\"/></div><div style=\"display: inline\"><div style=\"display: inline; position:absolute; bottom:10px; font-size:medium;\">Rank: 8, score: 0.240</div><img src=\"/mmfs1/gscratch/balazinska/enhaoz/complex_event_video/tmp/track_mot_new_metric/360/topk_preds/8_000372_0.23976177515929686.jpg\" style=\"height: 150px; margin: 0px 20px 40px 0px;\"/></div><div style=\"display: inline\"><div style=\"display: inline; position:absolute; bottom:10px; font-size:medium;\">Rank: 9, score: 0.236</div><img src=\"/mmfs1/gscratch/balazinska/enhaoz/complex_event_video/tmp/track_mot_new_metric/360/topk_preds/9_000301_0.23604590505998957.jpg\" style=\"height: 150px; margin: 0px 20px 40px 0px;\"/></div><div style=\"display: inline\"><div style=\"display: inline; position:absolute; bottom:10px; font-size:medium;\">Rank: 10, score: 0.226</div><img src=\"/mmfs1/gscratch/balazinska/enhaoz/complex_event_video/tmp/track_mot_new_metric/360/topk_preds/10_000302_0.22552290913584824.jpg\" style=\"height: 150px; margin: 0px 20px 40px 0px;\"/></div></div>"
      ],
      "text/plain": [
       "<IPython.core.display.HTML object>"
      ]
     },
     "metadata": {},
     "output_type": "display_data"
    },
    {
     "data": {
      "text/html": [
       "<h1>query_track_id = 199</h1><h2>query track:</h2><img src=\"/mmfs1/gscratch/balazinska/enhaoz/complex_event_video/tmp/track_mot_new_metric/199/pos_samples/000199.jpg\" style=\"height: 150px;\"/><h2>top10 tracks:</h2>"
      ],
      "text/plain": [
       "<IPython.core.display.HTML object>"
      ]
     },
     "metadata": {},
     "output_type": "display_data"
    },
    {
     "data": {
      "text/html": [
       "<div style=\"white-space: nowrap; overflow: scroll; position: relative;\"><div style=\"display: inline\"><div style=\"display: inline; position:absolute; bottom:10px; font-size:medium;\">Rank: 1, score: 0.579</div><img src=\"/mmfs1/gscratch/balazinska/enhaoz/complex_event_video/tmp/track_mot_new_metric/199/topk_preds/1_000041_0.5794411408117314.jpg\" style=\"height: 150px; margin: 0px 20px 40px 0px;\"/></div><div style=\"display: inline\"><div style=\"display: inline; position:absolute; bottom:10px; font-size:medium;\">Rank: 2, score: 0.561</div><img src=\"/mmfs1/gscratch/balazinska/enhaoz/complex_event_video/tmp/track_mot_new_metric/199/topk_preds/2_001165_0.5607924947845748.jpg\" style=\"height: 150px; margin: 0px 20px 40px 0px;\"/></div><div style=\"display: inline\"><div style=\"display: inline; position:absolute; bottom:10px; font-size:medium;\">Rank: 3, score: 0.556</div><img src=\"/mmfs1/gscratch/balazinska/enhaoz/complex_event_video/tmp/track_mot_new_metric/199/topk_preds/3_000042_0.5557042401343409.jpg\" style=\"height: 150px; margin: 0px 20px 40px 0px;\"/></div><div style=\"display: inline\"><div style=\"display: inline; position:absolute; bottom:10px; font-size:medium;\">Rank: 4, score: 0.533</div><img src=\"/mmfs1/gscratch/balazinska/enhaoz/complex_event_video/tmp/track_mot_new_metric/199/topk_preds/4_000185_0.5328736666578439.jpg\" style=\"height: 150px; margin: 0px 20px 40px 0px;\"/></div><div style=\"display: inline\"><div style=\"display: inline; position:absolute; bottom:10px; font-size:medium;\">Rank: 5, score: 0.490</div><img src=\"/mmfs1/gscratch/balazinska/enhaoz/complex_event_video/tmp/track_mot_new_metric/199/topk_preds/5_000262_0.490324632433887.jpg\" style=\"height: 150px; margin: 0px 20px 40px 0px;\"/></div><div style=\"display: inline\"><div style=\"display: inline; position:absolute; bottom:10px; font-size:medium;\">Rank: 6, score: 0.469</div><img src=\"/mmfs1/gscratch/balazinska/enhaoz/complex_event_video/tmp/track_mot_new_metric/199/topk_preds/6_000871_0.4689262012873609.jpg\" style=\"height: 150px; margin: 0px 20px 40px 0px;\"/></div><div style=\"display: inline\"><div style=\"display: inline; position:absolute; bottom:10px; font-size:medium;\">Rank: 7, score: 0.467</div><img src=\"/mmfs1/gscratch/balazinska/enhaoz/complex_event_video/tmp/track_mot_new_metric/199/topk_preds/7_000039_0.46678650442477876.jpg\" style=\"height: 150px; margin: 0px 20px 40px 0px;\"/></div><div style=\"display: inline\"><div style=\"display: inline; position:absolute; bottom:10px; font-size:medium;\">Rank: 8, score: 0.461</div><img src=\"/mmfs1/gscratch/balazinska/enhaoz/complex_event_video/tmp/track_mot_new_metric/199/topk_preds/8_000856_0.461301970224234.jpg\" style=\"height: 150px; margin: 0px 20px 40px 0px;\"/></div><div style=\"display: inline\"><div style=\"display: inline; position:absolute; bottom:10px; font-size:medium;\">Rank: 9, score: 0.461</div><img src=\"/mmfs1/gscratch/balazinska/enhaoz/complex_event_video/tmp/track_mot_new_metric/199/topk_preds/9_000198_0.4611722766251128.jpg\" style=\"height: 150px; margin: 0px 20px 40px 0px;\"/></div><div style=\"display: inline\"><div style=\"display: inline; position:absolute; bottom:10px; font-size:medium;\">Rank: 10, score: 0.459</div><img src=\"/mmfs1/gscratch/balazinska/enhaoz/complex_event_video/tmp/track_mot_new_metric/199/topk_preds/10_000857_0.4588809717197076.jpg\" style=\"height: 150px; margin: 0px 20px 40px 0px;\"/></div></div>"
      ],
      "text/plain": [
       "<IPython.core.display.HTML object>"
      ]
     },
     "metadata": {},
     "output_type": "display_data"
    },
    {
     "data": {
      "text/html": [
       "<h1>query_track_id = 981</h1><h2>query track:</h2><img src=\"/mmfs1/gscratch/balazinska/enhaoz/complex_event_video/tmp/track_mot_new_metric/981/pos_samples/000981.jpg\" style=\"height: 150px;\"/><h2>top10 tracks:</h2>"
      ],
      "text/plain": [
       "<IPython.core.display.HTML object>"
      ]
     },
     "metadata": {},
     "output_type": "display_data"
    },
    {
     "data": {
      "text/html": [
       "<div style=\"white-space: nowrap; overflow: scroll; position: relative;\"><div style=\"display: inline\"><div style=\"display: inline; position:absolute; bottom:10px; font-size:medium;\">Rank: 1, score: 0.666</div><img src=\"/mmfs1/gscratch/balazinska/enhaoz/complex_event_video/tmp/track_mot_new_metric/981/topk_preds/1_000982_0.6659654739883547.jpg\" style=\"height: 150px; margin: 0px 20px 40px 0px;\"/></div><div style=\"display: inline\"><div style=\"display: inline; position:absolute; bottom:10px; font-size:medium;\">Rank: 2, score: 0.525</div><img src=\"/mmfs1/gscratch/balazinska/enhaoz/complex_event_video/tmp/track_mot_new_metric/981/topk_preds/2_000021_0.5254614818414052.jpg\" style=\"height: 150px; margin: 0px 20px 40px 0px;\"/></div><div style=\"display: inline\"><div style=\"display: inline; position:absolute; bottom:10px; font-size:medium;\">Rank: 3, score: 0.486</div><img src=\"/mmfs1/gscratch/balazinska/enhaoz/complex_event_video/tmp/track_mot_new_metric/981/topk_preds/3_000022_0.4864743979675815.jpg\" style=\"height: 150px; margin: 0px 20px 40px 0px;\"/></div><div style=\"display: inline\"><div style=\"display: inline; position:absolute; bottom:10px; font-size:medium;\">Rank: 4, score: 0.457</div><img src=\"/mmfs1/gscratch/balazinska/enhaoz/complex_event_video/tmp/track_mot_new_metric/981/topk_preds/4_000933_0.4569214982042073.jpg\" style=\"height: 150px; margin: 0px 20px 40px 0px;\"/></div><div style=\"display: inline\"><div style=\"display: inline; position:absolute; bottom:10px; font-size:medium;\">Rank: 5, score: 0.409</div><img src=\"/mmfs1/gscratch/balazinska/enhaoz/complex_event_video/tmp/track_mot_new_metric/981/topk_preds/5_000123_0.40925737968366743.jpg\" style=\"height: 150px; margin: 0px 20px 40px 0px;\"/></div><div style=\"display: inline\"><div style=\"display: inline; position:absolute; bottom:10px; font-size:medium;\">Rank: 6, score: 0.367</div><img src=\"/mmfs1/gscratch/balazinska/enhaoz/complex_event_video/tmp/track_mot_new_metric/981/topk_preds/6_000228_0.36709498730759094.jpg\" style=\"height: 150px; margin: 0px 20px 40px 0px;\"/></div><div style=\"display: inline\"><div style=\"display: inline; position:absolute; bottom:10px; font-size:medium;\">Rank: 7, score: 0.316</div><img src=\"/mmfs1/gscratch/balazinska/enhaoz/complex_event_video/tmp/track_mot_new_metric/981/topk_preds/7_000241_0.31643018132258305.jpg\" style=\"height: 150px; margin: 0px 20px 40px 0px;\"/></div><div style=\"display: inline\"><div style=\"display: inline; position:absolute; bottom:10px; font-size:medium;\">Rank: 8, score: 0.312</div><img src=\"/mmfs1/gscratch/balazinska/enhaoz/complex_event_video/tmp/track_mot_new_metric/981/topk_preds/8_000025_0.31180517724915763.jpg\" style=\"height: 150px; margin: 0px 20px 40px 0px;\"/></div><div style=\"display: inline\"><div style=\"display: inline; position:absolute; bottom:10px; font-size:medium;\">Rank: 9, score: 0.305</div><img src=\"/mmfs1/gscratch/balazinska/enhaoz/complex_event_video/tmp/track_mot_new_metric/981/topk_preds/9_000934_0.30492427623553214.jpg\" style=\"height: 150px; margin: 0px 20px 40px 0px;\"/></div><div style=\"display: inline\"><div style=\"display: inline; position:absolute; bottom:10px; font-size:medium;\">Rank: 10, score: 0.305</div><img src=\"/mmfs1/gscratch/balazinska/enhaoz/complex_event_video/tmp/track_mot_new_metric/981/topk_preds/10_000015_0.30451636125352444.jpg\" style=\"height: 150px; margin: 0px 20px 40px 0px;\"/></div></div>"
      ],
      "text/plain": [
       "<IPython.core.display.HTML object>"
      ]
     },
     "metadata": {},
     "output_type": "display_data"
    },
    {
     "data": {
      "text/html": [
       "<h1>query_track_id = 252</h1><h2>query track:</h2><img src=\"/mmfs1/gscratch/balazinska/enhaoz/complex_event_video/tmp/track_mot_new_metric/252/pos_samples/000252.jpg\" style=\"height: 150px;\"/><h2>top10 tracks:</h2>"
      ],
      "text/plain": [
       "<IPython.core.display.HTML object>"
      ]
     },
     "metadata": {},
     "output_type": "display_data"
    },
    {
     "data": {
      "text/html": [
       "<div style=\"white-space: nowrap; overflow: scroll; position: relative;\"><div style=\"display: inline\"><div style=\"display: inline; position:absolute; bottom:10px; font-size:medium;\">Rank: 1, score: 0.887</div><img src=\"/mmfs1/gscratch/balazinska/enhaoz/complex_event_video/tmp/track_mot_new_metric/252/topk_preds/1_000255_0.8868884384563411.jpg\" style=\"height: 150px; margin: 0px 20px 40px 0px;\"/></div><div style=\"display: inline\"><div style=\"display: inline; position:absolute; bottom:10px; font-size:medium;\">Rank: 2, score: 0.851</div><img src=\"/mmfs1/gscratch/balazinska/enhaoz/complex_event_video/tmp/track_mot_new_metric/252/topk_preds/2_000407_0.8513154346904973.jpg\" style=\"height: 150px; margin: 0px 20px 40px 0px;\"/></div><div style=\"display: inline\"><div style=\"display: inline; position:absolute; bottom:10px; font-size:medium;\">Rank: 3, score: 0.843</div><img src=\"/mmfs1/gscratch/balazinska/enhaoz/complex_event_video/tmp/track_mot_new_metric/252/topk_preds/3_000529_0.8428179453372768.jpg\" style=\"height: 150px; margin: 0px 20px 40px 0px;\"/></div><div style=\"display: inline\"><div style=\"display: inline; position:absolute; bottom:10px; font-size:medium;\">Rank: 4, score: 0.842</div><img src=\"/mmfs1/gscratch/balazinska/enhaoz/complex_event_video/tmp/track_mot_new_metric/252/topk_preds/4_001150_0.8421305892804264.jpg\" style=\"height: 150px; margin: 0px 20px 40px 0px;\"/></div><div style=\"display: inline\"><div style=\"display: inline; position:absolute; bottom:10px; font-size:medium;\">Rank: 5, score: 0.821</div><img src=\"/mmfs1/gscratch/balazinska/enhaoz/complex_event_video/tmp/track_mot_new_metric/252/topk_preds/5_000175_0.8213365060479874.jpg\" style=\"height: 150px; margin: 0px 20px 40px 0px;\"/></div><div style=\"display: inline\"><div style=\"display: inline; position:absolute; bottom:10px; font-size:medium;\">Rank: 6, score: 0.821</div><img src=\"/mmfs1/gscratch/balazinska/enhaoz/complex_event_video/tmp/track_mot_new_metric/252/topk_preds/6_000254_0.8210547436712036.jpg\" style=\"height: 150px; margin: 0px 20px 40px 0px;\"/></div><div style=\"display: inline\"><div style=\"display: inline; position:absolute; bottom:10px; font-size:medium;\">Rank: 7, score: 0.814</div><img src=\"/mmfs1/gscratch/balazinska/enhaoz/complex_event_video/tmp/track_mot_new_metric/252/topk_preds/7_000105_0.8140823867524292.jpg\" style=\"height: 150px; margin: 0px 20px 40px 0px;\"/></div><div style=\"display: inline\"><div style=\"display: inline; position:absolute; bottom:10px; font-size:medium;\">Rank: 8, score: 0.806</div><img src=\"/mmfs1/gscratch/balazinska/enhaoz/complex_event_video/tmp/track_mot_new_metric/252/topk_preds/8_000207_0.805759539236861.jpg\" style=\"height: 150px; margin: 0px 20px 40px 0px;\"/></div><div style=\"display: inline\"><div style=\"display: inline; position:absolute; bottom:10px; font-size:medium;\">Rank: 9, score: 0.780</div><img src=\"/mmfs1/gscratch/balazinska/enhaoz/complex_event_video/tmp/track_mot_new_metric/252/topk_preds/9_001173_0.7799992469595994.jpg\" style=\"height: 150px; margin: 0px 20px 40px 0px;\"/></div><div style=\"display: inline\"><div style=\"display: inline; position:absolute; bottom:10px; font-size:medium;\">Rank: 10, score: 0.757</div><img src=\"/mmfs1/gscratch/balazinska/enhaoz/complex_event_video/tmp/track_mot_new_metric/252/topk_preds/10_000528_0.7570212349544966.jpg\" style=\"height: 150px; margin: 0px 20px 40px 0px;\"/></div></div>"
      ],
      "text/plain": [
       "<IPython.core.display.HTML object>"
      ]
     },
     "metadata": {},
     "output_type": "display_data"
    },
    {
     "data": {
      "text/html": [
       "<h1>query_track_id = 838</h1><h2>query track:</h2><img src=\"/mmfs1/gscratch/balazinska/enhaoz/complex_event_video/tmp/track_mot_new_metric/838/pos_samples/000838.jpg\" style=\"height: 150px;\"/><h2>top10 tracks:</h2>"
      ],
      "text/plain": [
       "<IPython.core.display.HTML object>"
      ]
     },
     "metadata": {},
     "output_type": "display_data"
    },
    {
     "data": {
      "text/html": [
       "<div style=\"white-space: nowrap; overflow: scroll; position: relative;\"><div style=\"display: inline\"><div style=\"display: inline; position:absolute; bottom:10px; font-size:medium;\">Rank: 1, score: 0.394</div><img src=\"/mmfs1/gscratch/balazinska/enhaoz/complex_event_video/tmp/track_mot_new_metric/838/topk_preds/1_000249_0.3939694843951867.jpg\" style=\"height: 150px; margin: 0px 20px 40px 0px;\"/></div><div style=\"display: inline\"><div style=\"display: inline; position:absolute; bottom:10px; font-size:medium;\">Rank: 2, score: 0.388</div><img src=\"/mmfs1/gscratch/balazinska/enhaoz/complex_event_video/tmp/track_mot_new_metric/838/topk_preds/2_000248_0.3880113734101005.jpg\" style=\"height: 150px; margin: 0px 20px 40px 0px;\"/></div><div style=\"display: inline\"><div style=\"display: inline; position:absolute; bottom:10px; font-size:medium;\">Rank: 3, score: 0.381</div><img src=\"/mmfs1/gscratch/balazinska/enhaoz/complex_event_video/tmp/track_mot_new_metric/838/topk_preds/3_001081_0.3807963941925052.jpg\" style=\"height: 150px; margin: 0px 20px 40px 0px;\"/></div><div style=\"display: inline\"><div style=\"display: inline; position:absolute; bottom:10px; font-size:medium;\">Rank: 4, score: 0.349</div><img src=\"/mmfs1/gscratch/balazinska/enhaoz/complex_event_video/tmp/track_mot_new_metric/838/topk_preds/4_000118_0.34930072236698884.jpg\" style=\"height: 150px; margin: 0px 20px 40px 0px;\"/></div><div style=\"display: inline\"><div style=\"display: inline; position:absolute; bottom:10px; font-size:medium;\">Rank: 5, score: 0.349</div><img src=\"/mmfs1/gscratch/balazinska/enhaoz/complex_event_video/tmp/track_mot_new_metric/838/topk_preds/5_000919_0.3487324728387037.jpg\" style=\"height: 150px; margin: 0px 20px 40px 0px;\"/></div><div style=\"display: inline\"><div style=\"display: inline; position:absolute; bottom:10px; font-size:medium;\">Rank: 6, score: 0.346</div><img src=\"/mmfs1/gscratch/balazinska/enhaoz/complex_event_video/tmp/track_mot_new_metric/838/topk_preds/6_001082_0.3461429025725141.jpg\" style=\"height: 150px; margin: 0px 20px 40px 0px;\"/></div><div style=\"display: inline\"><div style=\"display: inline; position:absolute; bottom:10px; font-size:medium;\">Rank: 7, score: 0.344</div><img src=\"/mmfs1/gscratch/balazinska/enhaoz/complex_event_video/tmp/track_mot_new_metric/838/topk_preds/7_001083_0.3438210150416622.jpg\" style=\"height: 150px; margin: 0px 20px 40px 0px;\"/></div><div style=\"display: inline\"><div style=\"display: inline; position:absolute; bottom:10px; font-size:medium;\">Rank: 8, score: 0.330</div><img src=\"/mmfs1/gscratch/balazinska/enhaoz/complex_event_video/tmp/track_mot_new_metric/838/topk_preds/8_000100_0.330409332953945.jpg\" style=\"height: 150px; margin: 0px 20px 40px 0px;\"/></div><div style=\"display: inline\"><div style=\"display: inline; position:absolute; bottom:10px; font-size:medium;\">Rank: 9, score: 0.322</div><img src=\"/mmfs1/gscratch/balazinska/enhaoz/complex_event_video/tmp/track_mot_new_metric/838/topk_preds/9_001090_0.3220550607145055.jpg\" style=\"height: 150px; margin: 0px 20px 40px 0px;\"/></div><div style=\"display: inline\"><div style=\"display: inline; position:absolute; bottom:10px; font-size:medium;\">Rank: 10, score: 0.321</div><img src=\"/mmfs1/gscratch/balazinska/enhaoz/complex_event_video/tmp/track_mot_new_metric/838/topk_preds/10_001133_0.32107096023413145.jpg\" style=\"height: 150px; margin: 0px 20px 40px 0px;\"/></div></div>"
      ],
      "text/plain": [
       "<IPython.core.display.HTML object>"
      ]
     },
     "metadata": {},
     "output_type": "display_data"
    },
    {
     "data": {
      "text/html": [
       "<h1>query_track_id = 844</h1><h2>query track:</h2><img src=\"/mmfs1/gscratch/balazinska/enhaoz/complex_event_video/tmp/track_mot_new_metric/844/pos_samples/000844.jpg\" style=\"height: 150px;\"/><h2>top10 tracks:</h2>"
      ],
      "text/plain": [
       "<IPython.core.display.HTML object>"
      ]
     },
     "metadata": {},
     "output_type": "display_data"
    },
    {
     "data": {
      "text/html": [
       "<div style=\"white-space: nowrap; overflow: scroll; position: relative;\"><div style=\"display: inline\"><div style=\"display: inline; position:absolute; bottom:10px; font-size:medium;\">Rank: 1, score: 0.478</div><img src=\"/mmfs1/gscratch/balazinska/enhaoz/complex_event_video/tmp/track_mot_new_metric/844/topk_preds/1_000132_0.47766310752419383.jpg\" style=\"height: 150px; margin: 0px 20px 40px 0px;\"/></div><div style=\"display: inline\"><div style=\"display: inline; position:absolute; bottom:10px; font-size:medium;\">Rank: 2, score: 0.460</div><img src=\"/mmfs1/gscratch/balazinska/enhaoz/complex_event_video/tmp/track_mot_new_metric/844/topk_preds/2_000378_0.46020085186198273.jpg\" style=\"height: 150px; margin: 0px 20px 40px 0px;\"/></div><div style=\"display: inline\"><div style=\"display: inline; position:absolute; bottom:10px; font-size:medium;\">Rank: 3, score: 0.423</div><img src=\"/mmfs1/gscratch/balazinska/enhaoz/complex_event_video/tmp/track_mot_new_metric/844/topk_preds/3_000310_0.42329621143496565.jpg\" style=\"height: 150px; margin: 0px 20px 40px 0px;\"/></div><div style=\"display: inline\"><div style=\"display: inline; position:absolute; bottom:10px; font-size:medium;\">Rank: 4, score: 0.397</div><img src=\"/mmfs1/gscratch/balazinska/enhaoz/complex_event_video/tmp/track_mot_new_metric/844/topk_preds/4_000311_0.39733730097387543.jpg\" style=\"height: 150px; margin: 0px 20px 40px 0px;\"/></div><div style=\"display: inline\"><div style=\"display: inline; position:absolute; bottom:10px; font-size:medium;\">Rank: 5, score: 0.365</div><img src=\"/mmfs1/gscratch/balazinska/enhaoz/complex_event_video/tmp/track_mot_new_metric/844/topk_preds/5_000250_0.3650649222899862.jpg\" style=\"height: 150px; margin: 0px 20px 40px 0px;\"/></div><div style=\"display: inline\"><div style=\"display: inline; position:absolute; bottom:10px; font-size:medium;\">Rank: 6, score: 0.362</div><img src=\"/mmfs1/gscratch/balazinska/enhaoz/complex_event_video/tmp/track_mot_new_metric/844/topk_preds/6_000925_0.3617150949145858.jpg\" style=\"height: 150px; margin: 0px 20px 40px 0px;\"/></div><div style=\"display: inline\"><div style=\"display: inline; position:absolute; bottom:10px; font-size:medium;\">Rank: 7, score: 0.326</div><img src=\"/mmfs1/gscratch/balazinska/enhaoz/complex_event_video/tmp/track_mot_new_metric/844/topk_preds/7_000309_0.3264683070118983.jpg\" style=\"height: 150px; margin: 0px 20px 40px 0px;\"/></div><div style=\"display: inline\"><div style=\"display: inline; position:absolute; bottom:10px; font-size:medium;\">Rank: 8, score: 0.271</div><img src=\"/mmfs1/gscratch/balazinska/enhaoz/complex_event_video/tmp/track_mot_new_metric/844/topk_preds/8_000251_0.2714215364412344.jpg\" style=\"height: 150px; margin: 0px 20px 40px 0px;\"/></div><div style=\"display: inline\"><div style=\"display: inline; position:absolute; bottom:10px; font-size:medium;\">Rank: 9, score: 0.260</div><img src=\"/mmfs1/gscratch/balazinska/enhaoz/complex_event_video/tmp/track_mot_new_metric/844/topk_preds/9_000235_0.25990543735224586.jpg\" style=\"height: 150px; margin: 0px 20px 40px 0px;\"/></div><div style=\"display: inline\"><div style=\"display: inline; position:absolute; bottom:10px; font-size:medium;\">Rank: 10, score: 0.257</div><img src=\"/mmfs1/gscratch/balazinska/enhaoz/complex_event_video/tmp/track_mot_new_metric/844/topk_preds/10_000232_0.256852215817044.jpg\" style=\"height: 150px; margin: 0px 20px 40px 0px;\"/></div></div>"
      ],
      "text/plain": [
       "<IPython.core.display.HTML object>"
      ]
     },
     "metadata": {},
     "output_type": "display_data"
    },
    {
     "data": {
      "text/html": [
       "<h1>query_track_id = 957</h1><h2>query track:</h2><img src=\"/mmfs1/gscratch/balazinska/enhaoz/complex_event_video/tmp/track_mot_new_metric/957/pos_samples/000957.jpg\" style=\"height: 150px;\"/><h2>top10 tracks:</h2>"
      ],
      "text/plain": [
       "<IPython.core.display.HTML object>"
      ]
     },
     "metadata": {},
     "output_type": "display_data"
    },
    {
     "data": {
      "text/html": [
       "<div style=\"white-space: nowrap; overflow: scroll; position: relative;\"><div style=\"display: inline\"><div style=\"display: inline; position:absolute; bottom:10px; font-size:medium;\">Rank: 1, score: 0.560</div><img src=\"/mmfs1/gscratch/balazinska/enhaoz/complex_event_video/tmp/track_mot_new_metric/957/topk_preds/1_000476_0.5602735368956743.jpg\" style=\"height: 150px; margin: 0px 20px 40px 0px;\"/></div><div style=\"display: inline\"><div style=\"display: inline; position:absolute; bottom:10px; font-size:medium;\">Rank: 2, score: 0.528</div><img src=\"/mmfs1/gscratch/balazinska/enhaoz/complex_event_video/tmp/track_mot_new_metric/957/topk_preds/2_000959_0.5276111367481926.jpg\" style=\"height: 150px; margin: 0px 20px 40px 0px;\"/></div><div style=\"display: inline\"><div style=\"display: inline; position:absolute; bottom:10px; font-size:medium;\">Rank: 3, score: 0.467</div><img src=\"/mmfs1/gscratch/balazinska/enhaoz/complex_event_video/tmp/track_mot_new_metric/957/topk_preds/3_000373_0.4666756793294579.jpg\" style=\"height: 150px; margin: 0px 20px 40px 0px;\"/></div><div style=\"display: inline\"><div style=\"display: inline; position:absolute; bottom:10px; font-size:medium;\">Rank: 4, score: 0.243</div><img src=\"/mmfs1/gscratch/balazinska/enhaoz/complex_event_video/tmp/track_mot_new_metric/957/topk_preds/4_000371_0.24280927115330914.jpg\" style=\"height: 150px; margin: 0px 20px 40px 0px;\"/></div><div style=\"display: inline\"><div style=\"display: inline; position:absolute; bottom:10px; font-size:medium;\">Rank: 5, score: 0.145</div><img src=\"/mmfs1/gscratch/balazinska/enhaoz/complex_event_video/tmp/track_mot_new_metric/957/topk_preds/5_000363_0.14543577034283353.jpg\" style=\"height: 150px; margin: 0px 20px 40px 0px;\"/></div><div style=\"display: inline\"><div style=\"display: inline; position:absolute; bottom:10px; font-size:medium;\">Rank: 6, score: 0.098</div><img src=\"/mmfs1/gscratch/balazinska/enhaoz/complex_event_video/tmp/track_mot_new_metric/957/topk_preds/6_000132_0.09757110809538316.jpg\" style=\"height: 150px; margin: 0px 20px 40px 0px;\"/></div><div style=\"display: inline\"><div style=\"display: inline; position:absolute; bottom:10px; font-size:medium;\">Rank: 7, score: 0.052</div><img src=\"/mmfs1/gscratch/balazinska/enhaoz/complex_event_video/tmp/track_mot_new_metric/957/topk_preds/7_000250_0.051547349834267835.jpg\" style=\"height: 150px; margin: 0px 20px 40px 0px;\"/></div><div style=\"display: inline\"><div style=\"display: inline; position:absolute; bottom:10px; font-size:medium;\">Rank: 8, score: 0.045</div><img src=\"/mmfs1/gscratch/balazinska/enhaoz/complex_event_video/tmp/track_mot_new_metric/957/topk_preds/8_000312_0.04470106709545388.jpg\" style=\"height: 150px; margin: 0px 20px 40px 0px;\"/></div><div style=\"display: inline\"><div style=\"display: inline; position:absolute; bottom:10px; font-size:medium;\">Rank: 9, score: 0.043</div><img src=\"/mmfs1/gscratch/balazinska/enhaoz/complex_event_video/tmp/track_mot_new_metric/957/topk_preds/9_000621_0.04269940732301502.jpg\" style=\"height: 150px; margin: 0px 20px 40px 0px;\"/></div><div style=\"display: inline\"><div style=\"display: inline; position:absolute; bottom:10px; font-size:medium;\">Rank: 10, score: 0.039</div><img src=\"/mmfs1/gscratch/balazinska/enhaoz/complex_event_video/tmp/track_mot_new_metric/957/topk_preds/10_000853_0.03853516073635737.jpg\" style=\"height: 150px; margin: 0px 20px 40px 0px;\"/></div></div>"
      ],
      "text/plain": [
       "<IPython.core.display.HTML object>"
      ]
     },
     "metadata": {},
     "output_type": "display_data"
    },
    {
     "data": {
      "text/html": [
       "<h1>query_track_id = 424</h1><h2>query track:</h2><img src=\"/mmfs1/gscratch/balazinska/enhaoz/complex_event_video/tmp/track_mot_new_metric/424/pos_samples/000424.jpg\" style=\"height: 150px;\"/><h2>top10 tracks:</h2>"
      ],
      "text/plain": [
       "<IPython.core.display.HTML object>"
      ]
     },
     "metadata": {},
     "output_type": "display_data"
    },
    {
     "data": {
      "text/html": [
       "<div style=\"white-space: nowrap; overflow: scroll; position: relative;\"><div style=\"display: inline\"><div style=\"display: inline; position:absolute; bottom:10px; font-size:medium;\">Rank: 1, score: 0.579</div><img src=\"/mmfs1/gscratch/balazinska/enhaoz/complex_event_video/tmp/track_mot_new_metric/424/topk_preds/1_000427_0.5791163651791569.jpg\" style=\"height: 150px; margin: 0px 20px 40px 0px;\"/></div><div style=\"display: inline\"><div style=\"display: inline; position:absolute; bottom:10px; font-size:medium;\">Rank: 2, score: 0.556</div><img src=\"/mmfs1/gscratch/balazinska/enhaoz/complex_event_video/tmp/track_mot_new_metric/424/topk_preds/2_001085_0.5560292615728095.jpg\" style=\"height: 150px; margin: 0px 20px 40px 0px;\"/></div><div style=\"display: inline\"><div style=\"display: inline; position:absolute; bottom:10px; font-size:medium;\">Rank: 3, score: 0.548</div><img src=\"/mmfs1/gscratch/balazinska/enhaoz/complex_event_video/tmp/track_mot_new_metric/424/topk_preds/3_000418_0.5477679799900608.jpg\" style=\"height: 150px; margin: 0px 20px 40px 0px;\"/></div><div style=\"display: inline\"><div style=\"display: inline; position:absolute; bottom:10px; font-size:medium;\">Rank: 4, score: 0.536</div><img src=\"/mmfs1/gscratch/balazinska/enhaoz/complex_event_video/tmp/track_mot_new_metric/424/topk_preds/4_001011_0.5362761452585654.jpg\" style=\"height: 150px; margin: 0px 20px 40px 0px;\"/></div><div style=\"display: inline\"><div style=\"display: inline; position:absolute; bottom:10px; font-size:medium;\">Rank: 5, score: 0.531</div><img src=\"/mmfs1/gscratch/balazinska/enhaoz/complex_event_video/tmp/track_mot_new_metric/424/topk_preds/5_000473_0.5306553086593104.jpg\" style=\"height: 150px; margin: 0px 20px 40px 0px;\"/></div><div style=\"display: inline\"><div style=\"display: inline; position:absolute; bottom:10px; font-size:medium;\">Rank: 6, score: 0.530</div><img src=\"/mmfs1/gscratch/balazinska/enhaoz/complex_event_video/tmp/track_mot_new_metric/424/topk_preds/6_000417_0.5300460559982455.jpg\" style=\"height: 150px; margin: 0px 20px 40px 0px;\"/></div><div style=\"display: inline\"><div style=\"display: inline; position:absolute; bottom:10px; font-size:medium;\">Rank: 7, score: 0.528</div><img src=\"/mmfs1/gscratch/balazinska/enhaoz/complex_event_video/tmp/track_mot_new_metric/424/topk_preds/7_000617_0.5277304825022555.jpg\" style=\"height: 150px; margin: 0px 20px 40px 0px;\"/></div><div style=\"display: inline\"><div style=\"display: inline; position:absolute; bottom:10px; font-size:medium;\">Rank: 8, score: 0.504</div><img src=\"/mmfs1/gscratch/balazinska/enhaoz/complex_event_video/tmp/track_mot_new_metric/424/topk_preds/8_000413_0.5035641445043517.jpg\" style=\"height: 150px; margin: 0px 20px 40px 0px;\"/></div><div style=\"display: inline\"><div style=\"display: inline; position:absolute; bottom:10px; font-size:medium;\">Rank: 9, score: 0.482</div><img src=\"/mmfs1/gscratch/balazinska/enhaoz/complex_event_video/tmp/track_mot_new_metric/424/topk_preds/9_001086_0.4818754109988843.jpg\" style=\"height: 150px; margin: 0px 20px 40px 0px;\"/></div><div style=\"display: inline\"><div style=\"display: inline; position:absolute; bottom:10px; font-size:medium;\">Rank: 10, score: 0.464</div><img src=\"/mmfs1/gscratch/balazinska/enhaoz/complex_event_video/tmp/track_mot_new_metric/424/topk_preds/10_000470_0.46441748888967477.jpg\" style=\"height: 150px; margin: 0px 20px 40px 0px;\"/></div></div>"
      ],
      "text/plain": [
       "<IPython.core.display.HTML object>"
      ]
     },
     "metadata": {},
     "output_type": "display_data"
    },
    {
     "data": {
      "text/html": [
       "<h1>query_track_id = 799</h1><h2>query track:</h2><img src=\"/mmfs1/gscratch/balazinska/enhaoz/complex_event_video/tmp/track_mot_new_metric/799/pos_samples/000799.jpg\" style=\"height: 150px;\"/><h2>top10 tracks:</h2>"
      ],
      "text/plain": [
       "<IPython.core.display.HTML object>"
      ]
     },
     "metadata": {},
     "output_type": "display_data"
    },
    {
     "data": {
      "text/html": [
       "<div style=\"white-space: nowrap; overflow: scroll; position: relative;\"><div style=\"display: inline\"><div style=\"display: inline; position:absolute; bottom:10px; font-size:medium;\">Rank: 1, score: 0.712</div><img src=\"/mmfs1/gscratch/balazinska/enhaoz/complex_event_video/tmp/track_mot_new_metric/799/topk_preds/1_000893_0.7118976695286491.jpg\" style=\"height: 150px; margin: 0px 20px 40px 0px;\"/></div><div style=\"display: inline\"><div style=\"display: inline; position:absolute; bottom:10px; font-size:medium;\">Rank: 2, score: 0.482</div><img src=\"/mmfs1/gscratch/balazinska/enhaoz/complex_event_video/tmp/track_mot_new_metric/799/topk_preds/2_000798_0.4821144235468462.jpg\" style=\"height: 150px; margin: 0px 20px 40px 0px;\"/></div><div style=\"display: inline\"><div style=\"display: inline; position:absolute; bottom:10px; font-size:medium;\">Rank: 3, score: 0.375</div><img src=\"/mmfs1/gscratch/balazinska/enhaoz/complex_event_video/tmp/track_mot_new_metric/799/topk_preds/3_000200_0.37479963844531483.jpg\" style=\"height: 150px; margin: 0px 20px 40px 0px;\"/></div><div style=\"display: inline\"><div style=\"display: inline; position:absolute; bottom:10px; font-size:medium;\">Rank: 4, score: 0.350</div><img src=\"/mmfs1/gscratch/balazinska/enhaoz/complex_event_video/tmp/track_mot_new_metric/799/topk_preds/4_000797_0.3502567951378158.jpg\" style=\"height: 150px; margin: 0px 20px 40px 0px;\"/></div><div style=\"display: inline\"><div style=\"display: inline; position:absolute; bottom:10px; font-size:medium;\">Rank: 5, score: 0.303</div><img src=\"/mmfs1/gscratch/balazinska/enhaoz/complex_event_video/tmp/track_mot_new_metric/799/topk_preds/5_000513_0.30262702761746985.jpg\" style=\"height: 150px; margin: 0px 20px 40px 0px;\"/></div><div style=\"display: inline\"><div style=\"display: inline; position:absolute; bottom:10px; font-size:medium;\">Rank: 6, score: 0.269</div><img src=\"/mmfs1/gscratch/balazinska/enhaoz/complex_event_video/tmp/track_mot_new_metric/799/topk_preds/6_000380_0.26934830138983007.jpg\" style=\"height: 150px; margin: 0px 20px 40px 0px;\"/></div><div style=\"display: inline\"><div style=\"display: inline; position:absolute; bottom:10px; font-size:medium;\">Rank: 7, score: 0.269</div><img src=\"/mmfs1/gscratch/balazinska/enhaoz/complex_event_video/tmp/track_mot_new_metric/799/topk_preds/7_000597_0.26885433658418073.jpg\" style=\"height: 150px; margin: 0px 20px 40px 0px;\"/></div><div style=\"display: inline\"><div style=\"display: inline; position:absolute; bottom:10px; font-size:medium;\">Rank: 8, score: 0.250</div><img src=\"/mmfs1/gscratch/balazinska/enhaoz/complex_event_video/tmp/track_mot_new_metric/799/topk_preds/8_000381_0.24995171259335566.jpg\" style=\"height: 150px; margin: 0px 20px 40px 0px;\"/></div><div style=\"display: inline\"><div style=\"display: inline; position:absolute; bottom:10px; font-size:medium;\">Rank: 9, score: 0.247</div><img src=\"/mmfs1/gscratch/balazinska/enhaoz/complex_event_video/tmp/track_mot_new_metric/799/topk_preds/9_000894_0.24708318639845736.jpg\" style=\"height: 150px; margin: 0px 20px 40px 0px;\"/></div><div style=\"display: inline\"><div style=\"display: inline; position:absolute; bottom:10px; font-size:medium;\">Rank: 10, score: 0.246</div><img src=\"/mmfs1/gscratch/balazinska/enhaoz/complex_event_video/tmp/track_mot_new_metric/799/topk_preds/10_000191_0.24600333343195557.jpg\" style=\"height: 150px; margin: 0px 20px 40px 0px;\"/></div></div>"
      ],
      "text/plain": [
       "<IPython.core.display.HTML object>"
      ]
     },
     "metadata": {},
     "output_type": "display_data"
    },
    {
     "data": {
      "text/html": [
       "<h1>query_track_id = 931</h1><h2>query track:</h2><img src=\"/mmfs1/gscratch/balazinska/enhaoz/complex_event_video/tmp/track_mot_new_metric/931/pos_samples/000931.jpg\" style=\"height: 150px;\"/><h2>top10 tracks:</h2>"
      ],
      "text/plain": [
       "<IPython.core.display.HTML object>"
      ]
     },
     "metadata": {},
     "output_type": "display_data"
    },
    {
     "data": {
      "text/html": [
       "<div style=\"white-space: nowrap; overflow: scroll; position: relative;\"><div style=\"display: inline\"><div style=\"display: inline; position:absolute; bottom:10px; font-size:medium;\">Rank: 1, score: 0.752</div><img src=\"/mmfs1/gscratch/balazinska/enhaoz/complex_event_video/tmp/track_mot_new_metric/931/topk_preds/1_000930_0.7517484525190349.jpg\" style=\"height: 150px; margin: 0px 20px 40px 0px;\"/></div><div style=\"display: inline\"><div style=\"display: inline; position:absolute; bottom:10px; font-size:medium;\">Rank: 2, score: 0.657</div><img src=\"/mmfs1/gscratch/balazinska/enhaoz/complex_event_video/tmp/track_mot_new_metric/931/topk_preds/2_001184_0.6570603796949254.jpg\" style=\"height: 150px; margin: 0px 20px 40px 0px;\"/></div><div style=\"display: inline\"><div style=\"display: inline; position:absolute; bottom:10px; font-size:medium;\">Rank: 3, score: 0.593</div><img src=\"/mmfs1/gscratch/balazinska/enhaoz/complex_event_video/tmp/track_mot_new_metric/931/topk_preds/3_001194_0.5929588707305802.jpg\" style=\"height: 150px; margin: 0px 20px 40px 0px;\"/></div><div style=\"display: inline\"><div style=\"display: inline; position:absolute; bottom:10px; font-size:medium;\">Rank: 4, score: 0.552</div><img src=\"/mmfs1/gscratch/balazinska/enhaoz/complex_event_video/tmp/track_mot_new_metric/931/topk_preds/4_000691_0.5523155968961819.jpg\" style=\"height: 150px; margin: 0px 20px 40px 0px;\"/></div><div style=\"display: inline\"><div style=\"display: inline; position:absolute; bottom:10px; font-size:medium;\">Rank: 5, score: 0.534</div><img src=\"/mmfs1/gscratch/balazinska/enhaoz/complex_event_video/tmp/track_mot_new_metric/931/topk_preds/5_000692_0.5335154065070656.jpg\" style=\"height: 150px; margin: 0px 20px 40px 0px;\"/></div><div style=\"display: inline\"><div style=\"display: inline; position:absolute; bottom:10px; font-size:medium;\">Rank: 6, score: 0.529</div><img src=\"/mmfs1/gscratch/balazinska/enhaoz/complex_event_video/tmp/track_mot_new_metric/931/topk_preds/6_001192_0.5293999194522755.jpg\" style=\"height: 150px; margin: 0px 20px 40px 0px;\"/></div><div style=\"display: inline\"><div style=\"display: inline; position:absolute; bottom:10px; font-size:medium;\">Rank: 7, score: 0.520</div><img src=\"/mmfs1/gscratch/balazinska/enhaoz/complex_event_video/tmp/track_mot_new_metric/931/topk_preds/7_001026_0.5197878855318594.jpg\" style=\"height: 150px; margin: 0px 20px 40px 0px;\"/></div><div style=\"display: inline\"><div style=\"display: inline; position:absolute; bottom:10px; font-size:medium;\">Rank: 8, score: 0.488</div><img src=\"/mmfs1/gscratch/balazinska/enhaoz/complex_event_video/tmp/track_mot_new_metric/931/topk_preds/8_000461_0.48800035035473416.jpg\" style=\"height: 150px; margin: 0px 20px 40px 0px;\"/></div><div style=\"display: inline\"><div style=\"display: inline; position:absolute; bottom:10px; font-size:medium;\">Rank: 9, score: 0.481</div><img src=\"/mmfs1/gscratch/balazinska/enhaoz/complex_event_video/tmp/track_mot_new_metric/931/topk_preds/9_001104_0.48097604807233313.jpg\" style=\"height: 150px; margin: 0px 20px 40px 0px;\"/></div><div style=\"display: inline\"><div style=\"display: inline; position:absolute; bottom:10px; font-size:medium;\">Rank: 10, score: 0.465</div><img src=\"/mmfs1/gscratch/balazinska/enhaoz/complex_event_video/tmp/track_mot_new_metric/931/topk_preds/10_000932_0.4645845733692798.jpg\" style=\"height: 150px; margin: 0px 20px 40px 0px;\"/></div></div>"
      ],
      "text/plain": [
       "<IPython.core.display.HTML object>"
      ]
     },
     "metadata": {},
     "output_type": "display_data"
    },
    {
     "data": {
      "text/html": [
       "<h1>query_track_id = 181</h1><h2>query track:</h2><img src=\"/mmfs1/gscratch/balazinska/enhaoz/complex_event_video/tmp/track_mot_new_metric/181/pos_samples/000181.jpg\" style=\"height: 150px;\"/><h2>top10 tracks:</h2>"
      ],
      "text/plain": [
       "<IPython.core.display.HTML object>"
      ]
     },
     "metadata": {},
     "output_type": "display_data"
    },
    {
     "data": {
      "text/html": [
       "<div style=\"white-space: nowrap; overflow: scroll; position: relative;\"><div style=\"display: inline\"><div style=\"display: inline; position:absolute; bottom:10px; font-size:medium;\">Rank: 1, score: 0.620</div><img src=\"/mmfs1/gscratch/balazinska/enhaoz/complex_event_video/tmp/track_mot_new_metric/181/topk_preds/1_000119_0.6204827934706518.jpg\" style=\"height: 150px; margin: 0px 20px 40px 0px;\"/></div><div style=\"display: inline\"><div style=\"display: inline; position:absolute; bottom:10px; font-size:medium;\">Rank: 2, score: 0.604</div><img src=\"/mmfs1/gscratch/balazinska/enhaoz/complex_event_video/tmp/track_mot_new_metric/181/topk_preds/2_000515_0.6038956242324632.jpg\" style=\"height: 150px; margin: 0px 20px 40px 0px;\"/></div><div style=\"display: inline\"><div style=\"display: inline; position:absolute; bottom:10px; font-size:medium;\">Rank: 3, score: 0.514</div><img src=\"/mmfs1/gscratch/balazinska/enhaoz/complex_event_video/tmp/track_mot_new_metric/181/topk_preds/3_000219_0.51424.jpg\" style=\"height: 150px; margin: 0px 20px 40px 0px;\"/></div><div style=\"display: inline\"><div style=\"display: inline; position:absolute; bottom:10px; font-size:medium;\">Rank: 4, score: 0.507</div><img src=\"/mmfs1/gscratch/balazinska/enhaoz/complex_event_video/tmp/track_mot_new_metric/181/topk_preds/4_001129_0.5070824842898848.jpg\" style=\"height: 150px; margin: 0px 20px 40px 0px;\"/></div><div style=\"display: inline\"><div style=\"display: inline; position:absolute; bottom:10px; font-size:medium;\">Rank: 5, score: 0.505</div><img src=\"/mmfs1/gscratch/balazinska/enhaoz/complex_event_video/tmp/track_mot_new_metric/181/topk_preds/5_000411_0.5049093027125978.jpg\" style=\"height: 150px; margin: 0px 20px 40px 0px;\"/></div><div style=\"display: inline\"><div style=\"display: inline; position:absolute; bottom:10px; font-size:medium;\">Rank: 6, score: 0.489</div><img src=\"/mmfs1/gscratch/balazinska/enhaoz/complex_event_video/tmp/track_mot_new_metric/181/topk_preds/6_001054_0.48942202337472607.jpg\" style=\"height: 150px; margin: 0px 20px 40px 0px;\"/></div><div style=\"display: inline\"><div style=\"display: inline; position:absolute; bottom:10px; font-size:medium;\">Rank: 7, score: 0.474</div><img src=\"/mmfs1/gscratch/balazinska/enhaoz/complex_event_video/tmp/track_mot_new_metric/181/topk_preds/7_001095_0.47422888678708186.jpg\" style=\"height: 150px; margin: 0px 20px 40px 0px;\"/></div><div style=\"display: inline\"><div style=\"display: inline; position:absolute; bottom:10px; font-size:medium;\">Rank: 8, score: 0.434</div><img src=\"/mmfs1/gscratch/balazinska/enhaoz/complex_event_video/tmp/track_mot_new_metric/181/topk_preds/8_001008_0.4339830303030303.jpg\" style=\"height: 150px; margin: 0px 20px 40px 0px;\"/></div><div style=\"display: inline\"><div style=\"display: inline; position:absolute; bottom:10px; font-size:medium;\">Rank: 9, score: 0.430</div><img src=\"/mmfs1/gscratch/balazinska/enhaoz/complex_event_video/tmp/track_mot_new_metric/181/topk_preds/9_000664_0.4303223400385832.jpg\" style=\"height: 150px; margin: 0px 20px 40px 0px;\"/></div><div style=\"display: inline\"><div style=\"display: inline; position:absolute; bottom:10px; font-size:medium;\">Rank: 10, score: 0.413</div><img src=\"/mmfs1/gscratch/balazinska/enhaoz/complex_event_video/tmp/track_mot_new_metric/181/topk_preds/10_001130_0.41349120693592956.jpg\" style=\"height: 150px; margin: 0px 20px 40px 0px;\"/></div></div>"
      ],
      "text/plain": [
       "<IPython.core.display.HTML object>"
      ]
     },
     "metadata": {},
     "output_type": "display_data"
    },
    {
     "data": {
      "text/html": [
       "<h1>query_track_id = 582</h1><h2>query track:</h2><img src=\"/mmfs1/gscratch/balazinska/enhaoz/complex_event_video/tmp/track_mot_new_metric/582/pos_samples/000582.jpg\" style=\"height: 150px;\"/><h2>top10 tracks:</h2>"
      ],
      "text/plain": [
       "<IPython.core.display.HTML object>"
      ]
     },
     "metadata": {},
     "output_type": "display_data"
    },
    {
     "data": {
      "text/html": [
       "<div style=\"white-space: nowrap; overflow: scroll; position: relative;\"><div style=\"display: inline\"><div style=\"display: inline; position:absolute; bottom:10px; font-size:medium;\">Rank: 1, score: 0.653</div><img src=\"/mmfs1/gscratch/balazinska/enhaoz/complex_event_video/tmp/track_mot_new_metric/582/topk_preds/1_000585_0.6525666909898336.jpg\" style=\"height: 150px; margin: 0px 20px 40px 0px;\"/></div><div style=\"display: inline\"><div style=\"display: inline; position:absolute; bottom:10px; font-size:medium;\">Rank: 2, score: 0.603</div><img src=\"/mmfs1/gscratch/balazinska/enhaoz/complex_event_video/tmp/track_mot_new_metric/582/topk_preds/2_000580_0.6030221603731695.jpg\" style=\"height: 150px; margin: 0px 20px 40px 0px;\"/></div><div style=\"display: inline\"><div style=\"display: inline; position:absolute; bottom:10px; font-size:medium;\">Rank: 3, score: 0.539</div><img src=\"/mmfs1/gscratch/balazinska/enhaoz/complex_event_video/tmp/track_mot_new_metric/582/topk_preds/3_000583_0.5389645549585572.jpg\" style=\"height: 150px; margin: 0px 20px 40px 0px;\"/></div><div style=\"display: inline\"><div style=\"display: inline; position:absolute; bottom:10px; font-size:medium;\">Rank: 4, score: 0.495</div><img src=\"/mmfs1/gscratch/balazinska/enhaoz/complex_event_video/tmp/track_mot_new_metric/582/topk_preds/4_000581_0.4947064019262647.jpg\" style=\"height: 150px; margin: 0px 20px 40px 0px;\"/></div><div style=\"display: inline\"><div style=\"display: inline; position:absolute; bottom:10px; font-size:medium;\">Rank: 5, score: 0.460</div><img src=\"/mmfs1/gscratch/balazinska/enhaoz/complex_event_video/tmp/track_mot_new_metric/582/topk_preds/5_000700_0.46008066701245615.jpg\" style=\"height: 150px; margin: 0px 20px 40px 0px;\"/></div><div style=\"display: inline\"><div style=\"display: inline; position:absolute; bottom:10px; font-size:medium;\">Rank: 6, score: 0.407</div><img src=\"/mmfs1/gscratch/balazinska/enhaoz/complex_event_video/tmp/track_mot_new_metric/582/topk_preds/6_001014_0.40702030593076305.jpg\" style=\"height: 150px; margin: 0px 20px 40px 0px;\"/></div><div style=\"display: inline\"><div style=\"display: inline; position:absolute; bottom:10px; font-size:medium;\">Rank: 7, score: 0.379</div><img src=\"/mmfs1/gscratch/balazinska/enhaoz/complex_event_video/tmp/track_mot_new_metric/582/topk_preds/7_001013_0.3792419796827857.jpg\" style=\"height: 150px; margin: 0px 20px 40px 0px;\"/></div><div style=\"display: inline\"><div style=\"display: inline; position:absolute; bottom:10px; font-size:medium;\">Rank: 8, score: 0.358</div><img src=\"/mmfs1/gscratch/balazinska/enhaoz/complex_event_video/tmp/track_mot_new_metric/582/topk_preds/8_000910_0.3580695361131096.jpg\" style=\"height: 150px; margin: 0px 20px 40px 0px;\"/></div><div style=\"display: inline\"><div style=\"display: inline; position:absolute; bottom:10px; font-size:medium;\">Rank: 9, score: 0.355</div><img src=\"/mmfs1/gscratch/balazinska/enhaoz/complex_event_video/tmp/track_mot_new_metric/582/topk_preds/9_000841_0.35515229830639383.jpg\" style=\"height: 150px; margin: 0px 20px 40px 0px;\"/></div><div style=\"display: inline\"><div style=\"display: inline; position:absolute; bottom:10px; font-size:medium;\">Rank: 10, score: 0.344</div><img src=\"/mmfs1/gscratch/balazinska/enhaoz/complex_event_video/tmp/track_mot_new_metric/582/topk_preds/10_000813_0.34422070110638586.jpg\" style=\"height: 150px; margin: 0px 20px 40px 0px;\"/></div></div>"
      ],
      "text/plain": [
       "<IPython.core.display.HTML object>"
      ]
     },
     "metadata": {},
     "output_type": "display_data"
    },
    {
     "data": {
      "text/html": [
       "<h1>query_track_id = 742</h1><h2>query track:</h2><img src=\"/mmfs1/gscratch/balazinska/enhaoz/complex_event_video/tmp/track_mot_new_metric/742/pos_samples/000742.jpg\" style=\"height: 150px;\"/><h2>top10 tracks:</h2>"
      ],
      "text/plain": [
       "<IPython.core.display.HTML object>"
      ]
     },
     "metadata": {},
     "output_type": "display_data"
    },
    {
     "data": {
      "text/html": [
       "<div style=\"white-space: nowrap; overflow: scroll; position: relative;\"><div style=\"display: inline\"><div style=\"display: inline; position:absolute; bottom:10px; font-size:medium;\">Rank: 1, score: 0.676</div><img src=\"/mmfs1/gscratch/balazinska/enhaoz/complex_event_video/tmp/track_mot_new_metric/742/topk_preds/1_000744_0.6761841888100346.jpg\" style=\"height: 150px; margin: 0px 20px 40px 0px;\"/></div><div style=\"display: inline\"><div style=\"display: inline; position:absolute; bottom:10px; font-size:medium;\">Rank: 2, score: 0.441</div><img src=\"/mmfs1/gscratch/balazinska/enhaoz/complex_event_video/tmp/track_mot_new_metric/742/topk_preds/2_000743_0.4410029111699756.jpg\" style=\"height: 150px; margin: 0px 20px 40px 0px;\"/></div><div style=\"display: inline\"><div style=\"display: inline; position:absolute; bottom:10px; font-size:medium;\">Rank: 3, score: 0.298</div><img src=\"/mmfs1/gscratch/balazinska/enhaoz/complex_event_video/tmp/track_mot_new_metric/742/topk_preds/3_001036_0.29782601121833957.jpg\" style=\"height: 150px; margin: 0px 20px 40px 0px;\"/></div><div style=\"display: inline\"><div style=\"display: inline; position:absolute; bottom:10px; font-size:medium;\">Rank: 4, score: 0.266</div><img src=\"/mmfs1/gscratch/balazinska/enhaoz/complex_event_video/tmp/track_mot_new_metric/742/topk_preds/4_000534_0.26550612887561253.jpg\" style=\"height: 150px; margin: 0px 20px 40px 0px;\"/></div><div style=\"display: inline\"><div style=\"display: inline; position:absolute; bottom:10px; font-size:medium;\">Rank: 5, score: 0.250</div><img src=\"/mmfs1/gscratch/balazinska/enhaoz/complex_event_video/tmp/track_mot_new_metric/742/topk_preds/5_000535_0.24997219478046961.jpg\" style=\"height: 150px; margin: 0px 20px 40px 0px;\"/></div><div style=\"display: inline\"><div style=\"display: inline; position:absolute; bottom:10px; font-size:medium;\">Rank: 6, score: 0.234</div><img src=\"/mmfs1/gscratch/balazinska/enhaoz/complex_event_video/tmp/track_mot_new_metric/742/topk_preds/6_001038_0.23447701269132148.jpg\" style=\"height: 150px; margin: 0px 20px 40px 0px;\"/></div><div style=\"display: inline\"><div style=\"display: inline; position:absolute; bottom:10px; font-size:medium;\">Rank: 7, score: 0.217</div><img src=\"/mmfs1/gscratch/balazinska/enhaoz/complex_event_video/tmp/track_mot_new_metric/742/topk_preds/7_000554_0.21688800857226354.jpg\" style=\"height: 150px; margin: 0px 20px 40px 0px;\"/></div><div style=\"display: inline\"><div style=\"display: inline; position:absolute; bottom:10px; font-size:medium;\">Rank: 8, score: 0.207</div><img src=\"/mmfs1/gscratch/balazinska/enhaoz/complex_event_video/tmp/track_mot_new_metric/742/topk_preds/8_001037_0.20665140115581726.jpg\" style=\"height: 150px; margin: 0px 20px 40px 0px;\"/></div><div style=\"display: inline\"><div style=\"display: inline; position:absolute; bottom:10px; font-size:medium;\">Rank: 9, score: 0.200</div><img src=\"/mmfs1/gscratch/balazinska/enhaoz/complex_event_video/tmp/track_mot_new_metric/742/topk_preds/9_000839_0.19964080973430856.jpg\" style=\"height: 150px; margin: 0px 20px 40px 0px;\"/></div><div style=\"display: inline\"><div style=\"display: inline; position:absolute; bottom:10px; font-size:medium;\">Rank: 10, score: 0.199</div><img src=\"/mmfs1/gscratch/balazinska/enhaoz/complex_event_video/tmp/track_mot_new_metric/742/topk_preds/10_000555_0.19897039897039898.jpg\" style=\"height: 150px; margin: 0px 20px 40px 0px;\"/></div></div>"
      ],
      "text/plain": [
       "<IPython.core.display.HTML object>"
      ]
     },
     "metadata": {},
     "output_type": "display_data"
    },
    {
     "data": {
      "text/html": [
       "<h1>query_track_id = 402</h1><h2>query track:</h2><img src=\"/mmfs1/gscratch/balazinska/enhaoz/complex_event_video/tmp/track_mot_new_metric/402/pos_samples/000402.jpg\" style=\"height: 150px;\"/><h2>top10 tracks:</h2>"
      ],
      "text/plain": [
       "<IPython.core.display.HTML object>"
      ]
     },
     "metadata": {},
     "output_type": "display_data"
    },
    {
     "data": {
      "text/html": [
       "<div style=\"white-space: nowrap; overflow: scroll; position: relative;\"><div style=\"display: inline\"><div style=\"display: inline; position:absolute; bottom:10px; font-size:medium;\">Rank: 1, score: 0.427</div><img src=\"/mmfs1/gscratch/balazinska/enhaoz/complex_event_video/tmp/track_mot_new_metric/402/topk_preds/1_000403_0.42703249500817186.jpg\" style=\"height: 150px; margin: 0px 20px 40px 0px;\"/></div><div style=\"display: inline\"><div style=\"display: inline; position:absolute; bottom:10px; font-size:medium;\">Rank: 2, score: 0.291</div><img src=\"/mmfs1/gscratch/balazinska/enhaoz/complex_event_video/tmp/track_mot_new_metric/402/topk_preds/2_001040_0.29119025304592316.jpg\" style=\"height: 150px; margin: 0px 20px 40px 0px;\"/></div><div style=\"display: inline\"><div style=\"display: inline; position:absolute; bottom:10px; font-size:medium;\">Rank: 3, score: 0.280</div><img src=\"/mmfs1/gscratch/balazinska/enhaoz/complex_event_video/tmp/track_mot_new_metric/402/topk_preds/3_000915_0.27950913803852084.jpg\" style=\"height: 150px; margin: 0px 20px 40px 0px;\"/></div><div style=\"display: inline\"><div style=\"display: inline; position:absolute; bottom:10px; font-size:medium;\">Rank: 4, score: 0.275</div><img src=\"/mmfs1/gscratch/balazinska/enhaoz/complex_event_video/tmp/track_mot_new_metric/402/topk_preds/4_000806_0.27545075610701825.jpg\" style=\"height: 150px; margin: 0px 20px 40px 0px;\"/></div><div style=\"display: inline\"><div style=\"display: inline; position:absolute; bottom:10px; font-size:medium;\">Rank: 5, score: 0.252</div><img src=\"/mmfs1/gscratch/balazinska/enhaoz/complex_event_video/tmp/track_mot_new_metric/402/topk_preds/5_000914_0.25154316072440963.jpg\" style=\"height: 150px; margin: 0px 20px 40px 0px;\"/></div><div style=\"display: inline\"><div style=\"display: inline; position:absolute; bottom:10px; font-size:medium;\">Rank: 6, score: 0.245</div><img src=\"/mmfs1/gscratch/balazinska/enhaoz/complex_event_video/tmp/track_mot_new_metric/402/topk_preds/6_000916_0.24511923668114471.jpg\" style=\"height: 150px; margin: 0px 20px 40px 0px;\"/></div><div style=\"display: inline\"><div style=\"display: inline; position:absolute; bottom:10px; font-size:medium;\">Rank: 7, score: 0.237</div><img src=\"/mmfs1/gscratch/balazinska/enhaoz/complex_event_video/tmp/track_mot_new_metric/402/topk_preds/7_000766_0.23653331953285375.jpg\" style=\"height: 150px; margin: 0px 20px 40px 0px;\"/></div><div style=\"display: inline\"><div style=\"display: inline; position:absolute; bottom:10px; font-size:medium;\">Rank: 8, score: 0.231</div><img src=\"/mmfs1/gscratch/balazinska/enhaoz/complex_event_video/tmp/track_mot_new_metric/402/topk_preds/8_000807_0.23103294170224276.jpg\" style=\"height: 150px; margin: 0px 20px 40px 0px;\"/></div><div style=\"display: inline\"><div style=\"display: inline; position:absolute; bottom:10px; font-size:medium;\">Rank: 9, score: 0.229</div><img src=\"/mmfs1/gscratch/balazinska/enhaoz/complex_event_video/tmp/track_mot_new_metric/402/topk_preds/9_000558_0.22915199248681992.jpg\" style=\"height: 150px; margin: 0px 20px 40px 0px;\"/></div><div style=\"display: inline\"><div style=\"display: inline; position:absolute; bottom:10px; font-size:medium;\">Rank: 10, score: 0.209</div><img src=\"/mmfs1/gscratch/balazinska/enhaoz/complex_event_video/tmp/track_mot_new_metric/402/topk_preds/10_001042_0.20949586110619556.jpg\" style=\"height: 150px; margin: 0px 20px 40px 0px;\"/></div></div>"
      ],
      "text/plain": [
       "<IPython.core.display.HTML object>"
      ]
     },
     "metadata": {},
     "output_type": "display_data"
    },
    {
     "data": {
      "text/html": [
       "<h1>query_track_id = 1032</h1><h2>query track:</h2><img src=\"/mmfs1/gscratch/balazinska/enhaoz/complex_event_video/tmp/track_mot_new_metric/1032/pos_samples/001032.jpg\" style=\"height: 150px;\"/><h2>top10 tracks:</h2>"
      ],
      "text/plain": [
       "<IPython.core.display.HTML object>"
      ]
     },
     "metadata": {},
     "output_type": "display_data"
    },
    {
     "data": {
      "text/html": [
       "<div style=\"white-space: nowrap; overflow: scroll; position: relative;\"><div style=\"display: inline\"><div style=\"display: inline; position:absolute; bottom:10px; font-size:medium;\">Rank: 1, score: 0.509</div><img src=\"/mmfs1/gscratch/balazinska/enhaoz/complex_event_video/tmp/track_mot_new_metric/1032/topk_preds/1_001031_0.5089522448893837.jpg\" style=\"height: 150px; margin: 0px 20px 40px 0px;\"/></div><div style=\"display: inline\"><div style=\"display: inline; position:absolute; bottom:10px; font-size:medium;\">Rank: 2, score: 0.336</div><img src=\"/mmfs1/gscratch/balazinska/enhaoz/complex_event_video/tmp/track_mot_new_metric/1032/topk_preds/2_000949_0.336295242937494.jpg\" style=\"height: 150px; margin: 0px 20px 40px 0px;\"/></div><div style=\"display: inline\"><div style=\"display: inline; position:absolute; bottom:10px; font-size:medium;\">Rank: 3, score: 0.318</div><img src=\"/mmfs1/gscratch/balazinska/enhaoz/complex_event_video/tmp/track_mot_new_metric/1032/topk_preds/3_000145_0.3175449266930856.jpg\" style=\"height: 150px; margin: 0px 20px 40px 0px;\"/></div><div style=\"display: inline\"><div style=\"display: inline; position:absolute; bottom:10px; font-size:medium;\">Rank: 4, score: 0.311</div><img src=\"/mmfs1/gscratch/balazinska/enhaoz/complex_event_video/tmp/track_mot_new_metric/1032/topk_preds/4_000847_0.31087926146186295.jpg\" style=\"height: 150px; margin: 0px 20px 40px 0px;\"/></div><div style=\"display: inline\"><div style=\"display: inline; position:absolute; bottom:10px; font-size:medium;\">Rank: 5, score: 0.310</div><img src=\"/mmfs1/gscratch/balazinska/enhaoz/complex_event_video/tmp/track_mot_new_metric/1032/topk_preds/5_000053_0.3104708568423066.jpg\" style=\"height: 150px; margin: 0px 20px 40px 0px;\"/></div><div style=\"display: inline\"><div style=\"display: inline; position:absolute; bottom:10px; font-size:medium;\">Rank: 6, score: 0.302</div><img src=\"/mmfs1/gscratch/balazinska/enhaoz/complex_event_video/tmp/track_mot_new_metric/1032/topk_preds/6_000937_0.3017021305487283.jpg\" style=\"height: 150px; margin: 0px 20px 40px 0px;\"/></div><div style=\"display: inline\"><div style=\"display: inline; position:absolute; bottom:10px; font-size:medium;\">Rank: 7, score: 0.296</div><img src=\"/mmfs1/gscratch/balazinska/enhaoz/complex_event_video/tmp/track_mot_new_metric/1032/topk_preds/7_000643_0.2958817495032854.jpg\" style=\"height: 150px; margin: 0px 20px 40px 0px;\"/></div><div style=\"display: inline\"><div style=\"display: inline; position:absolute; bottom:10px; font-size:medium;\">Rank: 8, score: 0.284</div><img src=\"/mmfs1/gscratch/balazinska/enhaoz/complex_event_video/tmp/track_mot_new_metric/1032/topk_preds/8_000935_0.284039910748116.jpg\" style=\"height: 150px; margin: 0px 20px 40px 0px;\"/></div><div style=\"display: inline\"><div style=\"display: inline; position:absolute; bottom:10px; font-size:medium;\">Rank: 9, score: 0.262</div><img src=\"/mmfs1/gscratch/balazinska/enhaoz/complex_event_video/tmp/track_mot_new_metric/1032/topk_preds/9_000188_0.26192104563243285.jpg\" style=\"height: 150px; margin: 0px 20px 40px 0px;\"/></div><div style=\"display: inline\"><div style=\"display: inline; position:absolute; bottom:10px; font-size:medium;\">Rank: 10, score: 0.260</div><img src=\"/mmfs1/gscratch/balazinska/enhaoz/complex_event_video/tmp/track_mot_new_metric/1032/topk_preds/10_000637_0.25970303296632413.jpg\" style=\"height: 150px; margin: 0px 20px 40px 0px;\"/></div></div>"
      ],
      "text/plain": [
       "<IPython.core.display.HTML object>"
      ]
     },
     "metadata": {},
     "output_type": "display_data"
    }
   ],
   "source": [
    "base_dir = \"/mmfs1/gscratch/balazinska/enhaoz/complex_event_video/tmp/track_mot_new_metric\"\n",
    "for dirs in os.walk(base_dir):\n",
    "    query_track_ids = dirs[1]\n",
    "    break\n",
    "\n",
    "for query_track_id in query_track_ids:\n",
    "    html = ''\n",
    "    html += '<h1>query_track_id = {}</h1>'.format(query_track_id)\n",
    "    html += '<h2>query track:</h2>'\n",
    "    # Display query track \n",
    "    for img_file in os.listdir(os.path.join(base_dir, query_track_id, \"pos_samples\")):\n",
    "        if img_file[-4:] != \".jpg\":\n",
    "            continue\n",
    "        html += '<img src=\"{}\" style=\"height: 150px;\"/>'.format(os.path.join(base_dir, query_track_id, \"pos_samples\", img_file))\n",
    "    html += '<h2>top10 tracks:</h2>'\n",
    "    display(HTML(html))\n",
    "    html = ''\n",
    "    # Display topk tracks\n",
    "    html += '<div style=\"white-space: nowrap; overflow: scroll; position: relative;\">'\n",
    "    topk_list = []\n",
    "    for img_file in os.listdir(os.path.join(base_dir, query_track_id, \"topk_preds\")):\n",
    "        if img_file[-4:] != \".jpg\":\n",
    "            continue\n",
    "        rank, _, score = img_file[:-4].split(\"_\")\n",
    "        rank = int(rank)\n",
    "        score = float(score)\n",
    "        topk_list.append(['<img src=\"{}\" style=\"height: 150px; margin: 0px 20px 40px 0px;\"/>'.format(os.path.join(base_dir, query_track_id, \"topk_preds\", img_file)), rank, score])\n",
    "    topk_list.sort(key=lambda tup: tup[1])\n",
    "    for tup in topk_list:\n",
    "        html += '<div style=\"display: inline\">' + '<div style=\"display: inline; position:absolute; bottom:10px; font-size:medium;\">Rank: {}, score: {:.3f}</div>'.format(tup[1], tup[2]) + tup[0] + '</div>'\n",
    "    html += '</div>'\n",
    "    display(HTML(html))\n"
   ]
  },
  {
   "cell_type": "code",
   "execution_count": 3,
   "metadata": {},
   "outputs": [
    {
     "data": {
      "text/html": [
       "<h1>query_track_id = 742_402</h1><h2>query track:</h2><img src=\"/mmfs1/gscratch/balazinska/enhaoz/complex_event_video/tmp/track_mot_new_metric_aggregate/742_402/pos_samples/000742.jpg\" style=\"height: 150px; margin: 0px 20px 40px 0px;\"/><img src=\"/mmfs1/gscratch/balazinska/enhaoz/complex_event_video/tmp/track_mot_new_metric_aggregate/742_402/pos_samples/000402.jpg\" style=\"height: 150px; margin: 0px 20px 40px 0px;\"/><h2>top10 tracks:</h2>"
      ],
      "text/plain": [
       "<IPython.core.display.HTML object>"
      ]
     },
     "metadata": {},
     "output_type": "display_data"
    },
    {
     "data": {
      "text/html": [
       "<div style=\"white-space: nowrap; overflow: scroll; position: relative;\"><div style=\"display: inline\"><div style=\"display: inline; position:absolute; bottom:10px; font-size:medium;\">Rank: 1, score: 0.676</div><img src=\"/mmfs1/gscratch/balazinska/enhaoz/complex_event_video/tmp/track_mot_new_metric_aggregate/742_402/topk_preds/1_000744_0.6761841888100346.jpg\" style=\"height: 150px; margin: 0px 20px 40px 0px;\"/></div><div style=\"display: inline\"><div style=\"display: inline; position:absolute; bottom:10px; font-size:medium;\">Rank: 2, score: 0.441</div><img src=\"/mmfs1/gscratch/balazinska/enhaoz/complex_event_video/tmp/track_mot_new_metric_aggregate/742_402/topk_preds/2_000743_0.4410029111699756.jpg\" style=\"height: 150px; margin: 0px 20px 40px 0px;\"/></div><div style=\"display: inline\"><div style=\"display: inline; position:absolute; bottom:10px; font-size:medium;\">Rank: 3, score: 0.427</div><img src=\"/mmfs1/gscratch/balazinska/enhaoz/complex_event_video/tmp/track_mot_new_metric_aggregate/742_402/topk_preds/3_000403_0.42703249500817186.jpg\" style=\"height: 150px; margin: 0px 20px 40px 0px;\"/></div><div style=\"display: inline\"><div style=\"display: inline; position:absolute; bottom:10px; font-size:medium;\">Rank: 4, score: 0.298</div><img src=\"/mmfs1/gscratch/balazinska/enhaoz/complex_event_video/tmp/track_mot_new_metric_aggregate/742_402/topk_preds/4_001036_0.29782601121833957.jpg\" style=\"height: 150px; margin: 0px 20px 40px 0px;\"/></div><div style=\"display: inline\"><div style=\"display: inline; position:absolute; bottom:10px; font-size:medium;\">Rank: 5, score: 0.291</div><img src=\"/mmfs1/gscratch/balazinska/enhaoz/complex_event_video/tmp/track_mot_new_metric_aggregate/742_402/topk_preds/5_001040_0.29119025304592316.jpg\" style=\"height: 150px; margin: 0px 20px 40px 0px;\"/></div><div style=\"display: inline\"><div style=\"display: inline; position:absolute; bottom:10px; font-size:medium;\">Rank: 6, score: 0.280</div><img src=\"/mmfs1/gscratch/balazinska/enhaoz/complex_event_video/tmp/track_mot_new_metric_aggregate/742_402/topk_preds/6_000915_0.27950913803852084.jpg\" style=\"height: 150px; margin: 0px 20px 40px 0px;\"/></div><div style=\"display: inline\"><div style=\"display: inline; position:absolute; bottom:10px; font-size:medium;\">Rank: 7, score: 0.275</div><img src=\"/mmfs1/gscratch/balazinska/enhaoz/complex_event_video/tmp/track_mot_new_metric_aggregate/742_402/topk_preds/7_000806_0.27545075610701825.jpg\" style=\"height: 150px; margin: 0px 20px 40px 0px;\"/></div><div style=\"display: inline\"><div style=\"display: inline; position:absolute; bottom:10px; font-size:medium;\">Rank: 8, score: 0.266</div><img src=\"/mmfs1/gscratch/balazinska/enhaoz/complex_event_video/tmp/track_mot_new_metric_aggregate/742_402/topk_preds/8_000534_0.26550612887561253.jpg\" style=\"height: 150px; margin: 0px 20px 40px 0px;\"/></div><div style=\"display: inline\"><div style=\"display: inline; position:absolute; bottom:10px; font-size:medium;\">Rank: 9, score: 0.252</div><img src=\"/mmfs1/gscratch/balazinska/enhaoz/complex_event_video/tmp/track_mot_new_metric_aggregate/742_402/topk_preds/9_000914_0.25154316072440963.jpg\" style=\"height: 150px; margin: 0px 20px 40px 0px;\"/></div><div style=\"display: inline\"><div style=\"display: inline; position:absolute; bottom:10px; font-size:medium;\">Rank: 10, score: 0.250</div><img src=\"/mmfs1/gscratch/balazinska/enhaoz/complex_event_video/tmp/track_mot_new_metric_aggregate/742_402/topk_preds/10_000535_0.24997219478046961.jpg\" style=\"height: 150px; margin: 0px 20px 40px 0px;\"/></div></div>"
      ],
      "text/plain": [
       "<IPython.core.display.HTML object>"
      ]
     },
     "metadata": {},
     "output_type": "display_data"
    },
    {
     "data": {
      "text/html": [
       "<h1>query_track_id = 199_360</h1><h2>query track:</h2><img src=\"/mmfs1/gscratch/balazinska/enhaoz/complex_event_video/tmp/track_mot_new_metric_aggregate/199_360/pos_samples/000360.jpg\" style=\"height: 150px; margin: 0px 20px 40px 0px;\"/><img src=\"/mmfs1/gscratch/balazinska/enhaoz/complex_event_video/tmp/track_mot_new_metric_aggregate/199_360/pos_samples/000199.jpg\" style=\"height: 150px; margin: 0px 20px 40px 0px;\"/><h2>top10 tracks:</h2>"
      ],
      "text/plain": [
       "<IPython.core.display.HTML object>"
      ]
     },
     "metadata": {},
     "output_type": "display_data"
    },
    {
     "data": {
      "text/html": [
       "<div style=\"white-space: nowrap; overflow: scroll; position: relative;\"><div style=\"display: inline\"><div style=\"display: inline; position:absolute; bottom:10px; font-size:medium;\">Rank: 1, score: 0.579</div><img src=\"/mmfs1/gscratch/balazinska/enhaoz/complex_event_video/tmp/track_mot_new_metric_aggregate/199_360/topk_preds/1_000041_0.5794411408117314.jpg\" style=\"height: 150px; margin: 0px 20px 40px 0px;\"/></div><div style=\"display: inline\"><div style=\"display: inline; position:absolute; bottom:10px; font-size:medium;\">Rank: 2, score: 0.566</div><img src=\"/mmfs1/gscratch/balazinska/enhaoz/complex_event_video/tmp/track_mot_new_metric_aggregate/199_360/topk_preds/2_000353_0.5656363636363636.jpg\" style=\"height: 150px; margin: 0px 20px 40px 0px;\"/></div><div style=\"display: inline\"><div style=\"display: inline; position:absolute; bottom:10px; font-size:medium;\">Rank: 3, score: 0.561</div><img src=\"/mmfs1/gscratch/balazinska/enhaoz/complex_event_video/tmp/track_mot_new_metric_aggregate/199_360/topk_preds/3_001165_0.5607924947845748.jpg\" style=\"height: 150px; margin: 0px 20px 40px 0px;\"/></div><div style=\"display: inline\"><div style=\"display: inline; position:absolute; bottom:10px; font-size:medium;\">Rank: 4, score: 0.556</div><img src=\"/mmfs1/gscratch/balazinska/enhaoz/complex_event_video/tmp/track_mot_new_metric_aggregate/199_360/topk_preds/4_000042_0.5557042401343409.jpg\" style=\"height: 150px; margin: 0px 20px 40px 0px;\"/></div><div style=\"display: inline\"><div style=\"display: inline; position:absolute; bottom:10px; font-size:medium;\">Rank: 5, score: 0.533</div><img src=\"/mmfs1/gscratch/balazinska/enhaoz/complex_event_video/tmp/track_mot_new_metric_aggregate/199_360/topk_preds/5_000185_0.5328736666578439.jpg\" style=\"height: 150px; margin: 0px 20px 40px 0px;\"/></div><div style=\"display: inline\"><div style=\"display: inline; position:absolute; bottom:10px; font-size:medium;\">Rank: 6, score: 0.498</div><img src=\"/mmfs1/gscratch/balazinska/enhaoz/complex_event_video/tmp/track_mot_new_metric_aggregate/199_360/topk_preds/6_000364_0.49846733507886837.jpg\" style=\"height: 150px; margin: 0px 20px 40px 0px;\"/></div><div style=\"display: inline\"><div style=\"display: inline; position:absolute; bottom:10px; font-size:medium;\">Rank: 7, score: 0.490</div><img src=\"/mmfs1/gscratch/balazinska/enhaoz/complex_event_video/tmp/track_mot_new_metric_aggregate/199_360/topk_preds/7_000262_0.490324632433887.jpg\" style=\"height: 150px; margin: 0px 20px 40px 0px;\"/></div><div style=\"display: inline\"><div style=\"display: inline; position:absolute; bottom:10px; font-size:medium;\">Rank: 8, score: 0.469</div><img src=\"/mmfs1/gscratch/balazinska/enhaoz/complex_event_video/tmp/track_mot_new_metric_aggregate/199_360/topk_preds/8_000871_0.4689262012873609.jpg\" style=\"height: 150px; margin: 0px 20px 40px 0px;\"/></div><div style=\"display: inline\"><div style=\"display: inline; position:absolute; bottom:10px; font-size:medium;\">Rank: 9, score: 0.467</div><img src=\"/mmfs1/gscratch/balazinska/enhaoz/complex_event_video/tmp/track_mot_new_metric_aggregate/199_360/topk_preds/9_000039_0.46678650442477876.jpg\" style=\"height: 150px; margin: 0px 20px 40px 0px;\"/></div><div style=\"display: inline\"><div style=\"display: inline; position:absolute; bottom:10px; font-size:medium;\">Rank: 10, score: 0.461</div><img src=\"/mmfs1/gscratch/balazinska/enhaoz/complex_event_video/tmp/track_mot_new_metric_aggregate/199_360/topk_preds/10_000856_0.461301970224234.jpg\" style=\"height: 150px; margin: 0px 20px 40px 0px;\"/></div></div>"
      ],
      "text/plain": [
       "<IPython.core.display.HTML object>"
      ]
     },
     "metadata": {},
     "output_type": "display_data"
    },
    {
     "data": {
      "text/html": [
       "<h1>query_track_id = 957_799</h1><h2>query track:</h2><img src=\"/mmfs1/gscratch/balazinska/enhaoz/complex_event_video/tmp/track_mot_new_metric_aggregate/957_799/pos_samples/000957.jpg\" style=\"height: 150px; margin: 0px 20px 40px 0px;\"/><img src=\"/mmfs1/gscratch/balazinska/enhaoz/complex_event_video/tmp/track_mot_new_metric_aggregate/957_799/pos_samples/000799.jpg\" style=\"height: 150px; margin: 0px 20px 40px 0px;\"/><h2>top10 tracks:</h2>"
      ],
      "text/plain": [
       "<IPython.core.display.HTML object>"
      ]
     },
     "metadata": {},
     "output_type": "display_data"
    },
    {
     "data": {
      "text/html": [
       "<div style=\"white-space: nowrap; overflow: scroll; position: relative;\"><div style=\"display: inline\"><div style=\"display: inline; position:absolute; bottom:10px; font-size:medium;\">Rank: 1, score: 0.712</div><img src=\"/mmfs1/gscratch/balazinska/enhaoz/complex_event_video/tmp/track_mot_new_metric_aggregate/957_799/topk_preds/1_000893_0.7118976695286491.jpg\" style=\"height: 150px; margin: 0px 20px 40px 0px;\"/></div><div style=\"display: inline\"><div style=\"display: inline; position:absolute; bottom:10px; font-size:medium;\">Rank: 2, score: 0.560</div><img src=\"/mmfs1/gscratch/balazinska/enhaoz/complex_event_video/tmp/track_mot_new_metric_aggregate/957_799/topk_preds/2_000476_0.5602735368956743.jpg\" style=\"height: 150px; margin: 0px 20px 40px 0px;\"/></div><div style=\"display: inline\"><div style=\"display: inline; position:absolute; bottom:10px; font-size:medium;\">Rank: 3, score: 0.528</div><img src=\"/mmfs1/gscratch/balazinska/enhaoz/complex_event_video/tmp/track_mot_new_metric_aggregate/957_799/topk_preds/3_000959_0.5276111367481926.jpg\" style=\"height: 150px; margin: 0px 20px 40px 0px;\"/></div><div style=\"display: inline\"><div style=\"display: inline; position:absolute; bottom:10px; font-size:medium;\">Rank: 4, score: 0.482</div><img src=\"/mmfs1/gscratch/balazinska/enhaoz/complex_event_video/tmp/track_mot_new_metric_aggregate/957_799/topk_preds/4_000798_0.4821144235468462.jpg\" style=\"height: 150px; margin: 0px 20px 40px 0px;\"/></div><div style=\"display: inline\"><div style=\"display: inline; position:absolute; bottom:10px; font-size:medium;\">Rank: 5, score: 0.467</div><img src=\"/mmfs1/gscratch/balazinska/enhaoz/complex_event_video/tmp/track_mot_new_metric_aggregate/957_799/topk_preds/5_000373_0.4666756793294579.jpg\" style=\"height: 150px; margin: 0px 20px 40px 0px;\"/></div><div style=\"display: inline\"><div style=\"display: inline; position:absolute; bottom:10px; font-size:medium;\">Rank: 6, score: 0.375</div><img src=\"/mmfs1/gscratch/balazinska/enhaoz/complex_event_video/tmp/track_mot_new_metric_aggregate/957_799/topk_preds/6_000200_0.37479963844531483.jpg\" style=\"height: 150px; margin: 0px 20px 40px 0px;\"/></div><div style=\"display: inline\"><div style=\"display: inline; position:absolute; bottom:10px; font-size:medium;\">Rank: 7, score: 0.350</div><img src=\"/mmfs1/gscratch/balazinska/enhaoz/complex_event_video/tmp/track_mot_new_metric_aggregate/957_799/topk_preds/7_000797_0.3502567951378158.jpg\" style=\"height: 150px; margin: 0px 20px 40px 0px;\"/></div><div style=\"display: inline\"><div style=\"display: inline; position:absolute; bottom:10px; font-size:medium;\">Rank: 8, score: 0.303</div><img src=\"/mmfs1/gscratch/balazinska/enhaoz/complex_event_video/tmp/track_mot_new_metric_aggregate/957_799/topk_preds/8_000513_0.30262702761746985.jpg\" style=\"height: 150px; margin: 0px 20px 40px 0px;\"/></div><div style=\"display: inline\"><div style=\"display: inline; position:absolute; bottom:10px; font-size:medium;\">Rank: 9, score: 0.269</div><img src=\"/mmfs1/gscratch/balazinska/enhaoz/complex_event_video/tmp/track_mot_new_metric_aggregate/957_799/topk_preds/9_000380_0.26934830138983007.jpg\" style=\"height: 150px; margin: 0px 20px 40px 0px;\"/></div><div style=\"display: inline\"><div style=\"display: inline; position:absolute; bottom:10px; font-size:medium;\">Rank: 10, score: 0.269</div><img src=\"/mmfs1/gscratch/balazinska/enhaoz/complex_event_video/tmp/track_mot_new_metric_aggregate/957_799/topk_preds/10_000597_0.26885433658418073.jpg\" style=\"height: 150px; margin: 0px 20px 40px 0px;\"/></div></div>"
      ],
      "text/plain": [
       "<IPython.core.display.HTML object>"
      ]
     },
     "metadata": {},
     "output_type": "display_data"
    },
    {
     "data": {
      "text/html": [
       "<h1>query_track_id = 424_582</h1><h2>query track:</h2><img src=\"/mmfs1/gscratch/balazinska/enhaoz/complex_event_video/tmp/track_mot_new_metric_aggregate/424_582/pos_samples/000582.jpg\" style=\"height: 150px; margin: 0px 20px 40px 0px;\"/><img src=\"/mmfs1/gscratch/balazinska/enhaoz/complex_event_video/tmp/track_mot_new_metric_aggregate/424_582/pos_samples/000424.jpg\" style=\"height: 150px; margin: 0px 20px 40px 0px;\"/><h2>top10 tracks:</h2>"
      ],
      "text/plain": [
       "<IPython.core.display.HTML object>"
      ]
     },
     "metadata": {},
     "output_type": "display_data"
    },
    {
     "data": {
      "text/html": [
       "<div style=\"white-space: nowrap; overflow: scroll; position: relative;\"><div style=\"display: inline\"><div style=\"display: inline; position:absolute; bottom:10px; font-size:medium;\">Rank: 1, score: 0.653</div><img src=\"/mmfs1/gscratch/balazinska/enhaoz/complex_event_video/tmp/track_mot_new_metric_aggregate/424_582/topk_preds/1_000585_0.6525666909898336.jpg\" style=\"height: 150px; margin: 0px 20px 40px 0px;\"/></div><div style=\"display: inline\"><div style=\"display: inline; position:absolute; bottom:10px; font-size:medium;\">Rank: 2, score: 0.603</div><img src=\"/mmfs1/gscratch/balazinska/enhaoz/complex_event_video/tmp/track_mot_new_metric_aggregate/424_582/topk_preds/2_000580_0.6030221603731695.jpg\" style=\"height: 150px; margin: 0px 20px 40px 0px;\"/></div><div style=\"display: inline\"><div style=\"display: inline; position:absolute; bottom:10px; font-size:medium;\">Rank: 3, score: 0.579</div><img src=\"/mmfs1/gscratch/balazinska/enhaoz/complex_event_video/tmp/track_mot_new_metric_aggregate/424_582/topk_preds/3_000427_0.5791163651791569.jpg\" style=\"height: 150px; margin: 0px 20px 40px 0px;\"/></div><div style=\"display: inline\"><div style=\"display: inline; position:absolute; bottom:10px; font-size:medium;\">Rank: 4, score: 0.556</div><img src=\"/mmfs1/gscratch/balazinska/enhaoz/complex_event_video/tmp/track_mot_new_metric_aggregate/424_582/topk_preds/4_001085_0.5560292615728095.jpg\" style=\"height: 150px; margin: 0px 20px 40px 0px;\"/></div><div style=\"display: inline\"><div style=\"display: inline; position:absolute; bottom:10px; font-size:medium;\">Rank: 5, score: 0.548</div><img src=\"/mmfs1/gscratch/balazinska/enhaoz/complex_event_video/tmp/track_mot_new_metric_aggregate/424_582/topk_preds/5_000418_0.5477679799900608.jpg\" style=\"height: 150px; margin: 0px 20px 40px 0px;\"/></div><div style=\"display: inline\"><div style=\"display: inline; position:absolute; bottom:10px; font-size:medium;\">Rank: 6, score: 0.539</div><img src=\"/mmfs1/gscratch/balazinska/enhaoz/complex_event_video/tmp/track_mot_new_metric_aggregate/424_582/topk_preds/6_000583_0.5389645549585572.jpg\" style=\"height: 150px; margin: 0px 20px 40px 0px;\"/></div><div style=\"display: inline\"><div style=\"display: inline; position:absolute; bottom:10px; font-size:medium;\">Rank: 7, score: 0.536</div><img src=\"/mmfs1/gscratch/balazinska/enhaoz/complex_event_video/tmp/track_mot_new_metric_aggregate/424_582/topk_preds/7_001011_0.5362761452585654.jpg\" style=\"height: 150px; margin: 0px 20px 40px 0px;\"/></div><div style=\"display: inline\"><div style=\"display: inline; position:absolute; bottom:10px; font-size:medium;\">Rank: 8, score: 0.531</div><img src=\"/mmfs1/gscratch/balazinska/enhaoz/complex_event_video/tmp/track_mot_new_metric_aggregate/424_582/topk_preds/8_000473_0.5306553086593104.jpg\" style=\"height: 150px; margin: 0px 20px 40px 0px;\"/></div><div style=\"display: inline\"><div style=\"display: inline; position:absolute; bottom:10px; font-size:medium;\">Rank: 9, score: 0.530</div><img src=\"/mmfs1/gscratch/balazinska/enhaoz/complex_event_video/tmp/track_mot_new_metric_aggregate/424_582/topk_preds/9_000417_0.5300460559982455.jpg\" style=\"height: 150px; margin: 0px 20px 40px 0px;\"/></div><div style=\"display: inline\"><div style=\"display: inline; position:absolute; bottom:10px; font-size:medium;\">Rank: 10, score: 0.528</div><img src=\"/mmfs1/gscratch/balazinska/enhaoz/complex_event_video/tmp/track_mot_new_metric_aggregate/424_582/topk_preds/10_000617_0.5277304825022555.jpg\" style=\"height: 150px; margin: 0px 20px 40px 0px;\"/></div></div>"
      ],
      "text/plain": [
       "<IPython.core.display.HTML object>"
      ]
     },
     "metadata": {},
     "output_type": "display_data"
    },
    {
     "data": {
      "text/html": [
       "<h1>query_track_id = 1032_252</h1><h2>query track:</h2><img src=\"/mmfs1/gscratch/balazinska/enhaoz/complex_event_video/tmp/track_mot_new_metric_aggregate/1032_252/pos_samples/000252.jpg\" style=\"height: 150px; margin: 0px 20px 40px 0px;\"/><img src=\"/mmfs1/gscratch/balazinska/enhaoz/complex_event_video/tmp/track_mot_new_metric_aggregate/1032_252/pos_samples/001032.jpg\" style=\"height: 150px; margin: 0px 20px 40px 0px;\"/><h2>top10 tracks:</h2>"
      ],
      "text/plain": [
       "<IPython.core.display.HTML object>"
      ]
     },
     "metadata": {},
     "output_type": "display_data"
    },
    {
     "data": {
      "text/html": [
       "<div style=\"white-space: nowrap; overflow: scroll; position: relative;\"><div style=\"display: inline\"><div style=\"display: inline; position:absolute; bottom:10px; font-size:medium;\">Rank: 1, score: 0.887</div><img src=\"/mmfs1/gscratch/balazinska/enhaoz/complex_event_video/tmp/track_mot_new_metric_aggregate/1032_252/topk_preds/1_000255_0.8868884384563411.jpg\" style=\"height: 150px; margin: 0px 20px 40px 0px;\"/></div><div style=\"display: inline\"><div style=\"display: inline; position:absolute; bottom:10px; font-size:medium;\">Rank: 2, score: 0.851</div><img src=\"/mmfs1/gscratch/balazinska/enhaoz/complex_event_video/tmp/track_mot_new_metric_aggregate/1032_252/topk_preds/2_000407_0.8513154346904973.jpg\" style=\"height: 150px; margin: 0px 20px 40px 0px;\"/></div><div style=\"display: inline\"><div style=\"display: inline; position:absolute; bottom:10px; font-size:medium;\">Rank: 3, score: 0.843</div><img src=\"/mmfs1/gscratch/balazinska/enhaoz/complex_event_video/tmp/track_mot_new_metric_aggregate/1032_252/topk_preds/3_000529_0.8428179453372768.jpg\" style=\"height: 150px; margin: 0px 20px 40px 0px;\"/></div><div style=\"display: inline\"><div style=\"display: inline; position:absolute; bottom:10px; font-size:medium;\">Rank: 4, score: 0.842</div><img src=\"/mmfs1/gscratch/balazinska/enhaoz/complex_event_video/tmp/track_mot_new_metric_aggregate/1032_252/topk_preds/4_001150_0.8421305892804264.jpg\" style=\"height: 150px; margin: 0px 20px 40px 0px;\"/></div><div style=\"display: inline\"><div style=\"display: inline; position:absolute; bottom:10px; font-size:medium;\">Rank: 5, score: 0.821</div><img src=\"/mmfs1/gscratch/balazinska/enhaoz/complex_event_video/tmp/track_mot_new_metric_aggregate/1032_252/topk_preds/5_000175_0.8213365060479874.jpg\" style=\"height: 150px; margin: 0px 20px 40px 0px;\"/></div><div style=\"display: inline\"><div style=\"display: inline; position:absolute; bottom:10px; font-size:medium;\">Rank: 6, score: 0.821</div><img src=\"/mmfs1/gscratch/balazinska/enhaoz/complex_event_video/tmp/track_mot_new_metric_aggregate/1032_252/topk_preds/6_000254_0.8210547436712036.jpg\" style=\"height: 150px; margin: 0px 20px 40px 0px;\"/></div><div style=\"display: inline\"><div style=\"display: inline; position:absolute; bottom:10px; font-size:medium;\">Rank: 7, score: 0.814</div><img src=\"/mmfs1/gscratch/balazinska/enhaoz/complex_event_video/tmp/track_mot_new_metric_aggregate/1032_252/topk_preds/7_000105_0.8140823867524292.jpg\" style=\"height: 150px; margin: 0px 20px 40px 0px;\"/></div><div style=\"display: inline\"><div style=\"display: inline; position:absolute; bottom:10px; font-size:medium;\">Rank: 8, score: 0.806</div><img src=\"/mmfs1/gscratch/balazinska/enhaoz/complex_event_video/tmp/track_mot_new_metric_aggregate/1032_252/topk_preds/8_000207_0.805759539236861.jpg\" style=\"height: 150px; margin: 0px 20px 40px 0px;\"/></div><div style=\"display: inline\"><div style=\"display: inline; position:absolute; bottom:10px; font-size:medium;\">Rank: 9, score: 0.780</div><img src=\"/mmfs1/gscratch/balazinska/enhaoz/complex_event_video/tmp/track_mot_new_metric_aggregate/1032_252/topk_preds/9_001173_0.7799992469595994.jpg\" style=\"height: 150px; margin: 0px 20px 40px 0px;\"/></div><div style=\"display: inline\"><div style=\"display: inline; position:absolute; bottom:10px; font-size:medium;\">Rank: 10, score: 0.757</div><img src=\"/mmfs1/gscratch/balazinska/enhaoz/complex_event_video/tmp/track_mot_new_metric_aggregate/1032_252/topk_preds/10_000528_0.7570212349544966.jpg\" style=\"height: 150px; margin: 0px 20px 40px 0px;\"/></div></div>"
      ],
      "text/plain": [
       "<IPython.core.display.HTML object>"
      ]
     },
     "metadata": {},
     "output_type": "display_data"
    },
    {
     "data": {
      "text/html": [
       "<h1>query_track_id = 181_981</h1><h2>query track:</h2><img src=\"/mmfs1/gscratch/balazinska/enhaoz/complex_event_video/tmp/track_mot_new_metric_aggregate/181_981/pos_samples/000981.jpg\" style=\"height: 150px; margin: 0px 20px 40px 0px;\"/><img src=\"/mmfs1/gscratch/balazinska/enhaoz/complex_event_video/tmp/track_mot_new_metric_aggregate/181_981/pos_samples/000181.jpg\" style=\"height: 150px; margin: 0px 20px 40px 0px;\"/><h2>top10 tracks:</h2>"
      ],
      "text/plain": [
       "<IPython.core.display.HTML object>"
      ]
     },
     "metadata": {},
     "output_type": "display_data"
    },
    {
     "data": {
      "text/html": [
       "<div style=\"white-space: nowrap; overflow: scroll; position: relative;\"><div style=\"display: inline\"><div style=\"display: inline; position:absolute; bottom:10px; font-size:medium;\">Rank: 1, score: 0.666</div><img src=\"/mmfs1/gscratch/balazinska/enhaoz/complex_event_video/tmp/track_mot_new_metric_aggregate/181_981/topk_preds/1_000982_0.6659654739883547.jpg\" style=\"height: 150px; margin: 0px 20px 40px 0px;\"/></div><div style=\"display: inline\"><div style=\"display: inline; position:absolute; bottom:10px; font-size:medium;\">Rank: 2, score: 0.620</div><img src=\"/mmfs1/gscratch/balazinska/enhaoz/complex_event_video/tmp/track_mot_new_metric_aggregate/181_981/topk_preds/2_000119_0.6204827934706518.jpg\" style=\"height: 150px; margin: 0px 20px 40px 0px;\"/></div><div style=\"display: inline\"><div style=\"display: inline; position:absolute; bottom:10px; font-size:medium;\">Rank: 3, score: 0.604</div><img src=\"/mmfs1/gscratch/balazinska/enhaoz/complex_event_video/tmp/track_mot_new_metric_aggregate/181_981/topk_preds/3_000515_0.6038956242324632.jpg\" style=\"height: 150px; margin: 0px 20px 40px 0px;\"/></div><div style=\"display: inline\"><div style=\"display: inline; position:absolute; bottom:10px; font-size:medium;\">Rank: 4, score: 0.525</div><img src=\"/mmfs1/gscratch/balazinska/enhaoz/complex_event_video/tmp/track_mot_new_metric_aggregate/181_981/topk_preds/4_000021_0.5254614818414052.jpg\" style=\"height: 150px; margin: 0px 20px 40px 0px;\"/></div><div style=\"display: inline\"><div style=\"display: inline; position:absolute; bottom:10px; font-size:medium;\">Rank: 5, score: 0.514</div><img src=\"/mmfs1/gscratch/balazinska/enhaoz/complex_event_video/tmp/track_mot_new_metric_aggregate/181_981/topk_preds/5_000219_0.51424.jpg\" style=\"height: 150px; margin: 0px 20px 40px 0px;\"/></div><div style=\"display: inline\"><div style=\"display: inline; position:absolute; bottom:10px; font-size:medium;\">Rank: 6, score: 0.507</div><img src=\"/mmfs1/gscratch/balazinska/enhaoz/complex_event_video/tmp/track_mot_new_metric_aggregate/181_981/topk_preds/6_001129_0.5070824842898848.jpg\" style=\"height: 150px; margin: 0px 20px 40px 0px;\"/></div><div style=\"display: inline\"><div style=\"display: inline; position:absolute; bottom:10px; font-size:medium;\">Rank: 7, score: 0.505</div><img src=\"/mmfs1/gscratch/balazinska/enhaoz/complex_event_video/tmp/track_mot_new_metric_aggregate/181_981/topk_preds/7_000411_0.5049093027125978.jpg\" style=\"height: 150px; margin: 0px 20px 40px 0px;\"/></div><div style=\"display: inline\"><div style=\"display: inline; position:absolute; bottom:10px; font-size:medium;\">Rank: 8, score: 0.489</div><img src=\"/mmfs1/gscratch/balazinska/enhaoz/complex_event_video/tmp/track_mot_new_metric_aggregate/181_981/topk_preds/8_001054_0.48942202337472607.jpg\" style=\"height: 150px; margin: 0px 20px 40px 0px;\"/></div><div style=\"display: inline\"><div style=\"display: inline; position:absolute; bottom:10px; font-size:medium;\">Rank: 9, score: 0.486</div><img src=\"/mmfs1/gscratch/balazinska/enhaoz/complex_event_video/tmp/track_mot_new_metric_aggregate/181_981/topk_preds/9_000022_0.4864743979675815.jpg\" style=\"height: 150px; margin: 0px 20px 40px 0px;\"/></div><div style=\"display: inline\"><div style=\"display: inline; position:absolute; bottom:10px; font-size:medium;\">Rank: 10, score: 0.474</div><img src=\"/mmfs1/gscratch/balazinska/enhaoz/complex_event_video/tmp/track_mot_new_metric_aggregate/181_981/topk_preds/10_001095_0.47422888678708186.jpg\" style=\"height: 150px; margin: 0px 20px 40px 0px;\"/></div></div>"
      ],
      "text/plain": [
       "<IPython.core.display.HTML object>"
      ]
     },
     "metadata": {},
     "output_type": "display_data"
    }
   ],
   "source": [
    "base_dir = \"/mmfs1/gscratch/balazinska/enhaoz/complex_event_video/tmp/track_mot_new_metric_aggregate\"\n",
    "for dirs in os.walk(base_dir):\n",
    "    query_track_ids = dirs[1]\n",
    "    break\n",
    "\n",
    "for query_track_id in query_track_ids:\n",
    "    html = ''\n",
    "    html += '<h1>query_track_id = {}</h1>'.format(query_track_id)\n",
    "    html += '<h2>query track:</h2>'\n",
    "    # Display query track \n",
    "    for img_file in os.listdir(os.path.join(base_dir, query_track_id, \"pos_samples\")):\n",
    "        if img_file[-4:] != \".jpg\":\n",
    "            continue\n",
    "        html += '<img src=\"{}\" style=\"height: 150px; margin: 0px 20px 40px 0px;\"/>'.format(os.path.join(base_dir, query_track_id, \"pos_samples\", img_file))\n",
    "    html += '<h2>top10 tracks:</h2>'\n",
    "    display(HTML(html))\n",
    "    html = ''\n",
    "    # Display topk tracks\n",
    "    html += '<div style=\"white-space: nowrap; overflow: scroll; position: relative;\">'\n",
    "    topk_list = []\n",
    "    for img_file in os.listdir(os.path.join(base_dir, query_track_id, \"topk_preds\")):\n",
    "        if img_file[-4:] != \".jpg\":\n",
    "            continue\n",
    "        rank, _, score = img_file[:-4].split(\"_\")\n",
    "        rank = int(rank)\n",
    "        score = float(score)\n",
    "        topk_list.append(['<img src=\"{}\" style=\"height: 150px; margin: 0px 20px 40px 0px;\"/>'.format(os.path.join(base_dir, query_track_id, \"topk_preds\", img_file)), rank, score])\n",
    "    topk_list.sort(key=lambda tup: tup[1])\n",
    "    for tup in topk_list:\n",
    "        html += '<div style=\"display: inline\">' + '<div style=\"display: inline; position:absolute; bottom:10px; font-size:medium;\">Rank: {}, score: {:.3f}</div>'.format(tup[1], tup[2]) + tup[0] + '</div>'\n",
    "    html += '</div>'\n",
    "    display(HTML(html))\n"
   ]
  },
  {
   "cell_type": "markdown",
   "metadata": {},
   "source": []
  }
 ],
 "metadata": {
  "interpreter": {
   "hash": "f0728be81bb21a0ef1bd9696adbcb89c74a9aedaac598689ad813edcff53ab11"
  },
  "kernelspec": {
   "display_name": "Python 3.8.12 ('env')",
   "language": "python",
   "name": "python3"
  },
  "language_info": {
   "codemirror_mode": {
    "name": "ipython",
    "version": 3
   },
   "file_extension": ".py",
   "mimetype": "text/x-python",
   "name": "python",
   "nbconvert_exporter": "python",
   "pygments_lexer": "ipython3",
   "version": "3.8.12"
  },
  "orig_nbformat": 4
 },
 "nbformat": 4,
 "nbformat_minor": 2
}
