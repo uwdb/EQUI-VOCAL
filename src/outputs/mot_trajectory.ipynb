{
 "cells": [
  {
   "cell_type": "markdown",
   "metadata": {},
   "source": [
    "# Single trajectory query\n"
   ]
  },
  {
   "cell_type": "markdown",
   "metadata": {},
   "source": [
    "### track_id = 181 \n",
    "* Query track:\n",
    "\n",
    "<img src=\"/mmfs1/gscratch/balazinska/enhaoz/complex_event_video/tmp/track_mot_new_metric/181/pos_samples/000181.jpg\" style=\"height: 150px;\"/>\n",
    "\n",
    "* Top-10 tracks: \n"
   ]
  }
 ],
 "metadata": {
  "language_info": {
   "name": "python"
  },
  "orig_nbformat": 4
 },
 "nbformat": 4,
 "nbformat_minor": 2
}
