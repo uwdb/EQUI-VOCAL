{
 "cells": [
  {
   "cell_type": "code",
   "execution_count": 1,
   "id": "9b19214f",
   "metadata": {},
   "outputs": [],
   "source": [
    "import matplotlib.pyplot as plt\n",
    "import numpy as np\n",
    "import os\n",
    "import json\n",
    "\n",
    "CB_color_cycle = ['#377eb8', '#ff7f00', '#4daf4a',\n",
    "                  '#f781bf', '#a65628', '#984ea3',\n",
    "                  '#999999', '#e41a1c', '#dede00']"
   ]
  },
  {
   "cell_type": "code",
   "execution_count": 9,
   "id": "02aac05b",
   "metadata": {},
   "outputs": [
    {
     "name": "stdout",
     "output_type": "stream",
     "text": [
      "method: optimized, query: SQ1, mean runtime: 33.180244800000004\n",
      "\n",
      "method: optimized, query: SQ2, mean runtime: 36.350762450000005\n",
      "\n",
      "method: optimized, query: SQ3, mean runtime: 32.51524069999999\n",
      "\n",
      "method: no_pruning, query: SQ1, mean runtime: 50.86477179999999\n",
      "\n",
      "method: no_pruning, query: SQ2, mean runtime: 60.37052420000001\n",
      "\n",
      "method: no_pruning, query: SQ3, mean runtime: 51.2693047\n",
      "\n",
      "method: no_recursion_avoidance, query: SQ1, mean runtime: 137.38864875\n",
      "\n",
      "method: no_recursion_avoidance, query: SQ2, mean runtime: 38.04036685\n",
      "\n",
      "method: no_recursion_avoidance, query: SQ3, mean runtime: 89.07409390000001\n",
      "\n"
     ]
    },
    {
     "data": {
      "image/png": "[encoded data removed]",
      "text/plain": [
       "<Figure size 180x144 with 1 Axes>"
      ]
     },
     "metadata": {
      "needs_background": "light"
     },
     "output_type": "display_data"
    }
   ],
   "source": [
    "methods = [\"optimized\", \"no_pruning\", \"no_recursion_avoidance\"]\n",
    "\n",
    "data = []\n",
    "for method in methods: \n",
    "    data_per_method = []\n",
    "    for query_id in [1, 2, 3]:\n",
    "        mean_runtime = []\n",
    "        for run in range(20):\n",
    "            with open(os.path.join(\"/gscratch/balazinska/enhaoz/complex_event_video/src/quivr/outputs/query_execution\", \"SQ{}_{}_{}.ans\".format(query_id, method, run)), 'r') as f:\n",
    "                lines = f.readlines()\n",
    "                lines = [line.rstrip() for line in lines]\n",
    "            runtime = 0\n",
    "            for line in lines:\n",
    "                if line.startswith(\"Time: \"):\n",
    "                    runtime += float(line.split(\" \")[1]) / 1000\n",
    "            mean_runtime.append(runtime)\n",
    "        print(\"method: {}, query: SQ{}, mean runtime: {}\\n\".format(method, query_id, np.mean(mean_runtime)))\n",
    "        data_per_method.append(np.mean(mean_runtime))\n",
    "    data.append(data_per_method)\n",
    "\n",
    "labels = [\"SQ1\", \"SQ2\", \"SQ3\"]\n",
    "\n",
    "fig, ax = plt.subplots(1, 1, figsize = (2.5, 2))\n",
    "\n",
    "ax.bar(np.array(range(len(data[0])))*4-3, data[0], 1, label=\"EQUI-VOCAL\", color=CB_color_cycle[0], hatch = '..', edgecolor=\"black\")\n",
    "\n",
    "ax.bar(np.array(range(len(data[1])))*4-2, data[1], 1, label=\"No-Pruning\", color=CB_color_cycle[1], hatch = '//', edgecolor=\"black\")\n",
    "\n",
    "ax.bar(np.array(range(len(data[2])))*4-1, data[2], 1, label=\"No-Recursion\\n -Avoidance\", color=CB_color_cycle[2], hatch = '\\\\\\\\', edgecolor=\"black\")\n",
    "\n",
    "\n",
    "ax.set(ylabel=\"Time (s)\")\n",
    "\n",
    "# ax.set_ylim(bottom=0.5, top=1.05)\n",
    "ax.set_xticks(range(-2, len(labels)*4-2, 4), labels)\n",
    "\n",
    "handles, labels = ax.get_legend_handles_labels()\n",
    "fig.legend(handles, labels, prop={\"size\":9}, loc='right', bbox_to_anchor=(1.5, 0.7),\n",
    "          fancybox=True, shadow=False, ncol=1)\n",
    "# fig.legend(handles, labels, prop={\"size\":10}, loc='upper center', bbox_to_anchor=(0.5, 0.0), fancybox=True, shadow=False, ncol=3)\n",
    "# ax.legend()\n",
    "plt.subplots_adjust(bottom=0.15)\n",
    "fig.tight_layout()\n",
    "    \n",
    "plt.savefig(\"figures/query_execution.pdf\", bbox_inches='tight', pad_inches=0, dpi=600)"
   ]
  },
  {
   "cell_type": "code",
   "execution_count": 8,
   "id": "6c7f5d60",
   "metadata": {},
   "outputs": [
    {
     "name": "stdout",
     "output_type": "stream",
     "text": [
      "[w/ caching] # data: 200, f1_median: 0.67, runtime_median: 28.0\n",
      "[w/o caching] # data: 200, f1_median: 0.67, runtime_median: 74.0\n"
     ]
    },
    {
     "data": {
      "image/png": "[encoded data removed]",
      "text/plain": [
       "<Figure size 180x144 with 1 Axes>"
      ]
     },
     "metadata": {
      "needs_background": "light"
     },
     "output_type": "display_data"
    }
   ],
   "source": [
    "dataset_name = \"synthetic_scene_graph_with_duration-npred_5-nattr_pred_2-new-40\"\n",
    "method = \"vocal_postgres-topk\"\n",
    "exp_dir = \"/gscratch/balazinska/enhaoz/complex_event_video/src/quivr/outputs/{}\".format(dataset_name)\n",
    "\n",
    "fig, ax = plt.subplots(1, 1, figsize = (2.5, 2))\n",
    "\n",
    "cpu_value = 4\n",
    "handles_f1 = []\n",
    "handles_runtime = []\n",
    "legend_labels = []\n",
    "\n",
    "f1_data = []\n",
    "runtime_data = []\n",
    "\n",
    "# With caching\n",
    "f1 = []\n",
    "runtime = []\n",
    "dir_name = os.path.join(exp_dir, \"stats\", method + \"-cpu_4\")\n",
    "for filename in os.listdir(dir_name):\n",
    "    try:\n",
    "        with open(os.path.join(dir_name, filename), \"r\") as f:\n",
    "            stats = json.load(f)\n",
    "        f1.extend(stats[\"score_median\"])\n",
    "        runtime.extend(stats[\"runtime\"])\n",
    "    except:\n",
    "        pass\n",
    "\n",
    "f1 = np.array(f1)\n",
    "runtime = np.array(runtime)/60.0\n",
    "\n",
    "\n",
    "f1_slice = f1[:, 0]\n",
    "runtime_slice = runtime[:, 0]\n",
    "if np.all(f1_slice == -1):\n",
    "    f1_slice = np.zeros_like(f1_slice)\n",
    "else:\n",
    "    f1_slice[f1_slice == -1] = np.nan\n",
    "f1_slice = f1_slice[~np.isnan(f1_slice)]\n",
    "if np.all(runtime_slice == -1):\n",
    "    runtime_slice = np.zeros_like(runtime_slice)\n",
    "else:\n",
    "    runtime_slice[runtime_slice == -1] = np.nan\n",
    "runtime_slice = runtime_slice[~np.isnan(runtime_slice)]\n",
    "print(\"[w/ caching] # data: {}, f1_median: {}, runtime_median: {}\".format(len(f1_slice), np.round(np.median(f1_slice), 3), np.round(np.median(runtime_slice))))\n",
    "f1_data = f1_slice\n",
    "runtime_data.append(runtime_slice)\n",
    "\n",
    "# Without caching\n",
    "f1 = []\n",
    "runtime = []\n",
    "dir_name = os.path.join(\"/gscratch/balazinska/enhaoz/complex_event_video/src/quivr/outputs/no_caching/{}\".format(dataset_name), \"stats\", method + \"-cpu_4\")\n",
    "for filename in os.listdir(dir_name):\n",
    "    try:\n",
    "        with open(os.path.join(dir_name, filename), \"r\") as f:\n",
    "            stats = json.load(f)\n",
    "        f1.extend(stats[\"score_median\"])\n",
    "        runtime.extend(stats[\"runtime\"])\n",
    "    except:\n",
    "        pass\n",
    "\n",
    "f1 = np.array(f1)\n",
    "runtime = np.array(runtime)/60.0\n",
    "\n",
    "\n",
    "f1_slice = f1[:, 0]\n",
    "runtime_slice = runtime[:, 0]\n",
    "if np.all(f1_slice == -1):\n",
    "    f1_slice = np.zeros_like(f1_slice)\n",
    "else:\n",
    "    f1_slice[f1_slice == -1] = np.nan\n",
    "f1_slice = f1_slice[~np.isnan(f1_slice)]\n",
    "if np.all(runtime_slice == -1):\n",
    "    runtime_slice = np.zeros_like(runtime_slice)\n",
    "else:\n",
    "    runtime_slice[runtime_slice == -1] = np.nan\n",
    "runtime_slice = runtime_slice[~np.isnan(runtime_slice)]\n",
    "print(\"[w/o caching] # data: {}, f1_median: {}, runtime_median: {}\".format(len(f1_slice), np.round(np.median(f1_slice), 3), np.round(np.median(runtime_slice))))\n",
    "f1_data = f1_slice\n",
    "runtime_data.append(runtime_slice)\n",
    "\n",
    "\n",
    "bp_runtime = ax.boxplot(runtime_data,  \n",
    "               sym='.', widths=0.6, showfliers=False, patch_artist=True, boxprops=dict(facecolor=CB_color_cycle[0], hatch = '..'),\n",
    "               medianprops = dict(color='black'))   \n",
    "\n",
    "# handles_runtime.append(bp_runtime[\"boxes\"][0])\n",
    "\n",
    "ax.set(ylabel=\"Time (min)\")\n",
    "ax.set_ylim(bottom=0)\n",
    "# ax.set_yscale('log')\n",
    "ax.set_xticklabels([\"Caching\", \"No caching\"])\n",
    "# plt.xticks(fontsize=14, rotation=45)\n",
    "\n",
    "plt.subplots_adjust(bottom=0.15)\n",
    "fig.tight_layout()\n",
    "plt.savefig(\"figures/caching.pdf\", bbox_inches='tight', pad_inches=0, dpi=600)"
   ]
  },
  {
   "cell_type": "code",
   "execution_count": null,
   "id": "fad5d00a",
   "metadata": {},
   "outputs": [],
   "source": []
  }
 ],
 "metadata": {
  "kernelspec": {
   "display_name": "Python 3 (ipykernel)",
   "language": "python",
   "name": "python3"
  },
  "language_info": {
   "codemirror_mode": {
    "name": "ipython",
    "version": 3
   },
   "file_extension": ".py",
   "mimetype": "text/x-python",
   "name": "python",
   "nbconvert_exporter": "python",
   "pygments_lexer": "ipython3",
   "version": "3.8.13"
  }
 },
 "nbformat": 4,
 "nbformat_minor": 5
}
