{
 "cells": [
  {
   "cell_type": "code",
   "execution_count": 2,
   "metadata": {},
   "outputs": [],
   "source": [
    "import matplotlib.pyplot as plt\n",
    "import numpy as np\n",
    "import os\n",
    "import json"
   ]
  },
  {
   "cell_type": "code",
   "execution_count": 20,
   "metadata": {},
   "outputs": [],
   "source": [
    "def plot_query_median():\n",
    "    exp_dir = \"/gscratch/balazinska/enhaoz/complex_event_video/src/quivr/outputs/synthetic_trajectories_rare-sampling_rate_4\"\n",
    "\n",
    "    fig, axs = plt.subplots(1, 2, figsize = (12, 3))\n",
    "\n",
    "    # Quivr without kleene\n",
    "    try:\n",
    "        count_failed = 0\n",
    "        quivr_f1 = []\n",
    "        quivr_runtime = []\n",
    "        dir_name = os.path.join(exp_dir, \n",
    "                               \"stats\", \n",
    "                               \"quivr_original_no_kleene/nip_2-nin_10-npred_5-n_nontrivial_None-n_trivial_None-depth_3-max_d_1-thread_1-lru_None\"\n",
    "                                )\n",
    "        for filename in os.listdir(dir_name):\n",
    "            with open(os.path.join(dir_name, filename), \"r\") as f:\n",
    "                quivr_stats = json.load(f)\n",
    "            quivr_runtime_per_run = quivr_stats[\"runtime\"]\n",
    "            quivr_f1_per_run = quivr_stats[\"score\"]\n",
    "            if sum(quivr_f1_per_run) / len(quivr_f1_per_run) == -1:\n",
    "                count_failed += 1\n",
    "                continue\n",
    "            quivr_f1.append(quivr_f1_per_run)\n",
    "            quivr_runtime.append(quivr_runtime_per_run)\n",
    "        \n",
    "        print(\"quivr (no kleene) failed: {}\".format(count_failed))\n",
    "        quivr_x = list(range(12, 51))\n",
    "        quivr_f1 = np.array(quivr_f1)\n",
    "        quivr_f1_25 = np.percentile(quivr_f1, 25, axis=0)\n",
    "        quivr_f1_50 = np.percentile(quivr_f1, 50, axis=0)\n",
    "        quivr_f1_75 = np.percentile(quivr_f1, 75, axis=0)\n",
    "        quivr_runtime = np.array(quivr_runtime)\n",
    "        quivr_runtime_25 = np.percentile(quivr_runtime, 25, axis=0)\n",
    "        quivr_runtime_50 = np.percentile(quivr_runtime, 50, axis=0)\n",
    "        quivr_runtime_75 = np.percentile(quivr_runtime, 75, axis=0)\n",
    "        axs[0].plot(quivr_x, quivr_f1_50, marker='s', markersize=1, label=\"quivr (no kleene)\", color='tab:blue')\n",
    "        axs[0].fill_between(quivr_x, quivr_f1_25, quivr_f1_75, facecolor='tab:blue', alpha=0.3)\n",
    "        axs[1].plot(quivr_x, quivr_runtime_50, marker='s', markersize=1, label=\"quivr (no kleene)\", color='tab:blue')\n",
    "        axs[1].fill_between(quivr_x, quivr_runtime_25, quivr_runtime_75, facecolor='tab:blue', alpha=0.3)\n",
    "    except:\n",
    "        pass\n",
    "    \n",
    "    # VOCAL\n",
    "    try:\n",
    "        f1 = []\n",
    "        runtime = []\n",
    "        dir_name = os.path.join(exp_dir, \n",
    "                               \"stats\", \n",
    "                               \"vocal_postgres-topk\"\n",
    "                                )\n",
    "        for filename in os.listdir(dir_name):\n",
    "            with open(os.path.join(dir_name, filename), \"r\") as f:\n",
    "                stats = json.load(f)\n",
    "            runtime_per_run = stats[\"runtime\"]\n",
    "            f1_per_run = stats[\"score\"]        \n",
    "            f1.extend(f1_per_run)\n",
    "            runtime.extend(runtime_per_run)\n",
    "        f1 = np.array(f1)\n",
    "        f1[f1 == -1] = np.nan\n",
    "        runtime = np.array(runtime)\n",
    "        runtime[runtime == -1] = np.nan\n",
    "        x = list(range(12, 21)) + list(range(25, 31, 5)) + [50]\n",
    "        f1_25 = np.nanpercentile(f1, 25, axis=0)\n",
    "        f1_50 = np.nanpercentile(f1, 50, axis=0)\n",
    "        f1_75 = np.nanpercentile(f1, 75, axis=0)\n",
    "        runtime_25 = np.nanpercentile(runtime, 25, axis=0)\n",
    "        runtime_50 = np.nanpercentile(runtime, 50, axis=0)\n",
    "        runtime_75 = np.nanpercentile(runtime, 75, axis=0)\n",
    "        axs[0].plot(x, f1_50, marker='s', markersize=1, label=\"vocal\", color='tab:green')\n",
    "        axs[0].fill_between(x, f1_25, f1_75, facecolor='tab:green', alpha=0.3)\n",
    "        axs[1].plot(x, runtime_50, marker='s', markersize=1, label=\"vocal\", color='tab:green')\n",
    "        axs[1].fill_between(x, runtime_25, runtime_75, facecolor='tab:green', alpha=0.3)\n",
    "    except Exception as err:\n",
    "        print(err)\n",
    "        pass\n",
    "    \n",
    "    # VOCAL (no duration)\n",
    "    try:\n",
    "        f1 = []\n",
    "        runtime = []\n",
    "        dir_name = os.path.join(\"/gscratch/balazinska/enhaoz/complex_event_video/src/quivr/outputs/synthetic_trajectories_rare-max_d_1-sampling_rate_4\", \n",
    "                               \"stats-test\", \n",
    "                               \"vocal_postgres-topk\"\n",
    "                                )\n",
    "        for filename in os.listdir(dir_name):\n",
    "            with open(os.path.join(dir_name, filename), \"r\") as f:\n",
    "                stats = json.load(f)\n",
    "            runtime_per_run = stats[\"runtime\"]\n",
    "            f1_per_run = stats[\"score\"]        \n",
    "            f1.extend(f1_per_run)\n",
    "            runtime.extend(runtime_per_run)                \n",
    "\n",
    "        f1 = np.array(f1)\n",
    "        f1[f1 == -1] = np.nan\n",
    "        runtime = np.array(runtime)\n",
    "        runtime[runtime == -1] = np.nan\n",
    "        x = list(range(12, 21)) + list(range(25, 31, 5)) + [50]\n",
    "        f1_25 = np.nanpercentile(f1, 25, axis=0)\n",
    "        f1_50 = np.nanpercentile(f1, 50, axis=0)\n",
    "        f1_75 = np.nanpercentile(f1, 75, axis=0)\n",
    "        runtime_25 = np.nanpercentile(runtime, 25, axis=0)\n",
    "        runtime_50 = np.nanpercentile(runtime, 50, axis=0)\n",
    "        runtime_75 = np.nanpercentile(runtime, 75, axis=0)\n",
    "        axs[0].plot(x, f1_50, marker='s', markersize=1, label=\"vocal (no duration)\", color='tab:pink')\n",
    "        axs[0].fill_between(x, f1_25, f1_75, facecolor='tab:pink', alpha=0.3)\n",
    "        axs[1].plot(x, runtime_50, marker='s', markersize=1, label=\"vocal (no duration)\", color='tab:pink')\n",
    "        axs[1].fill_between(x, runtime_25, runtime_75, facecolor='tab:pink', alpha=0.3)\n",
    "    except Exception as err:\n",
    "        print(err)\n",
    "        pass\n",
    "\n",
    "    axs[0].set(xlabel=\"# examples\", ylabel=\"Test F1 score\")\n",
    "    axs[0].legend(prop={\"size\":10}, loc='upper center', bbox_to_anchor=(0.5, -0.2),\n",
    "          fancybox=True, shadow=True, ncol=2)\n",
    "    axs[0].set_ylim(bottom=0, top=1)\n",
    "    axs[1].set(xlabel=\"# examples\", ylabel=\"Runtime (s)\")\n",
    "    axs[1].legend(prop={\"size\":10}, loc='upper center', bbox_to_anchor=(0.5, -0.2),\n",
    "          fancybox=True, shadow=True, ncol=2)\n",
    "    # axs[1].set_ylim(bottom=0)\n",
    "    axs[1].set_ylim(bottom=1, top=4000)\n",
    "    axs[1].set_yscale('log')\n",
    "\n",
    "    plt.subplots_adjust(bottom=0.15)\n",
    "#     plt.savefig(\"figures/main/{}_median.png\".format(query_str), bbox_inches='tight')"
   ]
  },
  {
   "cell_type": "code",
   "execution_count": 12,
   "metadata": {},
   "outputs": [
    {
     "data": {
      "text/plain": [
       "([<matplotlib.axis.XTick at 0x7ff4e35b0e20>,\n",
       "  <matplotlib.axis.XTick at 0x7ff4e35b0df0>,\n",
       "  <matplotlib.axis.XTick at 0x7ff4e35cf190>,\n",
       "  <matplotlib.axis.XTick at 0x7ff4e35410d0>,\n",
       "  <matplotlib.axis.XTick at 0x7ff4e3541820>,\n",
       "  <matplotlib.axis.XTick at 0x7ff4e3546040>],\n",
       " [Text(1, 0, 'vocal_postgres-topk-1'),\n",
       "  Text(2, 0, 'vocal_postgres-topk-2'),\n",
       "  Text(3, 0, 'vocal_postgres-topk-3'),\n",
       "  Text(4, 0, 'vocal_postgres-topk-4'),\n",
       "  Text(5, 0, 'vocal_postgres_most_likely_positive-topk-3'),\n",
       "  Text(6, 0, 'vocal_postgres_most_likely_positive-topk-4')])"
      ]
     },
     "execution_count": 12,
     "metadata": {},
     "output_type": "execute_result"
    },
    {
     "data": {
      "image/png": "[encoded data removed]",
      "text/plain": [
       "<Figure size 432x288 with 1 Axes>"
      ]
     },
     "metadata": {
      "needs_background": "light"
     },
     "output_type": "display_data"
    }
   ],
   "source": [
    "methods = [\"vocal_postgres-topk-1\", \"vocal_postgres-topk-2\", \"vocal_postgres-topk-3\", \"vocal_postgres-topk-4\", \"vocal_postgres_most_likely_positive-topk-3\", \"vocal_postgres_most_likely_positive-topk-4\"]\n",
    "dir_name = \"/gscratch/balazinska/enhaoz/complex_event_video/src/quivr/outputs/synthetic_trajectories_rare-sampling_rate_4-test_query_expansion_strategies/stats\"\n",
    "\n",
    "columns_median = []\n",
    "columns_random = []\n",
    "for method in methods: \n",
    "    f1_median = []\n",
    "    f1_random = []\n",
    "    for filename in os.listdir(os.path.join(dir_name, method)):\n",
    "        with open(os.path.join(dir_name, method, filename), \"r\") as f:\n",
    "            stats = json.load(f)\n",
    "        f1_median_per_run = [run[0] for run in stats[\"score_median\"]]\n",
    "        f1_random_per_run = [run[0] for run in stats[\"score_random\"]]\n",
    "        f1_median.extend(f1_median_per_run)\n",
    "        f1_random.extend(f1_random_per_run)\n",
    "    f1_median = np.array(f1_median)\n",
    "    f1_random = np.array(f1_random)\n",
    "    f1_median[f1_median == -1] = np.nan \n",
    "    f1_random[f1_random == -1] = np.nan \n",
    "    f1_median = f1_median[~np.isnan(f1_median)]\n",
    "    f1_random = f1_random[~np.isnan(f1_random)]\n",
    "    columns_median.append(f1_median)\n",
    "    columns_random.append(f1_random)\n",
    "fig, ax = plt.subplots()\n",
    "ax.boxplot(columns_median, showfliers=False)\n",
    "plt.xticks(list(range(1, len(methods)+1)), methods, rotation=10)"
   ]
  },
  {
   "cell_type": "code",
   "execution_count": 3,
   "metadata": {},
   "outputs": [
    {
     "data": {
      "text/plain": [
       "([<matplotlib.axis.XTick at 0x7f62b7b5fa30>,\n",
       "  <matplotlib.axis.XTick at 0x7f62b7b5fa00>,\n",
       "  <matplotlib.axis.XTick at 0x7f62b7b04130>],\n",
       " [Text(1, 0, 'vocal_postgres-topk-1'),\n",
       "  Text(2, 0, 'vocal_postgres-topk-2'),\n",
       "  Text(3, 0, 'vocal_postgres-topk-3')])"
      ]
     },
     "execution_count": 3,
     "metadata": {},
     "output_type": "execute_result"
    },
    {
     "data": {
      "image/png": "[encoded data removed]",
      "text/plain": [
       "<Figure size 432x288 with 1 Axes>"
      ]
     },
     "metadata": {
      "needs_background": "light"
     },
     "output_type": "display_data"
    }
   ],
   "source": [
    "methods = [\"vocal_postgres-topk-1\", \"vocal_postgres-topk-2\", \"vocal_postgres-topk-3\"]\n",
    "dir_name = \"/gscratch/balazinska/enhaoz/complex_event_video/src/quivr/outputs/synthetic_trajectories_rare-sampling_rate_4-test_query_expansion_strategies/stats-budget_30\"\n",
    "\n",
    "columns_median = []\n",
    "columns_random = []\n",
    "for method in methods: \n",
    "    f1_median = []\n",
    "    f1_random = []\n",
    "    for filename in os.listdir(os.path.join(dir_name, method)):\n",
    "        with open(os.path.join(dir_name, method, filename), \"r\") as f:\n",
    "            stats = json.load(f)\n",
    "        f1_median_per_run = [run[0] for run in stats[\"score_median\"]]\n",
    "        f1_random_per_run = [run[0] for run in stats[\"score_random\"]]\n",
    "        f1_median.extend(f1_median_per_run)\n",
    "        f1_random.extend(f1_random_per_run)\n",
    "    f1_median = np.array(f1_median)\n",
    "    f1_random = np.array(f1_random)\n",
    "    f1_median[f1_median == -1] = np.nan \n",
    "    f1_random[f1_random == -1] = np.nan \n",
    "    f1_median = f1_median[~np.isnan(f1_median)]\n",
    "    f1_random = f1_random[~np.isnan(f1_random)]\n",
    "    columns_median.append(f1_median)\n",
    "    columns_random.append(f1_random)\n",
    "fig, ax = plt.subplots()\n",
    "ax.boxplot(columns_median, showfliers=False)\n",
    "plt.xticks(list(range(1, len(methods)+1)), methods, rotation=10)"
   ]
  },
  {
   "cell_type": "code",
   "execution_count": null,
   "metadata": {},
   "outputs": [],
   "source": []
  }
 ],
 "metadata": {
  "kernelspec": {
   "display_name": "Python 3 (ipykernel)",
   "language": "python",
   "name": "python3"
  },
  "language_info": {
   "codemirror_mode": {
    "name": "ipython",
    "version": 3
   },
   "file_extension": ".py",
   "mimetype": "text/x-python",
   "name": "python",
   "nbconvert_exporter": "python",
   "pygments_lexer": "ipython3",
   "version": "3.8.13"
  },
  "vscode": {
   "interpreter": {
    "hash": "f9f85f796d01129d0dd105a088854619f454435301f6ffec2fea96ecbd9be4ac"
   }
  }
 },
 "nbformat": 4,
 "nbformat_minor": 2
}
