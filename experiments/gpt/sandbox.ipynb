{
 "cells": [
  {
   "cell_type": "code",
   "execution_count": 1,
   "metadata": {},
   "outputs": [],
   "source": [
    "import openai\n",
    "import sys\n",
    "sys.path.append(\"/gscratch/balazinska/enhaoz/complex_event_video\")\n",
    "\n",
    "from src.utils import str_to_program_postgres, postgres_execute_cache_sequence\n",
    "from experiments.analysis.evaluate_gpt import evaluate_patsql\n",
    "# Load your API key from an environment variable or secret management service\n",
    "openai.api_key = open(\"/gscratch/balazinska/enhaoz/complex_event_video/experiments/gpt/openai_key.txt\", \"r\").read()\n"
   ]
  },
  {
   "cell_type": "markdown",
   "metadata": {},
   "source": [
    "## Near(o1, o2); Far(o1, o2)"
   ]
  },
  {
   "cell_type": "code",
   "execution_count": 5,
   "metadata": {
    "scrolled": true
   },
   "outputs": [
    {
     "data": {
      "text/plain": [
       "'Near.vid FROM Near INNER JOIN Far ON Near.oid1 = Far.oid1 AND Near.oid2 = Far.oid2 AND Near.vid = Far.vid AND Near.fid < Far.fid GROUP BY Near.vid'"
      ]
     },
     "execution_count": 5,
     "metadata": {},
     "output_type": "execute_result"
    }
   ],
   "source": [
    "response = openai.Completion.create(\n",
    "  model=\"code-davinci-002\",\n",
    "  prompt=\"\"\"\n",
    "# CREATE TABLE Near(\n",
    "# oid1 int,\n",
    "# oid2 int,\n",
    "# vid int,\n",
    "# fid int)\n",
    "# CREATE TABLE Far(\n",
    "# oid1 int,\n",
    "# oid2 int,\n",
    "# vid int,\n",
    "# fid int) \n",
    "### Using valid Postgres SQL, answer the following questions for the tables provided above, but don't use subqueries:\n",
    "### Find videos that contain at least one instance of event where an object is first near another object, then after some frames they move far apart. \n",
    "SELECT\n",
    "  \"\"\",\n",
    "  temperature=0,\n",
    "  max_tokens=500,\n",
    "  top_p=1.0,\n",
    "  frequency_penalty=0.0,\n",
    "  presence_penalty=0.0,\n",
    "  stop=[\"#\", \";\"]\n",
    ")\n",
    "\n",
    "output = response.choices[0].text.replace('\\n', ' ')\n",
    "output = ' '.join(output.split())\n",
    "output "
   ]
  },
  {
   "cell_type": "code",
   "execution_count": 3,
   "metadata": {},
   "outputs": [
    {
     "name": "stdout",
     "output_type": "stream",
     "text": [
      "score: 1.0, runtime: 0.030099153518676758\n"
     ]
    }
   ],
   "source": [
    "gt_query = \"Near_1(o0, o1); Far_3(o0, o1)\"\n",
    "predicate_list = (\"Near_1\", \"Far_3\")\n",
    "synthesized_query = 'SELECT Near.vid FROM Near INNER JOIN Far ON Near.oid1 = Far.oid1 AND Near.oid2 = Far.oid2 AND Near.vid = Far.vid AND Near.fid < Far.fid GROUP BY Near.vid'\n",
    "\n",
    "evaluate_patsql(gt_query, predicate_list, 5432, 4, synthesized_query)"
   ]
  },
  {
   "cell_type": "markdown",
   "metadata": {},
   "source": [
    "## (Near(o1, o2), Bottom(o1))"
   ]
  },
  {
   "cell_type": "code",
   "execution_count": 6,
   "metadata": {},
   "outputs": [
    {
     "data": {
      "text/plain": [
       "'Near.oid1, Near.oid2, Near.vid, Near.fid FROM Near INNER JOIN BottomQuadrant ON Near.oid1 = BottomQuadrant.oid1 WHERE Near.vid = BottomQuadrant.vid AND Near.fid = BottomQuadrant.fid'"
      ]
     },
     "execution_count": 6,
     "metadata": {},
     "output_type": "execute_result"
    }
   ],
   "source": [
    "response = openai.Completion.create(\n",
    "  model=\"code-davinci-002\",\n",
    "  prompt=\"\"\"\n",
    "# CREATE TABLE Near(\n",
    "# oid1 int,\n",
    "# oid2 int,\n",
    "# vid int,\n",
    "# fid int)\n",
    "# CREATE TABLE BottomQuadrant(\n",
    "# oid1 int,\n",
    "# vid int,\n",
    "# fid int) \n",
    "### Using valid Postgres SQL, answer the following questions for the tables provided above.\n",
    "### Find videos that contain at least one instance of event where an object is near another object and the object is at the bottom of the frame.\n",
    "SELECT\n",
    "  \"\"\",\n",
    "  temperature=0,\n",
    "  max_tokens=150,\n",
    "  top_p=1.0,\n",
    "  frequency_penalty=0.0,\n",
    "  presence_penalty=0.0,\n",
    "  stop=[\"#\", \";\"]\n",
    ")\n",
    "\n",
    "output = response.choices[0].text.replace('\\n', ' ')\n",
    "output = ' '.join(output.split())\n",
    "output "
   ]
  },
  {
   "cell_type": "code",
   "execution_count": 7,
   "metadata": {},
   "outputs": [
    {
     "name": "stdout",
     "output_type": "stream",
     "text": [
      "score: 1.0, runtime: 0.013752222061157227\n"
     ]
    }
   ],
   "source": [
    "gt_query = \"Conjunction(Near_1(o0, o1), BottomQuadrant(o0))\"\n",
    "predicate_list = (\"Near_1\", \"BottomQuadrant\")\n",
    "synthesized_query = 'SELECT Near.vid FROM Near INNER JOIN BottomQuadrant ON Near.oid1 = BottomQuadrant.oid1 WHERE Near.vid = BottomQuadrant.vid AND Near.fid = BottomQuadrant.fid'\n",
    "\n",
    "evaluate_patsql(gt_query, predicate_list, 5432, 4, synthesized_query)"
   ]
  },
  {
   "cell_type": "markdown",
   "metadata": {},
   "source": [
    "## Far(o1, o2); Near(o1, o2); Far(o1, o2)"
   ]
  },
  {
   "cell_type": "code",
   "execution_count": 9,
   "metadata": {},
   "outputs": [
    {
     "data": {
      "text/plain": [
       "'Near.oid1, Near.oid2, Near.vid, Near.fid FROM Near WHERE Near.fid IN ( SELECT Far.fid FROM Far WHERE Far.oid1 = Near.oid1 AND Far.oid2 = Near.oid2 AND Far.vid = Near.vid AND Far.fid > Near.fid ) AND Near.fid IN ( SELECT Far.fid FROM Far WHERE Far.oid1 = Near.oid1 AND Far.oid2 = Near.oid2 AND Far.vid = Near.vid AND Far.fid < Near.fid )'"
      ]
     },
     "execution_count": 9,
     "metadata": {},
     "output_type": "execute_result"
    }
   ],
   "source": [
    "response = openai.Completion.create(\n",
    "  model=\"code-davinci-002\",\n",
    "  prompt=\"\"\"\n",
    "# CREATE TABLE Near(\n",
    "# oid1 int,\n",
    "# oid2 int,\n",
    "# vid int,\n",
    "# fid int)\n",
    "# CREATE TABLE Far(\n",
    "# oid1 int,\n",
    "# oid2 int,\n",
    "# vid int,\n",
    "# fid int) \n",
    "### Using valid Postgres SQL, answer the following questions for the tables provided above, but don't use subqueries:\n",
    "### Find video segments that contain at least one instance of event where an object is far from another object, \n",
    "### then after some frames they are near to each other, then after some frames they are far from each other.\n",
    "SELECT\n",
    "  \"\"\",\n",
    "  temperature=0,\n",
    "  max_tokens=500,\n",
    "  top_p=1.0,\n",
    "  frequency_penalty=0.0,\n",
    "  presence_penalty=0.0,\n",
    "  stop=[\"#\", \";\"]\n",
    ")\n",
    "\n",
    "output = response.choices[0].text.replace('\\n', ' ')\n",
    "output = ' '.join(output.split())\n",
    "output "
   ]
  },
  {
   "cell_type": "code",
   "execution_count": 10,
   "metadata": {},
   "outputs": [
    {
     "name": "stdout",
     "output_type": "stream",
     "text": [
      "score: 0.0, runtime: 0.026442289352416992\n"
     ]
    }
   ],
   "source": [
    "gt_query = \"Far_3(o0, o1); Near_1(o0, o1); Far_3(o0, o1)\"\n",
    "predicate_list = (\"Near_1\", \"Far_3\")\n",
    "synthesized_query = 'SELECT Near.vid FROM Near WHERE Near.fid IN ( SELECT Far.fid FROM Far WHERE Far.oid1 = Near.oid1 AND Far.oid2 = Near.oid2 AND Far.vid = Near.vid AND Far.fid > Near.fid ) AND Near.fid IN ( SELECT Far.fid FROM Far WHERE Far.oid1 = Near.oid1 AND Far.oid2 = Near.oid2 AND Far.vid = Near.vid AND Far.fid < Near.fid )'\n",
    "\n",
    "evaluate_patsql(gt_query, predicate_list, 5432, 4, synthesized_query)"
   ]
  },
  {
   "cell_type": "markdown",
   "metadata": {},
   "source": [
    "## TQ3: Far(o1, o2); (Near(o1, o2), Behind(o1, o2))"
   ]
  },
  {
   "cell_type": "code",
   "execution_count": 14,
   "metadata": {
    "scrolled": true
   },
   "outputs": [
    {
     "data": {
      "text/plain": [
       "'CREATE TEMPORARY TABLE g1 AS SELECT f.vid as vid, f.fid as fid, f.oid1 as o1_oid, f.oid2 as o2_oid FROM Far f; CREATE TEMPORARY TABLE g1_windowed AS ( SELECT vid, fid, o1_oid, o2_oid, lead(fid, 1 - 1, 0) OVER (PARTITION BY vid, o1_oid, o2_oid ORDER BY fid) as fid_offset FROM g1 ); CREATE TEMPORARY TABLE g1_contiguous AS ( SELECT vid, o1_oid, o2_oid, min(fid_offset) AS fid FROM g1_windowed WHERE fid_offset = fid + (1 - 1) GROUP BY vid, o1_oid, o2_oid ); CREATE TEMPORARY TABLE g2 AS SELECT n.vid as vid, n.fid as fid, n.oid1 as o1_oid, n.oid2 as o2_oid FROM Near n; CREATE TEMPORARY TABLE g2_filtered AS ( SELECT t1.vid, t2.fid, t1.o1_oid, t1.o2_oid FROM g1_contiguous t1, g2 t2 WHERE t1.vid = t2.vid AND t1.o1_oid = t2.o1_oid and t1.o2_oid = t2.o2_oid AND t1.fid < t2.fid ); CREATE TEMPORARY TABLE g2_windowed AS ( SELECT vid, fid, o1_oid, o2_oid, lead(fid, 1 - 1, 0) OVER (PARTITION BY vid, o1_oid, o2_oid ORDER BY fid) as fid_offset FROM g2_filtered ); CREATE TEMPORARY TABLE g2_contiguous AS ( SELECT vid, o1_oid, o2_oid, min(fid_offset) AS fid FROM g2_windowed WHERE fid_offset = fid + (1 - 1) GROUP BY vid, o1_oid, o2_oid ); CREATE TEMPORARY TABLE g3 AS SELECT b.vid as vid, b.fid as fid, b.oid1 as o1_oid, b.oid2 as o2_oid FROM Behind b; CREATE TEMPORARY TABLE g3_filtered AS ( SELECT t1.vid, t2.fid, t1.o1_oid, t1.o2_oid FROM g2_contiguous t1, g3 t2 WHERE t1.vid = t2.vid AND t1.o1_oid = t2.o1_oid and t1.o2_oid = t2.o2_oid AND t1.fid < t2.fid ); CREATE TEMPORARY TABLE g3_windowed AS ( SELECT vid, fid, o1_oid, o2_oid, lead(fid, 1 - 1, 0) OVER (PARTITION BY vid, o1_oid, o2_oid ORDER BY fid) as fid_offset FROM g3_filtered ); CREATE TEMPORARY TABLE g3_contiguous AS ( SELECT vid, o1_oid, o2_oid, min(fid_offset) AS fid FROM g3_windowed WHERE fid_offset = fid + (1 - 1) GROUP BY vid, o1_oid, o2_oid ); SELECT distinct vid from g3_contiguous;'"
      ]
     },
     "execution_count": 14,
     "metadata": {},
     "output_type": "execute_result"
    }
   ],
   "source": [
    "# One-shot (1) \n",
    "response = openai.Completion.create(\n",
    "  model=\"code-davinci-002\",\n",
    "  prompt=\"\"\"\n",
    "# CREATE TABLE Near(\n",
    "# oid1 int,\n",
    "# oid2 int,\n",
    "# vid int,\n",
    "# fid int)\n",
    "# CREATE TABLE Far(\n",
    "# oid1 int,\n",
    "# oid2 int,\n",
    "# vid int,\n",
    "# fid int) \n",
    "# CREATE TABLE Behind(\n",
    "# oid1 int,\n",
    "# oid2 int,\n",
    "# vid int,\n",
    "# fid int) \n",
    "# CREATE TABLE LeftOf(\n",
    "# oid1 int,\n",
    "# oid2 int,\n",
    "# vid int,\n",
    "# fid int) \n",
    "# CREATE TABLE Sphere(\n",
    "# oid1 int,\n",
    "# vid int,\n",
    "# fid int) \n",
    "# CREATE TABLE FrontOf(\n",
    "# oid1 int,\n",
    "# oid2 int,\n",
    "# vid int,\n",
    "# fid int) \n",
    "### Using valid Postgres SQL, answer the following questions for the tables provided above.\n",
    "### [Question] Find video segments that contain at least one instance of event where the first object is on the left of the second object, which is a sphere, for at least 15 frames, then after some frames the first object is in front of and close to the third object, then after some frames the first object is behind and far away from the third object for at least 5 frames. \n",
    "[SQL] CREATE TEMPORARY TABLE g1 AS SELECT lo.vid as vid, lo.fid as fid, lo.oid1 as o1_oid, lo.oid2 as o2_oid FROM LeftOf lo, Sphere s WHERE lo.vid = s.vid and lo.fid = s.fid and lo.oid2 = s.oid1;\n",
    "CREATE TEMPORARY TABLE g1_windowed AS (\n",
    "    SELECT vid, fid, o1_oid, o2_oid,\n",
    "    lead(fid, 15 - 1, 0) OVER (PARTITION BY vid, o1_oid, o2_oid ORDER BY fid) as fid_offset\n",
    "    FROM g1\n",
    ");\n",
    "CREATE TEMPORARY TABLE g1_contiguous AS (\n",
    "    SELECT vid, o1_oid, o2_oid, min(fid_offset) AS fid\n",
    "    FROM g1_windowed\n",
    "    WHERE fid_offset = fid + (15 - 1)\n",
    "    GROUP BY vid, o1_oid, o2_oid\n",
    ");\n",
    "CREATE TEMPORARY TABLE g2 AS SELECT fo.vid as vid, n.fid as fid, fo.oid1 as o1_oid, fo.oid2 as o3_oid FROM FrontOf fo, Near n WHERE fo.vid = n.vid and fo.fid = n.fid and fo.oid1 = n.oid1 and fo.oid2 = n.oid2;\n",
    "CREATE TEMPORARY TABLE g2_filtered AS (\n",
    "    SELECT t1.vid, t2.fid, t1.o1_oid, t1.o2_oid, t2.o3_oid\n",
    "    FROM g1_contiguous t1, g2 t2\n",
    "    WHERE t1.vid = t2.vid AND t1.o1_oid = t2.o1_oid and t1.o1_oid <> t2.o3_oid and t1.o2_oid <> t2.o3_oid AND t1.fid < t2.fid\n",
    ");\n",
    "CREATE TEMPORARY TABLE g2_windowed AS (\n",
    "    SELECT vid, fid, o1_oid, o2_oid, o3_oid,\n",
    "    lead(fid, 1 - 1, 0) OVER (PARTITION BY vid, o1_oid, o2_oid, o3_oid ORDER BY fid) as fid_offset\n",
    "    FROM g2_filtered\n",
    ");\n",
    "CREATE TEMPORARY TABLE g2_contiguous AS (\n",
    "    SELECT vid, o1_oid, o2_oid, o3_oid, min(fid_offset) AS fid\n",
    "    FROM g2_windowed\n",
    "    WHERE fid_offset = fid + (1 - 1)\n",
    "    GROUP BY vid, o1_oid, o2_oid, o3_oid\n",
    ");\n",
    "CREATE TEMPORARY TABLE g3 AS SELECT b.vid as vid, b.fid as fid, b.oid1 as o1_oid, b.oid2 as o3_oid FROM Behind as b, Far as f WHERE b.vid = f.vid and b.fid = f.fid and b.oid1 = f.oid1 and b.oid2 = f.oid2;\n",
    "CREATE TEMPORARY TABLE g3_filtered AS (\n",
    "    SELECT t1.vid, t2.fid, t1.o1_oid, t1.o2_oid, t1.o3_oid\n",
    "    FROM g2_contiguous t1, g3 t2\n",
    "    WHERE t1.vid = t2.vid AND t1.o1_oid = t2.o1_oid and t1.o3_oid = t2.o3_oid AND t1.fid < t2.fid\n",
    ");\n",
    "CREATE TEMPORARY TABLE g3_windowed AS (\n",
    "    SELECT vid, fid, o1_oid, o2_oid, o3_oid,\n",
    "    lead(fid, 5 - 1, 0) OVER (PARTITION BY vid, o1_oid, o2_oid, o3_oid ORDER BY fid) as fid_offset\n",
    "    FROM g3_filtered\n",
    ");\n",
    "CREATE TEMPORARY TABLE g3_contiguous AS (\n",
    "    SELECT vid, o1_oid, o2_oid, o3_oid, min(fid_offset) AS fid\n",
    "    FROM g3_windowed\n",
    "    WHERE fid_offset = fid + (5 - 1)\n",
    "    GROUP BY vid, o1_oid, o2_oid, o3_oid\n",
    ");\n",
    "SELECT distinct vid from g3_contiguous;\n",
    "### [Question] Find video segments that contain at least one instance of event where the first object is far from the second object, \n",
    "### then after some frames the first object is near the second object and the first object is behind the second object. \n",
    "[SQL]\n",
    "  \"\"\",\n",
    "  temperature=0,\n",
    "  max_tokens=4000,\n",
    "  top_p=1.0,\n",
    "  frequency_penalty=0.0,\n",
    "  presence_penalty=0.0,\n",
    "  stop=[\"#\"]\n",
    ")\n",
    "\n",
    "output = response.choices[0].text.replace('\\n', ' ')\n",
    "output = ' '.join(output.split())\n",
    "output "
   ]
  },
  {
   "cell_type": "code",
   "execution_count": 11,
   "metadata": {},
   "outputs": [
    {
     "name": "stdout",
     "output_type": "stream",
     "text": [
      "score: 0.9217160548429898, runtime: 0.3099250793457031\n"
     ]
    }
   ],
   "source": [
    "gt_query = \"Far_3(o0, o1); Conjunction(Near_1(o0, o1), Behind(o0, o1))\"\n",
    "predicate_list = (\"Far_3\", \"Near_1\", \"Behind\")\n",
    "synthesized_query = output\n",
    "evaluate_patsql(gt_query, predicate_list, 5432, 4, synthesized_query)"
   ]
  },
  {
   "cell_type": "code",
   "execution_count": 13,
   "metadata": {
    "scrolled": true
   },
   "outputs": [
    {
     "data": {
      "text/plain": [
       "'CREATE TEMPORARY TABLE g1 AS SELECT f.vid as vid, f.fid as fid, f.oid1 as o1_oid, f.oid2 as o2_oid FROM Far f; CREATE TEMPORARY TABLE g1_windowed AS ( SELECT vid, fid, o1_oid, o2_oid, lead(fid, 1 - 1, 0) OVER (PARTITION BY vid, o1_oid, o2_oid ORDER BY fid) as fid_offset FROM g1 ); CREATE TEMPORARY TABLE g1_contiguous AS ( SELECT vid, o1_oid, o2_oid, min(fid_offset) AS fid FROM g1_windowed WHERE fid_offset = fid + (1 - 1) GROUP BY vid, o1_oid, o2_oid ); CREATE TEMPORARY TABLE g2 AS SELECT n.vid as vid, n.fid as fid, n.oid1 as o1_oid, n.oid2 as o2_oid FROM Near n, Behind b WHERE n.vid = b.vid and n.fid = b.fid and n.oid1 = b.oid1 and n.oid2 = b.oid2; CREATE TEMPORARY TABLE g2_filtered AS ( SELECT t1.vid, t2.fid, t1.o1_oid, t1.o2_oid FROM g1_contiguous t1, g2 t2 WHERE t1.vid = t2.vid AND t1.o1_oid = t2.o1_oid and t1.o2_oid = t2.o2_oid AND t1.fid < t2.fid ); CREATE TEMPORARY TABLE g2_windowed AS ( SELECT vid, fid, o1_oid, o2_oid, lead(fid, 1 - 1, 0) OVER (PARTITION BY vid, o1_oid, o2_oid ORDER BY fid) as fid_offset FROM g2_filtered ); CREATE TEMPORARY TABLE g2_contiguous AS ( SELECT vid, o1_oid, o2_oid, min(fid_offset) AS fid FROM g2_windowed WHERE fid_offset = fid + (1 - 1) GROUP BY vid, o1_oid, o2_oid ); SELECT distinct vid from g2_contiguous;'"
      ]
     },
     "execution_count": 13,
     "metadata": {},
     "output_type": "execute_result"
    }
   ],
   "source": [
    "# One-shot (2)\n",
    "response = openai.Completion.create(\n",
    "  model=\"code-davinci-002\",\n",
    "  prompt=\"\"\"\n",
    "# CREATE TABLE Near(\n",
    "# oid1 int,\n",
    "# oid2 int,\n",
    "# vid int,\n",
    "# fid int)\n",
    "# CREATE TABLE Far(\n",
    "# oid1 int,\n",
    "# oid2 int,\n",
    "# vid int,\n",
    "# fid int) \n",
    "# CREATE TABLE Behind(\n",
    "# oid1 int,\n",
    "# oid2 int,\n",
    "# vid int,\n",
    "# fid int) \n",
    "# CREATE TABLE LeftOf(\n",
    "# oid1 int,\n",
    "# oid2 int,\n",
    "# vid int,\n",
    "# fid int) \n",
    "# CREATE TABLE Sphere(\n",
    "# oid1 int,\n",
    "# vid int,\n",
    "# fid int) \n",
    "# CREATE TABLE FrontOf(\n",
    "# oid1 int,\n",
    "# oid2 int,\n",
    "# vid int,\n",
    "# fid int) \n",
    "### Using valid Postgres SQL, answer the following questions for the tables provided above.\n",
    "### [Question] Find video segments that contain at least one instance of event where the first object is on the left of the second object, which is a sphere, for at least 15 frames, then after some frames the first object is in front of and close to the third object, then after some frames the first object is behind and far away from the third object for at least 5 frames. \n",
    "[SQL] CREATE TEMPORARY TABLE g1 AS SELECT lo.vid as vid, lo.fid as fid, lo.oid1 as o1_oid, lo.oid2 as o2_oid FROM LeftOf lo, Sphere s WHERE lo.vid = s.vid and lo.fid = s.fid and lo.oid2 = s.oid1;\n",
    "CREATE TEMPORARY TABLE g1_windowed AS (\n",
    "    SELECT vid, fid, o1_oid, o2_oid,\n",
    "    lead(fid, 15 - 1, 0) OVER (PARTITION BY vid, o1_oid, o2_oid ORDER BY fid) as fid_offset\n",
    "    FROM g1\n",
    ");\n",
    "CREATE TEMPORARY TABLE g1_contiguous AS (\n",
    "    SELECT vid, o1_oid, o2_oid, min(fid_offset) AS fid\n",
    "    FROM g1_windowed\n",
    "    WHERE fid_offset = fid + (15 - 1)\n",
    "    GROUP BY vid, o1_oid, o2_oid\n",
    ");\n",
    "CREATE TEMPORARY TABLE g2 AS SELECT fo.vid as vid, n.fid as fid, fo.oid1 as o1_oid, fo.oid2 as o3_oid FROM FrontOf fo, Near n WHERE fo.vid = n.vid and fo.fid = n.fid and fo.oid1 = n.oid1 and fo.oid2 = n.oid2;\n",
    "CREATE TEMPORARY TABLE g2_filtered AS (\n",
    "    SELECT t1.vid, t2.fid, t1.o1_oid, t1.o2_oid, t2.o3_oid\n",
    "    FROM g1_contiguous t1, g2 t2\n",
    "    WHERE t1.vid = t2.vid AND t1.o1_oid = t2.o1_oid and t1.o1_oid <> t2.o3_oid and t1.o2_oid <> t2.o3_oid AND t1.fid < t2.fid\n",
    ");\n",
    "CREATE TEMPORARY TABLE g2_windowed AS (\n",
    "    SELECT vid, fid, o1_oid, o2_oid, o3_oid,\n",
    "    lead(fid, 1 - 1, 0) OVER (PARTITION BY vid, o1_oid, o2_oid, o3_oid ORDER BY fid) as fid_offset\n",
    "    FROM g2_filtered\n",
    ");\n",
    "CREATE TEMPORARY TABLE g2_contiguous AS (\n",
    "    SELECT vid, o1_oid, o2_oid, o3_oid, min(fid_offset) AS fid\n",
    "    FROM g2_windowed\n",
    "    WHERE fid_offset = fid + (1 - 1)\n",
    "    GROUP BY vid, o1_oid, o2_oid, o3_oid\n",
    ");\n",
    "CREATE TEMPORARY TABLE g3 AS SELECT b.vid as vid, b.fid as fid, b.oid1 as o1_oid, b.oid2 as o3_oid FROM Behind as b, Far as f WHERE b.vid = f.vid and b.fid = f.fid and b.oid1 = f.oid1 and b.oid2 = f.oid2;\n",
    "CREATE TEMPORARY TABLE g3_filtered AS (\n",
    "    SELECT t1.vid, t2.fid, t1.o1_oid, t1.o2_oid, t1.o3_oid\n",
    "    FROM g2_contiguous t1, g3 t2\n",
    "    WHERE t1.vid = t2.vid AND t1.o1_oid = t2.o1_oid and t1.o3_oid = t2.o3_oid AND t1.fid < t2.fid\n",
    ");\n",
    "CREATE TEMPORARY TABLE g3_windowed AS (\n",
    "    SELECT vid, fid, o1_oid, o2_oid, o3_oid,\n",
    "    lead(fid, 5 - 1, 0) OVER (PARTITION BY vid, o1_oid, o2_oid, o3_oid ORDER BY fid) as fid_offset\n",
    "    FROM g3_filtered\n",
    ");\n",
    "CREATE TEMPORARY TABLE g3_contiguous AS (\n",
    "    SELECT vid, o1_oid, o2_oid, o3_oid, min(fid_offset) AS fid\n",
    "    FROM g3_windowed\n",
    "    WHERE fid_offset = fid + (5 - 1)\n",
    "    GROUP BY vid, o1_oid, o2_oid, o3_oid\n",
    ");\n",
    "SELECT distinct vid from g3_contiguous;\n",
    "### [Question] Find video segments that contain at least one instance of event where the first object is far from the second object, \n",
    "### then after some frames the first object is near and behind the second object.\n",
    "[SQL]\n",
    "  \"\"\",\n",
    "  temperature=0,\n",
    "  max_tokens=4000,\n",
    "  top_p=1.0,\n",
    "  frequency_penalty=0.0,\n",
    "  presence_penalty=0.0,\n",
    "  stop=[\"#\"]\n",
    ")\n",
    "\n",
    "output = response.choices[0].text.replace('\\n', ' ')\n",
    "output = ' '.join(output.split())\n",
    "output "
   ]
  },
  {
   "cell_type": "code",
   "execution_count": 14,
   "metadata": {},
   "outputs": [
    {
     "name": "stdout",
     "output_type": "stream",
     "text": [
      "score: 1.0, runtime: 0.2106492519378662\n"
     ]
    }
   ],
   "source": [
    "gt_query = \"Far_3(o0, o1); Conjunction(Near_1(o0, o1), Behind(o0, o1))\"\n",
    "predicate_list = (\"Far_3\", \"Near_1\", \"Behind\")\n",
    "synthesized_query = output\n",
    "evaluate_patsql(gt_query, predicate_list, 5432, 4, synthesized_query)"
   ]
  },
  {
   "cell_type": "code",
   "execution_count": 5,
   "metadata": {},
   "outputs": [
    {
     "data": {
      "text/plain": [
       "'Find video segments that contain at least one instance of event where the first object is far away from the second object for at least 1 frame, then after some frames the first object is close to and behind the second object for at least 1 frame. [SQL] CREATE TEMPORARY TABLE g1 AS SELECT f.vid as vid, f.fid as fid, f.oid1 as o1_oid, f.oid2 as o2_oid FROM Far f'"
      ]
     },
     "execution_count": 5,
     "metadata": {},
     "output_type": "execute_result"
    }
   ],
   "source": [
    "# SQL to text\n",
    "response = openai.Completion.create(\n",
    "  model=\"code-davinci-002\",\n",
    "  prompt=\"\"\"\n",
    "# CREATE TABLE Near(\n",
    "# oid1 int,\n",
    "# oid2 int,\n",
    "# vid int,\n",
    "# fid int)\n",
    "# CREATE TABLE Far(\n",
    "# oid1 int,\n",
    "# oid2 int,\n",
    "# vid int,\n",
    "# fid int) \n",
    "# CREATE TABLE Behind(\n",
    "# oid1 int,\n",
    "# oid2 int,\n",
    "# vid int,\n",
    "# fid int) \n",
    "### Explain what the following SQL does in natural language:\n",
    "[SQL] CREATE TEMPORARY TABLE g1 AS SELECT lo.vid as vid, lo.fid as fid, lo.oid1 as o1_oid, lo.oid2 as o2_oid FROM LeftOf lo, Sphere s WHERE lo.vid = s.vid and lo.fid = s.fid and lo.oid2 = s.oid1;\n",
    "CREATE TEMPORARY TABLE g1_windowed AS (\n",
    "    SELECT vid, fid, o1_oid, o2_oid,\n",
    "    lead(fid, 15 - 1, 0) OVER (PARTITION BY vid, o1_oid, o2_oid ORDER BY fid) as fid_offset\n",
    "    FROM g1\n",
    ");\n",
    "CREATE TEMPORARY TABLE g1_contiguous AS (\n",
    "    SELECT vid, o1_oid, o2_oid, min(fid_offset) AS fid\n",
    "    FROM g1_windowed\n",
    "    WHERE fid_offset = fid + (15 - 1)\n",
    "    GROUP BY vid, o1_oid, o2_oid\n",
    ");\n",
    "CREATE TEMPORARY TABLE g2 AS SELECT fo.vid as vid, n.fid as fid, fo.oid1 as o1_oid, fo.oid2 as o3_oid FROM FrontOf fo, Near n WHERE fo.vid = n.vid and fo.fid = n.fid and fo.oid1 = n.oid1 and fo.oid2 = n.oid2;\n",
    "CREATE TEMPORARY TABLE g2_filtered AS (\n",
    "    SELECT t1.vid, t2.fid, t1.o1_oid, t1.o2_oid, t2.o3_oid\n",
    "    FROM g1_contiguous t1, g2 t2\n",
    "    WHERE t1.vid = t2.vid AND t1.o1_oid = t2.o1_oid and t1.o1_oid <> t2.o3_oid and t1.o2_oid <> t2.o3_oid AND t1.fid < t2.fid\n",
    ");\n",
    "CREATE TEMPORARY TABLE g2_windowed AS (\n",
    "    SELECT vid, fid, o1_oid, o2_oid, o3_oid,\n",
    "    lead(fid, 1 - 1, 0) OVER (PARTITION BY vid, o1_oid, o2_oid, o3_oid ORDER BY fid) as fid_offset\n",
    "    FROM g2_filtered\n",
    ");\n",
    "CREATE TEMPORARY TABLE g2_contiguous AS (\n",
    "    SELECT vid, o1_oid, o2_oid, o3_oid, min(fid_offset) AS fid\n",
    "    FROM g2_windowed\n",
    "    WHERE fid_offset = fid + (1 - 1)\n",
    "    GROUP BY vid, o1_oid, o2_oid, o3_oid\n",
    ");\n",
    "CREATE TEMPORARY TABLE g3 AS SELECT b.vid as vid, b.fid as fid, b.oid1 as o1_oid, b.oid2 as o3_oid FROM Behind as b, Far as f WHERE b.vid = f.vid and b.fid = f.fid and b.oid1 = f.oid1 and b.oid2 = f.oid2;\n",
    "CREATE TEMPORARY TABLE g3_filtered AS (\n",
    "    SELECT t1.vid, t2.fid, t1.o1_oid, t1.o2_oid, t1.o3_oid\n",
    "    FROM g2_contiguous t1, g3 t2\n",
    "    WHERE t1.vid = t2.vid AND t1.o1_oid = t2.o1_oid and t1.o3_oid = t2.o3_oid AND t1.fid < t2.fid\n",
    ");\n",
    "CREATE TEMPORARY TABLE g3_windowed AS (\n",
    "    SELECT vid, fid, o1_oid, o2_oid, o3_oid,\n",
    "    lead(fid, 5 - 1, 0) OVER (PARTITION BY vid, o1_oid, o2_oid, o3_oid ORDER BY fid) as fid_offset\n",
    "    FROM g3_filtered\n",
    ");\n",
    "CREATE TEMPORARY TABLE g3_contiguous AS (\n",
    "    SELECT vid, o1_oid, o2_oid, o3_oid, min(fid_offset) AS fid\n",
    "    FROM g3_windowed\n",
    "    WHERE fid_offset = fid + (5 - 1)\n",
    "    GROUP BY vid, o1_oid, o2_oid, o3_oid\n",
    ");\n",
    "SELECT distinct vid from g3_contiguous;\n",
    "[Natural language] Find video segments that contain at least one instance of event where the first object is on the left of the second object, which is a sphere, for at least 15 frames, then after some frames the first object is in front of and close to the third object, then after some frames the first object is behind and far away from the third object for at least 5 frames. \n",
    "[SQL] CREATE TEMPORARY TABLE g1 AS SELECT f.vid as vid, f.fid as fid, f.oid1 as o1_oid, f.oid2 as o2_oid FROM Far f; CREATE TEMPORARY TABLE g1_windowed AS ( SELECT vid, fid, o1_oid, o2_oid, lead(fid, 1 - 1, 0) OVER (PARTITION BY vid, o1_oid, o2_oid ORDER BY fid) as fid_offset FROM g1 ); CREATE TEMPORARY TABLE g1_contiguous AS ( SELECT vid, o1_oid, o2_oid, min(fid_offset) AS fid FROM g1_windowed WHERE fid_offset = fid + (1 - 1) GROUP BY vid, o1_oid, o2_oid ); CREATE TEMPORARY TABLE g2 AS SELECT n.vid as vid, n.fid as fid, n.oid1 as o1_oid, n.oid2 as o2_oid FROM Near n, Behind b WHERE n.vid = b.vid and n.fid = b.fid and n.oid1 = b.oid1 and n.oid2 = b.oid2; CREATE TEMPORARY TABLE g2_filtered AS ( SELECT t1.vid, t2.fid, t1.o1_oid, t1.o2_oid FROM g1_contiguous t1, g2 t2 WHERE t1.vid = t2.vid AND t1.o1_oid = t2.o1_oid and t1.o2_oid = t2.o2_oid AND t1.fid < t2.fid ); CREATE TEMPORARY TABLE g2_windowed AS ( SELECT vid, fid, o1_oid, o2_oid, lead(fid, 1 - 1, 0) OVER (PARTITION BY vid, o1_oid, o2_oid ORDER BY fid) as fid_offset FROM g2_filtered ); CREATE TEMPORARY TABLE g2_contiguous AS ( SELECT vid, o1_oid, o2_oid, min(fid_offset) AS fid FROM g2_windowed WHERE fid_offset = fid + (1 - 1) GROUP BY vid, o1_oid, o2_oid ); SELECT distinct vid from g2_contiguous;\n",
    "[Natural language]\n",
    "  \"\"\",\n",
    "  temperature=0,\n",
    "  max_tokens=500,\n",
    "  top_p=1.0,\n",
    "  frequency_penalty=0.0,\n",
    "  presence_penalty=0.0,\n",
    "  stop=[\";\"]\n",
    ")\n",
    "\n",
    "output = response.choices[0].text.replace('\\n', ' ')\n",
    "output = ' '.join(output.split())\n",
    "output "
   ]
  },
  {
   "cell_type": "code",
   "execution_count": 16,
   "metadata": {},
   "outputs": [
    {
     "data": {
      "text/plain": [
       "'SELECT DISTINCT vid FROM Far WHERE oid1 IN ( SELECT oid1 FROM Near WHERE oid1 IN ( SELECT oid1 FROM Behind WHERE oid1 = Far.oid1 AND oid2 = Far.oid2 AND vid = Far.vid AND fid > Far.fid ) AND oid2 = Far.oid2 AND vid = Far.vid AND fid > Far.fid ) AND oid2 = Far.oid2 AND fid > Far.fid'"
      ]
     },
     "execution_count": 16,
     "metadata": {},
     "output_type": "execute_result"
    }
   ],
   "source": [
    "# Zero-shot (1)\n",
    "# not finished\n",
    "response = openai.Completion.create(\n",
    "  model=\"code-davinci-002\",\n",
    "  prompt=\"\"\"\n",
    "# CREATE TABLE Near(\n",
    "# oid1 int,\n",
    "# oid2 int,\n",
    "# vid int,\n",
    "# fid int)\n",
    "# CREATE TABLE Far(\n",
    "# oid1 int,\n",
    "# oid2 int,\n",
    "# vid int,\n",
    "# fid int) \n",
    "# CREATE TABLE Behind(\n",
    "# oid1 int,\n",
    "# oid2 int,\n",
    "# vid int,\n",
    "# fid int) \n",
    "### Using valid Postgres SQL, answer the following questions for the tables provided above, but don't use subqueries:\n",
    "### [Question] Find video segments that contain at least one instance of event where the first object is far from the second object, then after some frames the first object is near the second object and the first object is behind the second object. \n",
    "[SQL]\n",
    "  \"\"\",\n",
    "  temperature=0,\n",
    "  max_tokens=4000,\n",
    "  top_p=1.0,\n",
    "  frequency_penalty=0.0,\n",
    "  presence_penalty=0.0,\n",
    "  stop=[\"#\"]\n",
    ")\n",
    "\n",
    "output = response.choices[0].text.replace('\\n', ' ')\n",
    "output = ' '.join(output.split())\n",
    "output "
   ]
  },
  {
   "cell_type": "code",
   "execution_count": 17,
   "metadata": {},
   "outputs": [
    {
     "name": "stdout",
     "output_type": "stream",
     "text": [
      "score: 0.0, runtime: 0.030500173568725586\n"
     ]
    }
   ],
   "source": [
    "gt_query = \"Far_3(o0, o1); Conjunction(Near_1(o0, o1), Behind(o0, o1))\"\n",
    "predicate_list = (\"Far_3\", \"Near_1\", \"Behind\")\n",
    "synthesized_query = 'SELECT DISTINCT vid FROM Far WHERE oid1 IN ( SELECT oid1 FROM Near WHERE oid1 IN ( SELECT oid1 FROM Behind WHERE oid1 = Far.oid1 AND oid2 = Far.oid2 AND vid = Far.vid AND fid > Far.fid ) AND oid2 = Far.oid2 AND vid = Far.vid AND fid > Far.fid ) AND oid2 = Far.oid2 AND fid > Far.fid'\n",
    "evaluate_patsql(gt_query, predicate_list, 5432, 4, synthesized_query)"
   ]
  },
  {
   "cell_type": "code",
   "execution_count": 4,
   "metadata": {
    "scrolled": true
   },
   "outputs": [
    {
     "data": {
      "text/plain": [
       "'Far.oid1, Far.oid2, Far.vid, Far.fid FROM Far WHERE Far.fid IN ( SELECT Near.fid FROM Near WHERE Near.oid1 = Far.oid1 AND Near.oid2 = Far.oid2 AND Near.vid = Far.vid ) AND Far.fid IN ( SELECT Behind.fid FROM Behind WHERE Behind.oid1 = Far.oid1 AND Behind.oid2 = Far.oid2 AND Behind.vid = Far.vid ) AND Far.fid < ( SELECT Near.fid FROM Near WHERE Near.oid1 = Far.oid1 AND Near.oid2 = Far.oid2 AND Near.vid = Far.vid ) AND Far.fid < ( SELECT Behind.fid FROM Behind WHERE Behind.oid1 = Far.oid1 AND Behind.oid2 = Far.oid2 AND Behind.vid = Far.vid )'"
      ]
     },
     "execution_count": 4,
     "metadata": {},
     "output_type": "execute_result"
    }
   ],
   "source": [
    "# Zero-shot (2)\n",
    "response = openai.Completion.create(\n",
    "  model=\"code-davinci-002\",\n",
    "  prompt=\"\"\"\n",
    "# CREATE TABLE Near(\n",
    "# oid1 int,\n",
    "# oid2 int,\n",
    "# vid int,\n",
    "# fid int)\n",
    "# CREATE TABLE Far(\n",
    "# oid1 int,\n",
    "# oid2 int,\n",
    "# vid int,\n",
    "# fid int) \n",
    "# CREATE TABLE Behind(\n",
    "# oid1 int,\n",
    "# oid2 int,\n",
    "# vid int,\n",
    "# fid int) \n",
    "### Using valid Postgres SQL, answer the following questions for the tables provided above.\n",
    "### Find video segments that contain at least one instance of event where the first object is far from the second object, \n",
    "### then after some frames the first object is near the second object and the first object is behind the second object. \n",
    "SELECT\n",
    "  \"\"\",\n",
    "  temperature=0,\n",
    "  max_tokens=500,\n",
    "  top_p=1.0,\n",
    "  frequency_penalty=0.0,\n",
    "  presence_penalty=0.0,\n",
    "  stop=[\"#\", ';']\n",
    ")\n",
    "\n",
    "output = response.choices[0].text.replace('\\n', ' ')\n",
    "output = ' '.join(output.split())\n",
    "output "
   ]
  },
  {
   "cell_type": "code",
   "execution_count": 18,
   "metadata": {},
   "outputs": [
    {
     "name": "stdout",
     "output_type": "stream",
     "text": [
      "score: 0.0, runtime: 0.10769104957580566\n"
     ]
    }
   ],
   "source": [
    "gt_query = \"Far_3(o0, o1); Conjunction(Near_1(o0, o1), Behind(o0, o1))\"\n",
    "predicate_list = (\"Far_3\", \"Near_1\", \"Behind\")\n",
    "synthesized_query = 'SELECT Far.vid FROM Far WHERE Far.fid IN ( SELECT Near.fid FROM Near WHERE Near.oid1 = Far.oid1 AND Near.oid2 = Far.oid2 AND Near.vid = Far.vid ) AND Far.fid IN ( SELECT Behind.fid FROM Behind WHERE Behind.oid1 = Far.oid1 AND Behind.oid2 = Far.oid2 AND Behind.vid = Far.vid ) AND Far.fid < ( SELECT Near.fid FROM Near WHERE Near.oid1 = Far.oid1 AND Near.oid2 = Far.oid2 AND Near.vid = Far.vid ) AND Far.fid < ( SELECT Behind.fid FROM Behind WHERE Behind.oid1 = Far.oid1 AND Behind.oid2 = Far.oid2 AND Behind.vid = Far.vid )'\n",
    "evaluate_patsql(gt_query, predicate_list, 5432, 4, synthesized_query)"
   ]
  },
  {
   "cell_type": "markdown",
   "metadata": {},
   "source": [
    "## TQ4: Far(o1, o2); (Near(o1, o2), Behind(o1, o2), Left(o1))"
   ]
  },
  {
   "cell_type": "code",
   "execution_count": 27,
   "metadata": {},
   "outputs": [
    {
     "data": {
      "text/plain": [
       "'* FROM Far, Near, Behind, Left WHERE Far.oid1 = Near.oid1 AND Far.oid2 = Near.oid2 AND Far.vid = Near.vid AND Far.fid < Near.fid AND Far.oid1 = Behind.oid1 AND Far.oid2 = Behind.oid2 AND Far.vid = Behind.vid AND Far.fid < Behind.fid AND Far.oid1 = Left.oid1 AND Far.vid = Left.vid AND Far.fid < Left.fid'"
      ]
     },
     "execution_count": 27,
     "metadata": {},
     "output_type": "execute_result"
    }
   ],
   "source": [
    "response = openai.Completion.create(\n",
    "  model=\"code-davinci-002\",\n",
    "  prompt=\"\"\"\n",
    "# CREATE TABLE Near(\n",
    "# oid1 int,\n",
    "# oid2 int,\n",
    "# vid int,\n",
    "# fid int)\n",
    "# CREATE TABLE Far(\n",
    "# oid1 int,\n",
    "# oid2 int,\n",
    "# vid int,\n",
    "# fid int) \n",
    "# CREATE TABLE Behind(\n",
    "# oid1 int,\n",
    "# oid2 int,\n",
    "# vid int,\n",
    "# fid int) \n",
    "# CREATE TABLE Left(\n",
    "# oid1 int,\n",
    "# vid int,\n",
    "# fid int) \n",
    "### Using valid Postgres SQL, answer the following questions for the tables provided above.\n",
    "### Find video segments that contain at least one instance of event where the first object is far from the second object, \n",
    "### then after some frames the first object is near the second object while the first object is behind the second object \n",
    "### while the first object is on the left of the frame. \n",
    "SELECT\n",
    "  \"\"\",\n",
    "  temperature=0,\n",
    "  max_tokens=500,\n",
    "  top_p=1.0,\n",
    "  frequency_penalty=0.0,\n",
    "  presence_penalty=0.0,\n",
    "  stop=[\"#\", \";\"]\n",
    ")\n",
    "\n",
    "output = response.choices[0].text.replace('\\n', ' ')\n",
    "output = ' '.join(output.split())\n",
    "output "
   ]
  },
  {
   "cell_type": "markdown",
   "metadata": {},
   "source": [
    "score: 0.8169014084507042, runtime: 0.2393782138824463"
   ]
  },
  {
   "cell_type": "code",
   "execution_count": 28,
   "metadata": {
    "scrolled": true
   },
   "outputs": [
    {
     "data": {
      "text/plain": [
       "'Near.oid1, Near.oid2, Near.vid, Near.fid FROM Near INNER JOIN Far ON Near.oid1 = Far.oid1 AND Near.oid2 = Far.oid2 AND Near.vid = Far.vid AND Near.fid > Far.fid INNER JOIN Behind ON Near.oid1 = Behind.oid1 AND Near.oid2 = Behind.oid2 AND Near.vid = Behind.vid AND Near.fid = Behind.fid INNER JOIN Left ON Near.oid1 = Left.oid1 AND Near.vid = Left.vid AND Near.fid = Left.fid'"
      ]
     },
     "execution_count": 28,
     "metadata": {},
     "output_type": "execute_result"
    }
   ],
   "source": [
    "response = openai.Completion.create(\n",
    "  model=\"code-davinci-002\",\n",
    "  prompt=\"\"\"\n",
    "# CREATE TABLE Near(\n",
    "# oid1 int,\n",
    "# oid2 int,\n",
    "# vid int,\n",
    "# fid int)\n",
    "# CREATE TABLE Far(\n",
    "# oid1 int,\n",
    "# oid2 int,\n",
    "# vid int,\n",
    "# fid int) \n",
    "# CREATE TABLE Behind(\n",
    "# oid1 int,\n",
    "# oid2 int,\n",
    "# vid int,\n",
    "# fid int) \n",
    "# CREATE TABLE Left(\n",
    "# oid1 int,\n",
    "# vid int,\n",
    "# fid int) \n",
    "### Using valid Postgres SQL, answer the following questions for the tables provided above.\n",
    "### Find video segments that contain at least one instance of event where the first object is far from the second object, \n",
    "### then in some later frame the first object is near the second object while the first object is behind the second object \n",
    "### while the first object is on the left of the frame. \n",
    "SELECT\n",
    "  \"\"\",\n",
    "  temperature=0,\n",
    "  max_tokens=500,\n",
    "  top_p=1.0,\n",
    "  frequency_penalty=0.0,\n",
    "  presence_penalty=0.0,\n",
    "  stop=[\"#\", \";\"]\n",
    ")\n",
    "\n",
    "output = response.choices[0].text.replace('\\n', ' ')\n",
    "output = ' '.join(output.split())\n",
    "output "
   ]
  },
  {
   "cell_type": "markdown",
   "metadata": {},
   "source": [
    "score: 1.0, runtime: 0.0324854850769043"
   ]
  },
  {
   "cell_type": "markdown",
   "metadata": {},
   "source": [
    "## TQ1D: Duration(Far(𝑜1, 𝑜2), 5); Near(𝑜1, 𝑜2); Far(𝑜1, 𝑜2)"
   ]
  },
  {
   "cell_type": "code",
   "execution_count": 9,
   "metadata": {},
   "outputs": [
    {
     "data": {
      "text/plain": [
       "'Near.oid1, Near.oid2, Near.vid, Near.fid FROM Near WHERE Near.fid IN ( SELECT Far.fid FROM Far WHERE Far.oid1 = Near.oid1 AND Far.oid2 = Near.oid2 AND Far.vid = Near.vid AND Far.fid > Near.fid ) AND Near.fid IN ( SELECT Far.fid FROM Far WHERE Far.oid1 = Near.oid1 AND Far.oid2 = Near.oid2 AND Far.vid = Near.vid AND Far.fid > Near.fid ) AND Near.fid IN ( SELECT Far.fid FROM Far WHERE Far.oid1 = Near.oid1 AND Far.oid2 = Near.oid2 AND Far.vid = Near.vid AND Far.fid > Near.fid ) AND Near.fid IN ( SELECT Far.fid FROM Far WHERE Far.oid1 = Near.oid1 AND Far.oid2 = Near.oid2 AND Far.vid = Near.vid AND Far.fid > Near.fid ) AND Near.fid IN ( SELECT Far.fid FROM Far WHERE Far.oid1 = Near.oid1 AND Far.oid2 = Near.oid2 AND Far.vid = Near.vid AND Far.fid > Near.fid ) AND Near.fid IN ( SELECT Far.fid FROM Far WHERE Far.oid1 = Near.oid1 AND Far.oid2 = Near.oid2 AND Far.vid = Near.vid AND Far.fid > Near.fid ) AND Near.fid IN ( SELECT Far.fid'"
      ]
     },
     "execution_count": 9,
     "metadata": {},
     "output_type": "execute_result"
    }
   ],
   "source": [
    "response = openai.Completion.create(\n",
    "  model=\"code-davinci-002\",\n",
    "  prompt=\"\"\"\n",
    "# CREATE TABLE Near(\n",
    "# oid1 int,\n",
    "# oid2 int,\n",
    "# vid int,\n",
    "# fid int)\n",
    "# CREATE TABLE Far(\n",
    "# oid1 int,\n",
    "# oid2 int,\n",
    "# vid int,\n",
    "# fid int) \n",
    "### Using valid Postgres SQL, answer the following questions for the tables provided above, but don't use subqueries:\n",
    "### Find video segments that contain at least one instance of event where the first object is far from the second object for at least 5 frames, \n",
    "### then in some later frame the first object is near the second object, then in some later frame the first object is far from the second object.\n",
    "SELECT\n",
    "  \"\"\",\n",
    "  temperature=0,\n",
    "  max_tokens=500,\n",
    "  top_p=1.0,\n",
    "  frequency_penalty=0.0,\n",
    "  presence_penalty=0.0,\n",
    "  stop=[\"#\", \";\"]\n",
    ")\n",
    "\n",
    "output = response.choices[0].text.replace('\\n', ' ')\n",
    "output = ' '.join(output.split())\n",
    "output "
   ]
  },
  {
   "cell_type": "code",
   "execution_count": null,
   "metadata": {},
   "outputs": [],
   "source": [
    "gt_query = \"Duration(Far_3(o0, o1), 5); Near_1(o0, o1); Far_3(o0, o1)\"\n",
    "predicate_list = (\"Far_3\", \"Near_1\")\n",
    "synthesized_query = ''\n",
    "evaluate_patsql(gt_query, predicate_list, 5432, 4, synthesized_query)"
   ]
  },
  {
   "cell_type": "markdown",
   "metadata": {},
   "source": [
    "## TQ2D: Duration(LeftOf(𝑜1, 𝑜2), 5); (Near(𝑜1, 𝑜2), Top(𝑜1)); Duration(RightOf(𝑜1, 𝑜2), 5)"
   ]
  },
  {
   "cell_type": "code",
   "execution_count": 7,
   "metadata": {},
   "outputs": [
    {
     "data": {
      "text/plain": [
       "'LeftOf.vid, LeftOf.fid FROM LeftOf WHERE LeftOf.oid1 = 1 AND LeftOf.oid2 = 2 AND LeftOf.fid IN ( SELECT Near.fid FROM Near WHERE Near.oid1 = 1 AND Near.oid2 = 2 AND Near.fid IN ( SELECT RightOf.fid FROM RightOf WHERE RightOf.oid1 = 1 AND RightOf.oid2 = 2 AND RightOf.fid IN ( SELECT TopQuadrant.fid FROM TopQuadrant WHERE TopQuadrant.oid1 = 1 ) ) ) )'"
      ]
     },
     "execution_count": 7,
     "metadata": {},
     "output_type": "execute_result"
    }
   ],
   "source": [
    "response = openai.Completion.create(\n",
    "  model=\"code-davinci-002\",\n",
    "  prompt=\"\"\"\n",
    "# CREATE TABLE LeftOf(\n",
    "# oid1 int,\n",
    "# oid2 int,\n",
    "# vid int,\n",
    "# fid int)\n",
    "# CREATE TABLE RightOf(\n",
    "# oid1 int,\n",
    "# oid2 int,\n",
    "# vid int,\n",
    "# fid int)\n",
    "# CREATE TABLE Near(\n",
    "# oid1 int,\n",
    "# oid2 int,\n",
    "# vid int,\n",
    "# fid int) \n",
    "# CREATE TABLE TopQuadrant(\n",
    "# oid1 int,\n",
    "# vid int,\n",
    "# fid int)\n",
    "### Using valid Postgres SQL, answer the following questions for the tables provided above, but don't use subqueries:\n",
    "### Find video segments that contain at least one instance of event where the first object is on the left of the second object for at least 5 frames, \n",
    "### then after some frames the first object is near the second object while the first object is at the top quadrant of the frame, \n",
    "### then after some frames the first object is on the right of the second object for at least 5 frames.\n",
    "SELECT\n",
    "  \"\"\",\n",
    "  temperature=0,\n",
    "  max_tokens=500,\n",
    "  top_p=1.0,\n",
    "  frequency_penalty=0.0,\n",
    "  presence_penalty=0.0,\n",
    "  stop=[\"#\", \";\"]\n",
    ")\n",
    "\n",
    "output = response.choices[0].text.replace('\\n', ' ')\n",
    "output = ' '.join(output.split())\n",
    "output "
   ]
  },
  {
   "cell_type": "code",
   "execution_count": 11,
   "metadata": {},
   "outputs": [
    {
     "name": "stdout",
     "output_type": "stream",
     "text": [
      "score: 0.0, runtime: 0.01983785629272461\n"
     ]
    }
   ],
   "source": [
    "# Syntax Error \n",
    "gt_query = \"Duration(LeftOf(o0, o1), 5); Conjunction(Near_1(o0, o1), TopQuadrant(o0)); Duration(RightOf(o0, o1), 5)\"\n",
    "predicate_list = (\"LeftOf\", \"Near_1\", \"TopQuadrant\", \"RightOf\")\n",
    "synthesized_query = 'SELECT LeftOf.vid FROM LeftOf WHERE LeftOf.oid1 = 1 AND LeftOf.oid2 = 2 AND LeftOf.fid IN ( SELECT Near.fid FROM Near WHERE Near.oid1 = 1 AND Near.oid2 = 2 AND Near.fid IN ( SELECT RightOf.fid FROM RightOf WHERE RightOf.oid1 = 1 AND RightOf.oid2 = 2 AND RightOf.fid IN ( SELECT TopQuadrant.fid FROM TopQuadrant WHERE TopQuadrant.oid1 = 1 )  ) )'\n",
    "evaluate_patsql(gt_query, predicate_list, 5432, 4, synthesized_query)"
   ]
  },
  {
   "cell_type": "code",
   "execution_count": 3,
   "metadata": {},
   "outputs": [
    {
     "data": {
      "text/plain": [
       "'CREATE TEMPORARY TABLE g1 AS SELECT lo.vid as vid, lo.fid as fid, lo.oid1 as o1_oid, lo.oid2 as o2_oid FROM LeftOf lo; CREATE TEMPORARY TABLE g1_windowed AS ( SELECT vid, fid, o1_oid, o2_oid, lead(fid, 5 - 1, 0) OVER (PARTITION BY vid, o1_oid, o2_oid ORDER BY fid) as fid_offset FROM g1 ); CREATE TEMPORARY TABLE g1_contiguous AS ( SELECT vid, o1_oid, o2_oid, min(fid_offset) AS fid FROM g1_windowed WHERE fid_offset = fid + (5 - 1) GROUP BY vid, o1_oid, o2_oid ); CREATE TEMPORARY TABLE g2 AS SELECT n.vid as vid, n.fid as fid, n.oid1 as o1_oid, n.oid2 as o2_oid FROM Near n, TopQuadrant tq WHERE n.vid = tq.vid and n.fid = tq.fid and n.oid1 = tq.oid1; CREATE TEMPORARY TABLE g2_filtered AS ( SELECT t1.vid, t2.fid, t1.o1_oid, t1.o2_oid FROM g1_contiguous t1, g2 t2 WHERE t1.vid = t2.vid AND t1.o1_oid = t2.o1_oid and t1.o2_oid = t2.o2_oid AND t1.fid < t2.fid ); CREATE TEMPORARY TABLE g2_windowed AS ( SELECT vid, fid, o1_oid, o2_oid, lead(fid, 1 - 1, 0) OVER (PARTITION BY vid, o1_oid, o2_oid ORDER BY fid) as fid_offset FROM g2_filtered ); CREATE TEMPORARY TABLE g2_contiguous AS ( SELECT vid, o1_oid, o2_oid, min(fid_offset) AS fid FROM g2_windowed WHERE fid_offset = fid + (1 - 1) GROUP BY vid, o1_oid, o2_oid ); CREATE TEMPORARY TABLE g3 AS SELECT ro.vid as vid, ro.fid as fid, ro.oid1 as o1_oid, ro.oid2 as o2_oid FROM RightOf ro; CREATE TEMPORARY TABLE g3_filtered AS ( SELECT t1.vid, t2.fid, t1.o1_oid, t1.o2_oid FROM g2_contiguous t1, g3 t2 WHERE t1.vid = t2.vid AND t1.o1_oid = t2.o1_oid and t1.o2_oid = t2.o2_oid AND t1.fid < t2.fid ); CREATE TEMPORARY TABLE g3_windowed AS ( SELECT vid, fid, o1_oid, o2_oid, lead(fid, 5 - 1, 0) OVER (PARTITION BY vid, o1_oid, o2_oid ORDER BY fid) as fid_offset FROM g3_filtered ); CREATE TEMPORARY TABLE g3_contiguous AS ( SELECT vid, o1_oid, o2_oid, min(fid_offset) AS fid FROM g3_windowed WHERE fid_offset = fid + (5 - 1) GROUP BY vid, o1_oid, o2_oid ); SELECT distinct vid from g3_contiguous;'"
      ]
     },
     "execution_count": 3,
     "metadata": {},
     "output_type": "execute_result"
    }
   ],
   "source": [
    "# One-shot\n",
    "# \n",
    "response = openai.Completion.create(\n",
    "  model=\"code-davinci-002\",\n",
    "  prompt=\"\"\"\n",
    "# CREATE TABLE Near(\n",
    "# oid1 int,\n",
    "# oid2 int,\n",
    "# vid int,\n",
    "# fid int)\n",
    "# CREATE TABLE Far(\n",
    "# oid1 int,\n",
    "# oid2 int,\n",
    "# vid int,\n",
    "# fid int) \n",
    "# CREATE TABLE Behind(\n",
    "# oid1 int,\n",
    "# oid2 int,\n",
    "# vid int,\n",
    "# fid int) \n",
    "# CREATE TABLE LeftOf(\n",
    "# oid1 int,\n",
    "# oid2 int,\n",
    "# vid int,\n",
    "# fid int) \n",
    "# CREATE TABLE Sphere(\n",
    "# oid1 int,\n",
    "# vid int,\n",
    "# fid int) \n",
    "# CREATE TABLE FrontOf(\n",
    "# oid1 int,\n",
    "# oid2 int,\n",
    "# vid int,\n",
    "# fid int) \n",
    "# CREATE TABLE RightOf(\n",
    "# oid1 int,\n",
    "# oid2 int,\n",
    "# vid int,\n",
    "# fid int)\n",
    "# CREATE TABLE TopQuadrant(\n",
    "# oid1 int,\n",
    "# vid int,\n",
    "# fid int)\n",
    "### Using valid Postgres SQL, answer the following questions for the tables provided above.\n",
    "### [Question] Find video segments that contain at least one instance of event where the first object is on the left of the second object, which is a sphere, for at least 15 frames, then after some frames the first object is in front of and close to the third object, then after some frames the first object is behind and far away from the third object for at least 5 frames. \n",
    "[SQL] CREATE TEMPORARY TABLE g1 AS SELECT lo.vid as vid, lo.fid as fid, lo.oid1 as o1_oid, lo.oid2 as o2_oid FROM LeftOf lo, Sphere s WHERE lo.vid = s.vid and lo.fid = s.fid and lo.oid2 = s.oid1;\n",
    "CREATE TEMPORARY TABLE g1_windowed AS (\n",
    "    SELECT vid, fid, o1_oid, o2_oid,\n",
    "    lead(fid, 15 - 1, 0) OVER (PARTITION BY vid, o1_oid, o2_oid ORDER BY fid) as fid_offset\n",
    "    FROM g1\n",
    ");\n",
    "CREATE TEMPORARY TABLE g1_contiguous AS (\n",
    "    SELECT vid, o1_oid, o2_oid, min(fid_offset) AS fid\n",
    "    FROM g1_windowed\n",
    "    WHERE fid_offset = fid + (15 - 1)\n",
    "    GROUP BY vid, o1_oid, o2_oid\n",
    ");\n",
    "CREATE TEMPORARY TABLE g2 AS SELECT fo.vid as vid, n.fid as fid, fo.oid1 as o1_oid, fo.oid2 as o3_oid FROM FrontOf fo, Near n WHERE fo.vid = n.vid and fo.fid = n.fid and fo.oid1 = n.oid1 and fo.oid2 = n.oid2;\n",
    "CREATE TEMPORARY TABLE g2_filtered AS (\n",
    "    SELECT t1.vid, t2.fid, t1.o1_oid, t1.o2_oid, t2.o3_oid\n",
    "    FROM g1_contiguous t1, g2 t2\n",
    "    WHERE t1.vid = t2.vid AND t1.o1_oid = t2.o1_oid and t1.o1_oid <> t2.o3_oid and t1.o2_oid <> t2.o3_oid AND t1.fid < t2.fid\n",
    ");\n",
    "CREATE TEMPORARY TABLE g2_windowed AS (\n",
    "    SELECT vid, fid, o1_oid, o2_oid, o3_oid,\n",
    "    lead(fid, 1 - 1, 0) OVER (PARTITION BY vid, o1_oid, o2_oid, o3_oid ORDER BY fid) as fid_offset\n",
    "    FROM g2_filtered\n",
    ");\n",
    "CREATE TEMPORARY TABLE g2_contiguous AS (\n",
    "    SELECT vid, o1_oid, o2_oid, o3_oid, min(fid_offset) AS fid\n",
    "    FROM g2_windowed\n",
    "    WHERE fid_offset = fid + (1 - 1)\n",
    "    GROUP BY vid, o1_oid, o2_oid, o3_oid\n",
    ");\n",
    "CREATE TEMPORARY TABLE g3 AS SELECT b.vid as vid, b.fid as fid, b.oid1 as o1_oid, b.oid2 as o3_oid FROM Behind as b, Far as f WHERE b.vid = f.vid and b.fid = f.fid and b.oid1 = f.oid1 and b.oid2 = f.oid2;\n",
    "CREATE TEMPORARY TABLE g3_filtered AS (\n",
    "    SELECT t1.vid, t2.fid, t1.o1_oid, t1.o2_oid, t1.o3_oid\n",
    "    FROM g2_contiguous t1, g3 t2\n",
    "    WHERE t1.vid = t2.vid AND t1.o1_oid = t2.o1_oid and t1.o3_oid = t2.o3_oid AND t1.fid < t2.fid\n",
    ");\n",
    "CREATE TEMPORARY TABLE g3_windowed AS (\n",
    "    SELECT vid, fid, o1_oid, o2_oid, o3_oid,\n",
    "    lead(fid, 5 - 1, 0) OVER (PARTITION BY vid, o1_oid, o2_oid, o3_oid ORDER BY fid) as fid_offset\n",
    "    FROM g3_filtered\n",
    ");\n",
    "CREATE TEMPORARY TABLE g3_contiguous AS (\n",
    "    SELECT vid, o1_oid, o2_oid, o3_oid, min(fid_offset) AS fid\n",
    "    FROM g3_windowed\n",
    "    WHERE fid_offset = fid + (5 - 1)\n",
    "    GROUP BY vid, o1_oid, o2_oid, o3_oid\n",
    ");\n",
    "SELECT distinct vid from g3_contiguous;\n",
    "### [Question] Find video segments that contain at least one instance of event where the first object is on the left of the second object for at least 5 frames, \n",
    "### then after some frames the first object is near the second object while the first object is at the top of the frame, \n",
    "### then after some frames the first object is on the right of the second object for at least 5 frames.\n",
    "[SQL]\n",
    "  \"\"\",\n",
    "  temperature=0,\n",
    "  max_tokens=4000,\n",
    "  top_p=1.0,\n",
    "  frequency_penalty=0.0,\n",
    "  presence_penalty=0.0,\n",
    "  stop=[\"#\"]\n",
    ")\n",
    "\n",
    "output = response.choices[0].text.replace('\\n', ' ')\n",
    "output = ' '.join(output.split())\n",
    "output "
   ]
  },
  {
   "cell_type": "code",
   "execution_count": 4,
   "metadata": {},
   "outputs": [
    {
     "name": "stdout",
     "output_type": "stream",
     "text": [
      "score: 1.0, runtime: 0.32694387435913086\n"
     ]
    }
   ],
   "source": [
    "gt_query = \"Duration(LeftOf(o0, o1), 5); Conjunction(Near_1(o0, o1), TopQuadrant(o0)); Duration(RightOf(o0, o1), 5)\"\n",
    "predicate_list = (\"LeftOf\", \"Near_1\", \"TopQuadrant\", \"RightOf\")\n",
    "synthesized_query = 'CREATE TEMPORARY TABLE g1 AS SELECT lo.vid as vid, lo.fid as fid, lo.oid1 as o1_oid, lo.oid2 as o2_oid FROM LeftOf lo; CREATE TEMPORARY TABLE g1_windowed AS ( SELECT vid, fid, o1_oid, o2_oid, lead(fid, 5 - 1, 0) OVER (PARTITION BY vid, o1_oid, o2_oid ORDER BY fid) as fid_offset FROM g1 ); CREATE TEMPORARY TABLE g1_contiguous AS ( SELECT vid, o1_oid, o2_oid, min(fid_offset) AS fid FROM g1_windowed WHERE fid_offset = fid + (5 - 1) GROUP BY vid, o1_oid, o2_oid ); CREATE TEMPORARY TABLE g2 AS SELECT n.vid as vid, n.fid as fid, n.oid1 as o1_oid, n.oid2 as o2_oid FROM Near n, TopQuadrant tq WHERE n.vid = tq.vid and n.fid = tq.fid and n.oid1 = tq.oid1; CREATE TEMPORARY TABLE g2_filtered AS ( SELECT t1.vid, t2.fid, t1.o1_oid, t1.o2_oid FROM g1_contiguous t1, g2 t2 WHERE t1.vid = t2.vid AND t1.o1_oid = t2.o1_oid and t1.o2_oid = t2.o2_oid AND t1.fid < t2.fid ); CREATE TEMPORARY TABLE g2_windowed AS ( SELECT vid, fid, o1_oid, o2_oid, lead(fid, 1 - 1, 0) OVER (PARTITION BY vid, o1_oid, o2_oid ORDER BY fid) as fid_offset FROM g2_filtered ); CREATE TEMPORARY TABLE g2_contiguous AS ( SELECT vid, o1_oid, o2_oid, min(fid_offset) AS fid FROM g2_windowed WHERE fid_offset = fid + (1 - 1) GROUP BY vid, o1_oid, o2_oid ); CREATE TEMPORARY TABLE g3 AS SELECT ro.vid as vid, ro.fid as fid, ro.oid1 as o1_oid, ro.oid2 as o2_oid FROM RightOf ro; CREATE TEMPORARY TABLE g3_filtered AS ( SELECT t1.vid, t2.fid, t1.o1_oid, t1.o2_oid FROM g2_contiguous t1, g3 t2 WHERE t1.vid = t2.vid AND t1.o1_oid = t2.o1_oid and t1.o2_oid = t2.o2_oid AND t1.fid < t2.fid ); CREATE TEMPORARY TABLE g3_windowed AS ( SELECT vid, fid, o1_oid, o2_oid, lead(fid, 5 - 1, 0) OVER (PARTITION BY vid, o1_oid, o2_oid ORDER BY fid) as fid_offset FROM g3_filtered ); CREATE TEMPORARY TABLE g3_contiguous AS ( SELECT vid, o1_oid, o2_oid, min(fid_offset) AS fid FROM g3_windowed WHERE fid_offset = fid + (5 - 1) GROUP BY vid, o1_oid, o2_oid ); SELECT distinct vid from g3_contiguous;'\n",
    "evaluate_patsql(gt_query, predicate_list, 5432, 4, synthesized_query)"
   ]
  },
  {
   "cell_type": "code",
   "execution_count": null,
   "metadata": {},
   "outputs": [],
   "source": []
  }
 ],
 "metadata": {
  "kernelspec": {
   "display_name": "Python 3",
   "language": "python",
   "name": "python3"
  },
  "language_info": {
   "codemirror_mode": {
    "name": "ipython",
    "version": 3
   },
   "file_extension": ".py",
   "mimetype": "text/x-python",
   "name": "python",
   "nbconvert_exporter": "python",
   "pygments_lexer": "ipython3",
   "version": "3.9.13"
  },
  "vscode": {
   "interpreter": {
    "hash": "f9f85f796d01129d0dd105a088854619f454435301f6ffec2fea96ecbd9be4ac"
   }
  }
 },
 "nbformat": 4,
 "nbformat_minor": 5
}
