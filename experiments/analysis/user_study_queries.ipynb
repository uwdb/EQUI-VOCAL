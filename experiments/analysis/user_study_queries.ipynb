{
 "cells": [
  {
   "cell_type": "code",
   "execution_count": 2,
   "metadata": {},
   "outputs": [],
   "source": [
    "import matplotlib\n",
    "import matplotlib.pyplot as plt\n",
    "import numpy as np\n",
    "import os\n",
    "import json\n",
    "# from src.utils import program_to_dsl, dsl_to_program\n",
    "import seaborn as sns\n",
    "\n",
    "CB_color_cycle = ['#377eb8', '#ff7f00', '#4daf4a',\n",
    "                  '#f781bf', '#a65628', '#984ea3',\n",
    "                  '#999999', '#e41a1c', '#dede00']"
   ]
  },
  {
   "cell_type": "code",
   "execution_count": 6,
   "metadata": {},
   "outputs": [
    {
     "name": "stdout",
     "output_type": "stream",
     "text": [
      "# init examples: 10, # data: 20, f1_median: 1.0, runtime_median: 392.0\n",
      "# init examples: 15, # data: 20, f1_median: 1.0, runtime_median: 391.0\n",
      "# init examples: 10, # data: 20, f1_median: 0.949, runtime_median: 443.0\n",
      "# init examples: 15, # data: 20, f1_median: 0.941, runtime_median: 429.0\n",
      "# init examples: 10, # data: 20, f1_median: 0.41, runtime_median: 441.0\n",
      "# init examples: 15, # data: 20, f1_median: 0.791, runtime_median: 600.0\n",
      "# init examples: 10, # data: 20, f1_median: 0.975, runtime_median: 346.0\n",
      "# init examples: 15, # data: 20, f1_median: 0.992, runtime_median: 335.0\n",
      "# init examples: 10, # data: 20, f1_median: 0.983, runtime_median: 295.0\n",
      "# init examples: 15, # data: 20, f1_median: 0.946, runtime_median: 310.0\n",
      "# init examples: 10, # data: 20, f1_median: 0.312, runtime_median: 445.0\n",
      "# init examples: 15, # data: 20, f1_median: 0.406, runtime_median: 456.0\n"
     ]
    },
    {
     "data": {
      "image/png": "[encoded data removed]",
      "text/plain": [
       "<Figure size 720x288 with 12 Axes>"
      ]
     },
     "metadata": {
      "needs_background": "light"
     },
     "output_type": "display_data"
    }
   ],
   "source": [
    "def plot_scene_graph(init_example, bw, pool_size):\n",
    "    queries = [\n",
    "        \"(Color_red(o0), Far_3.0(o0, o1), Shape_cylinder(o1)); Near_1.0(o0, o1)\",\n",
    "        \"(Color_red(o0), Far_3.0(o0, o1), Shape_cylinder(o1)); (Near_1.0(o0, o1), RightQuadrant(o2), TopQuadrant(o2))\",\n",
    "        \"Duration((Color_red(o0), Far_3.0(o0, o1), Shape_cylinder(o1)), 25); (Near_1.0(o0, o1), RightQuadrant(o2), TopQuadrant(o2))\",\n",
    "        \"(Behind(o0, o1), BottomQuadrant(o1), Color_purple(o0), material_metal(o0))\",\n",
    "        \"(Behind(o0, o1), BottomQuadrant(o1), Color_purple(o0), material_metal(o0)); TopQuadrant(o1)\",\n",
    "        \"(Behind(o0, o1), BottomQuadrant(o1), Color_purple(o0), material_metal(o0)); TopQuadrant(o1); Duration((BottomQuadrant(o2), RightQuadrant(o2)), 25)\"\n",
    "    ]\n",
    "    pool_sizes = [25, 50, 100]\n",
    "    init_examples = [10, 15]\n",
    "    bws = [5, 7, 10]\n",
    "    if init_example is None: \n",
    "        plot_vars = init_examples\n",
    "        var_name = \"# init examples\"\n",
    "    elif bw is None: \n",
    "        plot_vars = bws\n",
    "        var_name = \"bw\"\n",
    "    elif pool_size is None: \n",
    "        plot_vars = pool_sizes\n",
    "        var_name = \"pool size\"\n",
    "    exp_dir = \"/gscratch/balazinska/enhaoz/complex_event_video/outputs/user_study_queries_scene_graph/stats/vocal_postgres-topk\"\n",
    "    \n",
    "    fig, axs = plt.subplots(2, len(queries), figsize = (10, 4))\n",
    "    \n",
    "    \n",
    "    for qid, query in enumerate(queries):\n",
    "        \n",
    "        handles_f1 = []\n",
    "        handles_runtime = []\n",
    "        legend_labels = []\n",
    "\n",
    "        f1_data = []\n",
    "        runtime_data = []\n",
    "        for plot_var in plot_vars:\n",
    "            f1 = []\n",
    "            runtime = []\n",
    "            if init_example is None: \n",
    "                dir_name = os.path.join(exp_dir, \"nip_{}-nin_{}-npred_7-depth_3-max_d_75-nvars_3-bw_{}-pool_size_{}-n_sampled_videos_100-k_100-budget_50-thread_4-lru_None-lambda_0.001\".format(plot_var, plot_var, bw, pool_size))\n",
    "            elif bw is None: \n",
    "                dir_name = os.path.join(exp_dir, \"nip_{}-nin_{}-npred_7-depth_3-max_d_75-nvars_3-bw_{}-pool_size_{}-n_sampled_videos_100-k_100-budget_50-thread_4-lru_None-lambda_0.001\".format(init_example, init_example, plot_var, pool_size))\n",
    "            elif pool_size is None: \n",
    "                dir_name = os.path.join(exp_dir, \"nip_{}-nin_{}-npred_7-depth_3-max_d_75-nvars_3-bw_{}-pool_size_{}-n_sampled_videos_100-k_100-budget_50-thread_4-lru_None-lambda_0.001\".format(init_example, init_example, bw, plot_var))\n",
    "            with open(os.path.join(dir_name, \"{}.json\".format(query)), \"r\") as f:\n",
    "                stats = json.load(f)\n",
    "            f1.extend(stats[\"score_median\"])\n",
    "            runtime.extend(stats[\"runtime\"])\n",
    "\n",
    "            f1 = np.array(f1)\n",
    "            runtime = np.array(runtime)\n",
    "            if np.all(f1 == -1):\n",
    "                f1 = np.zeros_like(f1)\n",
    "            else:\n",
    "                f1[f1 == -1] = np.nan\n",
    "            f1 = f1[~np.isnan(f1)]\n",
    "            if np.all(runtime == -1):\n",
    "                runtime = np.zeros_like(runtime)\n",
    "            else:\n",
    "                runtime[runtime == -1] = np.nan\n",
    "            runtime = runtime[~np.isnan(runtime)]\n",
    "            print(\"{}: {}, # data: {}, f1_median: {}, runtime_median: {}\".format(var_name, plot_var, len(f1), np.round(np.median(f1), 3), np.round(np.median(runtime))))\n",
    "            f1_data.append(f1)\n",
    "            runtime_data.append(runtime)\n",
    "\n",
    "        bp_f1 = axs[0][qid].boxplot(f1_data, \n",
    "                       positions=np.array(range(len(f1_data))), \n",
    "                       sym='.', widths=0.6, showfliers=False, patch_artist=True, boxprops=dict(facecolor=CB_color_cycle[0], hatch = '...'),\n",
    "                       medianprops = dict(color='black'))   \n",
    "        bp_runtime = axs[1][qid].boxplot(runtime_data, \n",
    "                       positions=np.array(range(len(runtime_data))), \n",
    "                       sym='.', widths=0.6, showfliers=False, patch_artist=True, boxprops=dict(facecolor=CB_color_cycle[1], hatch = '..'),\n",
    "                       medianprops = dict(color='black'))   \n",
    "        handles_f1.append(bp_f1[\"boxes\"][0])\n",
    "        handles_runtime.append(bp_runtime[\"boxes\"][0])\n",
    "        \n",
    "        axs[0][qid].set(xlabel=var_name, ylabel=\"F1 score\")\n",
    "        axs[0][qid].set_ylim(bottom=0, top=1.05)\n",
    "        axs[0][qid].set_xticks(range(0, len(plot_vars), 1), plot_vars)\n",
    "        axs[0][qid].set_title(\"qid: {}\".format(qid), fontsize=10)\n",
    "        \n",
    "        axs[1][qid].set(xlabel=var_name, ylabel=\"Time (sec)\")\n",
    "#         axs[1][qid].set_ylim(bottom=0, top=1.05)\n",
    "        axs[1][qid].set_xticks(range(0, len(plot_vars), 1), plot_vars)\n",
    "        axs[1][qid].set_title(\"qid: {}\".format(qid), fontsize=10)\n",
    "        axs[1][qid].set_ylim(bottom=0)\n",
    "    #     ax.set_yscale('log')\n",
    "#         ax.set_xticks(range(0, len(cpu_values), 1), cpu_values)\n",
    "    for ax in axs.flat:\n",
    "        ax.label_outer()\n",
    "    plt.subplots_adjust(bottom=0.15)\n",
    "    fig.suptitle(\"# init examples: {}, bw: {}, pool size: {}\".format(init_example, bw, pool_size), fontsize=10)\n",
    "    fig.tight_layout()\n",
    "    \n",
    "#     plt.savefig(\"figures/vary_cpu.pdf\", bbox_inches='tight', pad_inches=0, dpi=600)\n",
    "\n",
    "# plot_scene_graph(init_example=10, bw=7, pool_size=None)\n",
    "# plot_scene_graph(init_example=15, bw=7, pool_size=None)\n",
    "# plot_scene_graph(init_example=10, bw=10, pool_size=None)\n",
    "# plot_scene_graph(init_example=15, bw=10, pool_size=None)\n",
    "\n",
    "plot_scene_graph(init_example=None, bw=5, pool_size=25)\n",
    "# plot_scene_graph(init_example=None, bw=7, pool_size=50)\n",
    "# plot_scene_graph(init_example=None, bw=7, pool_size=100)\n",
    "\n",
    "# plot_scene_graph(init_example=10, bw=None, pool_size=25)\n",
    "# plot_scene_graph(init_example=15, bw=None, pool_size=25)\n",
    "# plot_scene_graph(init_example=10, bw=None, pool_size=25)"
   ]
  },
  {
   "cell_type": "code",
   "execution_count": null,
   "metadata": {},
   "outputs": [],
   "source": []
  }
 ],
 "metadata": {
  "kernelspec": {
   "display_name": "Python 3 (ipykernel)",
   "language": "python",
   "name": "python3"
  },
  "language_info": {
   "codemirror_mode": {
    "name": "ipython",
    "version": 3
   },
   "file_extension": ".py",
   "mimetype": "text/x-python",
   "name": "python",
   "nbconvert_exporter": "python",
   "pygments_lexer": "ipython3",
   "version": "3.10.4"
  },
  "vscode": {
   "interpreter": {
    "hash": "f9f85f796d01129d0dd105a088854619f454435301f6ffec2fea96ecbd9be4ac"
   }
  }
 },
 "nbformat": 4,
 "nbformat_minor": 4
}
